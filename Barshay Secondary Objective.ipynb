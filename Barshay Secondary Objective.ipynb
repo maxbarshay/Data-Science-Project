{
 "cells": [
  {
   "cell_type": "markdown",
   "metadata": {},
   "source": [
    "# Barshay Second Objective\n",
    "## A very unsupervised notebook\n"
   ]
  },
  {
   "cell_type": "markdown",
   "metadata": {},
   "source": [
    "Most of what I would say here was probably already said in *Barshay Secondary Objective Identification and Description.ipynb* so go check that out if you have not already. Briefly, I will say that my goal here is not to make predictions, I made enough of those in my main objective fitting virtually every scikit-learn machine learning model on the data that I knew about. A lot of this objective was completed in two stages, the first stage where I tried a bunch of various clustering techniques, and the second stage where I learned from some mistakes and was able to make significant improvements."
   ]
  },
  {
   "cell_type": "code",
   "execution_count": 708,
   "metadata": {},
   "outputs": [],
   "source": [
    "from bs4 import BeautifulSoup\n",
    "import json\n",
    "import pandas as pd\n",
    "import sklearn\n",
    "from collections import Counter\n",
    "from sklearn.feature_extraction.text import CountVectorizer\n",
    "from sklearn.feature_extraction.text import TfidfVectorizer\n",
    "from pandas.io.json import json_normalize\n",
    "from sklearn.metrics.pairwise import cosine_similarity\n",
    "import numpy as np\n",
    "import scipy.sparse\n",
    "from sklearn.decomposition import PCA\n",
    "from altair import * \n",
    "from sklearn.cluster import KMeans\n",
    "from sklearn.cluster import AgglomerativeClustering\n",
    "from scipy.cluster.hierarchy import fcluster, linkage, dendrogram\n",
    "import matplotlib.pyplot as plt\n",
    "import re\n",
    "from sklearn.pipeline import Pipeline\n",
    "%matplotlib inline\n",
    "\n",
    "pd.options.display.max_rows = 30"
   ]
  },
  {
   "cell_type": "code",
   "execution_count": 709,
   "metadata": {},
   "outputs": [],
   "source": [
    "records_train = []\n",
    "with open(\"/Users/mdbarshay/Desktop/DATA 301 Project/tensorflow2-question-answering/simplified-nq-train.jsonl\") as f:\n",
    "    v = 0\n",
    "    for line in f:\n",
    "        records_train.append(json.loads(line))\n",
    "        v += 1\n",
    "        if v > 1000:\n",
    "            break"
   ]
  },
  {
   "cell_type": "markdown",
   "metadata": {},
   "source": [
    "I want to now just analyze the question text and do some clustering on it."
   ]
  },
  {
   "cell_type": "code",
   "execution_count": 710,
   "metadata": {},
   "outputs": [],
   "source": [
    "training_frame = json_normalize(records_train)"
   ]
  },
  {
   "cell_type": "code",
   "execution_count": 711,
   "metadata": {},
   "outputs": [],
   "source": [
    "all_questions = training_frame[\"question_text\"]"
   ]
  },
  {
   "cell_type": "code",
   "execution_count": 712,
   "metadata": {},
   "outputs": [
    {
     "data": {
      "text/plain": [
       "0       which is the most common use of opt-in e-mail ...\n",
       "1                 how i.met your mother who is the mother\n",
       "2        what type of fertilisation takes place in humans\n",
       "3                        who had the most wins in the nfl\n",
       "4         what happened to the lost settlement of roanoke\n",
       "                              ...                        \n",
       "996      the area between the tigris and euphrates rivers\n",
       "997     the most recent revision of the apa ethics cod...\n",
       "998                    toby keith - i wanna talk about me\n",
       "999     where does an apple a day keeps the doctor awa...\n",
       "1000    what type of oxide are formed when metal combi...\n",
       "Name: question_text, Length: 1001, dtype: object"
      ]
     },
     "execution_count": 712,
     "metadata": {},
     "output_type": "execute_result"
    }
   ],
   "source": [
    "all_questions"
   ]
  },
  {
   "cell_type": "markdown",
   "metadata": {},
   "source": [
    "I am going to use PCA in order to display this data in two dimensions to see if there are any clear patterns in the data. Since this data is in the form of words (sentences), we cannot simply put it through PCA as words, we need to translate it into something that a machine can understand. For this, I will use a count vectorizer, since I believe common words will be less of a problem in the questions as compared to in the document text since hopefully the questions get to the \"meat\" of the question more. (in hindsight this might have been a naive assumption)."
   ]
  },
  {
   "cell_type": "code",
   "execution_count": 713,
   "metadata": {},
   "outputs": [],
   "source": [
    "vec = CountVectorizer() #defining a count vectorizer"
   ]
  },
  {
   "cell_type": "code",
   "execution_count": 714,
   "metadata": {},
   "outputs": [
    {
     "data": {
      "text/plain": [
       "CountVectorizer(analyzer='word', binary=False, decode_error='strict',\n",
       "                dtype=<class 'numpy.int64'>, encoding='utf-8', input='content',\n",
       "                lowercase=True, max_df=1.0, max_features=None, min_df=1,\n",
       "                ngram_range=(1, 1), preprocessor=None, stop_words=None,\n",
       "                strip_accents=None, token_pattern='(?u)\\\\b\\\\w\\\\w+\\\\b',\n",
       "                tokenizer=None, vocabulary=None)"
      ]
     },
     "execution_count": 714,
     "metadata": {},
     "output_type": "execute_result"
    }
   ],
   "source": [
    "vec.fit(all_questions) # fitting it on all the questions"
   ]
  },
  {
   "cell_type": "code",
   "execution_count": 715,
   "metadata": {},
   "outputs": [],
   "source": [
    "vectorized_words = vec.transform(all_questions) #getting a sparse matrix of words"
   ]
  },
  {
   "cell_type": "code",
   "execution_count": 716,
   "metadata": {},
   "outputs": [],
   "source": [
    "words_df = pd.DataFrame.sparse.from_spmatrix(vectorized_words) #translating those words to a pandas matrix"
   ]
  },
  {
   "cell_type": "code",
   "execution_count": 904,
   "metadata": {},
   "outputs": [
    {
     "data": {
      "text/html": [
       "<div>\n",
       "<style scoped>\n",
       "    .dataframe tbody tr th:only-of-type {\n",
       "        vertical-align: middle;\n",
       "    }\n",
       "\n",
       "    .dataframe tbody tr th {\n",
       "        vertical-align: top;\n",
       "    }\n",
       "\n",
       "    .dataframe thead th {\n",
       "        text-align: right;\n",
       "    }\n",
       "</style>\n",
       "<table border=\"1\" class=\"dataframe\">\n",
       "  <thead>\n",
       "    <tr style=\"text-align: right;\">\n",
       "      <th></th>\n",
       "      <th>0</th>\n",
       "      <th>1</th>\n",
       "      <th>2</th>\n",
       "      <th>3</th>\n",
       "      <th>4</th>\n",
       "      <th>5</th>\n",
       "      <th>6</th>\n",
       "      <th>7</th>\n",
       "      <th>8</th>\n",
       "      <th>9</th>\n",
       "      <th>...</th>\n",
       "      <th>2628</th>\n",
       "      <th>2629</th>\n",
       "      <th>2630</th>\n",
       "      <th>2631</th>\n",
       "      <th>2632</th>\n",
       "      <th>2633</th>\n",
       "      <th>2634</th>\n",
       "      <th>2635</th>\n",
       "      <th>2636</th>\n",
       "      <th>2637</th>\n",
       "    </tr>\n",
       "  </thead>\n",
       "  <tbody>\n",
       "    <tr>\n",
       "      <td>0</td>\n",
       "      <td>0</td>\n",
       "      <td>0</td>\n",
       "      <td>0</td>\n",
       "      <td>0</td>\n",
       "      <td>0</td>\n",
       "      <td>0</td>\n",
       "      <td>0</td>\n",
       "      <td>0</td>\n",
       "      <td>0</td>\n",
       "      <td>0</td>\n",
       "      <td>...</td>\n",
       "      <td>0</td>\n",
       "      <td>0</td>\n",
       "      <td>0</td>\n",
       "      <td>0</td>\n",
       "      <td>0</td>\n",
       "      <td>0</td>\n",
       "      <td>0</td>\n",
       "      <td>0</td>\n",
       "      <td>0</td>\n",
       "      <td>0</td>\n",
       "    </tr>\n",
       "    <tr>\n",
       "      <td>1</td>\n",
       "      <td>0</td>\n",
       "      <td>0</td>\n",
       "      <td>0</td>\n",
       "      <td>0</td>\n",
       "      <td>0</td>\n",
       "      <td>0</td>\n",
       "      <td>0</td>\n",
       "      <td>0</td>\n",
       "      <td>0</td>\n",
       "      <td>0</td>\n",
       "      <td>...</td>\n",
       "      <td>1</td>\n",
       "      <td>0</td>\n",
       "      <td>0</td>\n",
       "      <td>0</td>\n",
       "      <td>0</td>\n",
       "      <td>0</td>\n",
       "      <td>0</td>\n",
       "      <td>0</td>\n",
       "      <td>0</td>\n",
       "      <td>0</td>\n",
       "    </tr>\n",
       "    <tr>\n",
       "      <td>2</td>\n",
       "      <td>0</td>\n",
       "      <td>0</td>\n",
       "      <td>0</td>\n",
       "      <td>0</td>\n",
       "      <td>0</td>\n",
       "      <td>0</td>\n",
       "      <td>0</td>\n",
       "      <td>0</td>\n",
       "      <td>0</td>\n",
       "      <td>0</td>\n",
       "      <td>...</td>\n",
       "      <td>0</td>\n",
       "      <td>0</td>\n",
       "      <td>0</td>\n",
       "      <td>0</td>\n",
       "      <td>0</td>\n",
       "      <td>0</td>\n",
       "      <td>0</td>\n",
       "      <td>0</td>\n",
       "      <td>0</td>\n",
       "      <td>0</td>\n",
       "    </tr>\n",
       "    <tr>\n",
       "      <td>3</td>\n",
       "      <td>0</td>\n",
       "      <td>0</td>\n",
       "      <td>0</td>\n",
       "      <td>0</td>\n",
       "      <td>0</td>\n",
       "      <td>0</td>\n",
       "      <td>0</td>\n",
       "      <td>0</td>\n",
       "      <td>0</td>\n",
       "      <td>0</td>\n",
       "      <td>...</td>\n",
       "      <td>0</td>\n",
       "      <td>0</td>\n",
       "      <td>0</td>\n",
       "      <td>0</td>\n",
       "      <td>0</td>\n",
       "      <td>0</td>\n",
       "      <td>0</td>\n",
       "      <td>0</td>\n",
       "      <td>0</td>\n",
       "      <td>0</td>\n",
       "    </tr>\n",
       "    <tr>\n",
       "      <td>4</td>\n",
       "      <td>0</td>\n",
       "      <td>0</td>\n",
       "      <td>0</td>\n",
       "      <td>0</td>\n",
       "      <td>0</td>\n",
       "      <td>0</td>\n",
       "      <td>0</td>\n",
       "      <td>0</td>\n",
       "      <td>0</td>\n",
       "      <td>0</td>\n",
       "      <td>...</td>\n",
       "      <td>0</td>\n",
       "      <td>0</td>\n",
       "      <td>0</td>\n",
       "      <td>0</td>\n",
       "      <td>0</td>\n",
       "      <td>0</td>\n",
       "      <td>0</td>\n",
       "      <td>0</td>\n",
       "      <td>0</td>\n",
       "      <td>0</td>\n",
       "    </tr>\n",
       "  </tbody>\n",
       "</table>\n",
       "<p>5 rows × 2638 columns</p>\n",
       "</div>"
      ],
      "text/plain": [
       "   0     1     2     3     4     5     6     7     8     9     ...  2628  \\\n",
       "0     0     0     0     0     0     0     0     0     0     0  ...     0   \n",
       "1     0     0     0     0     0     0     0     0     0     0  ...     1   \n",
       "2     0     0     0     0     0     0     0     0     0     0  ...     0   \n",
       "3     0     0     0     0     0     0     0     0     0     0  ...     0   \n",
       "4     0     0     0     0     0     0     0     0     0     0  ...     0   \n",
       "\n",
       "   2629  2630  2631  2632  2633  2634  2635  2636  2637  \n",
       "0     0     0     0     0     0     0     0     0     0  \n",
       "1     0     0     0     0     0     0     0     0     0  \n",
       "2     0     0     0     0     0     0     0     0     0  \n",
       "3     0     0     0     0     0     0     0     0     0  \n",
       "4     0     0     0     0     0     0     0     0     0  \n",
       "\n",
       "[5 rows x 2638 columns]"
      ]
     },
     "execution_count": 904,
     "metadata": {},
     "output_type": "execute_result"
    }
   ],
   "source": [
    "words_df.head(5)"
   ]
  },
  {
   "cell_type": "markdown",
   "metadata": {},
   "source": [
    "I cannot see a single non-zero entry, let me check the value counts on the first observation to make sure that it worked as hoped. Alas, we have some non-zero entrys."
   ]
  },
  {
   "cell_type": "code",
   "execution_count": 718,
   "metadata": {},
   "outputs": [
    {
     "data": {
      "text/plain": [
       "0    2627\n",
       "1      11\n",
       "Name: 0, dtype: int64"
      ]
     },
     "execution_count": 718,
     "metadata": {},
     "output_type": "execute_result"
    }
   ],
   "source": [
    "words_df.iloc[0].value_counts()"
   ]
  },
  {
   "cell_type": "code",
   "execution_count": 719,
   "metadata": {},
   "outputs": [
    {
     "data": {
      "text/plain": [
       "10"
      ]
     },
     "execution_count": 719,
     "metadata": {},
     "output_type": "execute_result"
    }
   ],
   "source": [
    "len(all_questions.iloc[0].split())"
   ]
  },
  {
   "cell_type": "markdown",
   "metadata": {},
   "source": [
    "For some reason, we seem to get one more non-zero value in each row (observation) of the data frame than we get as the length of our split question. **This is unexpected behaviour that could be caused by whitespace being counted as a word in the vectorizer.**\n",
    "However, in the long run I do not think that it will affect the results too much."
   ]
  },
  {
   "cell_type": "markdown",
   "metadata": {},
   "source": [
    "Now I am fitting PCA (with two components, since two components is pretty much all I can graph sans heat maps) on the sparse data frame to see if I can pick up on any patterns in the various counts of words  from the first 1,000 questions in this data set."
   ]
  },
  {
   "cell_type": "code",
   "execution_count": 720,
   "metadata": {},
   "outputs": [
    {
     "data": {
      "text/plain": [
       "PCA(copy=True, iterated_power='auto', n_components=2, random_state=None,\n",
       "    svd_solver='auto', tol=0.0, whiten=False)"
      ]
     },
     "execution_count": 720,
     "metadata": {},
     "output_type": "execute_result"
    }
   ],
   "source": [
    "pca = PCA(n_components = 2)\n",
    "\n",
    "pca.fit(words_df)"
   ]
  },
  {
   "cell_type": "code",
   "execution_count": 721,
   "metadata": {},
   "outputs": [],
   "source": [
    "pca_data = pca.transform(words_df)"
   ]
  },
  {
   "cell_type": "code",
   "execution_count": 722,
   "metadata": {},
   "outputs": [
    {
     "data": {
      "text/plain": [
       "array([[ 4.87714817e-01, -2.41960313e-01],\n",
       "       [ 6.24844413e-02,  3.41885842e-01],\n",
       "       [-5.07501030e-01, -5.10283480e-01],\n",
       "       ...,\n",
       "       [-9.19545613e-01, -2.23353898e-01],\n",
       "       [ 2.10962905e-03, -5.50421888e-04],\n",
       "       [-5.55585245e-01, -1.09082868e+00]])"
      ]
     },
     "execution_count": 722,
     "metadata": {},
     "output_type": "execute_result"
    }
   ],
   "source": [
    "pca_data # This is each questions coordinates where its too coordinates are the first two principal components\n",
    "# for example: (PC1, PC2)."
   ]
  },
  {
   "cell_type": "code",
   "execution_count": 723,
   "metadata": {},
   "outputs": [],
   "source": [
    "new_cols = pd.DataFrame(pca_data,columns=[\"PC1\",\"PC2\"]) # joining the PCA data onto the pandas sparse data frame for\n",
    "words_df_pca = words_df.join(new_cols) # ease of analysis."
   ]
  },
  {
   "cell_type": "code",
   "execution_count": 905,
   "metadata": {},
   "outputs": [
    {
     "data": {
      "text/html": [
       "<div>\n",
       "<style scoped>\n",
       "    .dataframe tbody tr th:only-of-type {\n",
       "        vertical-align: middle;\n",
       "    }\n",
       "\n",
       "    .dataframe tbody tr th {\n",
       "        vertical-align: top;\n",
       "    }\n",
       "\n",
       "    .dataframe thead th {\n",
       "        text-align: right;\n",
       "    }\n",
       "</style>\n",
       "<table border=\"1\" class=\"dataframe\">\n",
       "  <thead>\n",
       "    <tr style=\"text-align: right;\">\n",
       "      <th></th>\n",
       "      <th>0</th>\n",
       "      <th>1</th>\n",
       "      <th>2</th>\n",
       "      <th>3</th>\n",
       "      <th>4</th>\n",
       "      <th>5</th>\n",
       "      <th>6</th>\n",
       "      <th>7</th>\n",
       "      <th>8</th>\n",
       "      <th>9</th>\n",
       "      <th>...</th>\n",
       "      <th>2630</th>\n",
       "      <th>2631</th>\n",
       "      <th>2632</th>\n",
       "      <th>2633</th>\n",
       "      <th>2634</th>\n",
       "      <th>2635</th>\n",
       "      <th>2636</th>\n",
       "      <th>2637</th>\n",
       "      <th>PC1</th>\n",
       "      <th>PC2</th>\n",
       "    </tr>\n",
       "  </thead>\n",
       "  <tbody>\n",
       "    <tr>\n",
       "      <td>0</td>\n",
       "      <td>0</td>\n",
       "      <td>0</td>\n",
       "      <td>0</td>\n",
       "      <td>0</td>\n",
       "      <td>0</td>\n",
       "      <td>0</td>\n",
       "      <td>0</td>\n",
       "      <td>0</td>\n",
       "      <td>0</td>\n",
       "      <td>0</td>\n",
       "      <td>...</td>\n",
       "      <td>0</td>\n",
       "      <td>0</td>\n",
       "      <td>0</td>\n",
       "      <td>0</td>\n",
       "      <td>0</td>\n",
       "      <td>0</td>\n",
       "      <td>0</td>\n",
       "      <td>0</td>\n",
       "      <td>0.487715</td>\n",
       "      <td>-0.241960</td>\n",
       "    </tr>\n",
       "    <tr>\n",
       "      <td>1</td>\n",
       "      <td>0</td>\n",
       "      <td>0</td>\n",
       "      <td>0</td>\n",
       "      <td>0</td>\n",
       "      <td>0</td>\n",
       "      <td>0</td>\n",
       "      <td>0</td>\n",
       "      <td>0</td>\n",
       "      <td>0</td>\n",
       "      <td>0</td>\n",
       "      <td>...</td>\n",
       "      <td>0</td>\n",
       "      <td>0</td>\n",
       "      <td>0</td>\n",
       "      <td>0</td>\n",
       "      <td>0</td>\n",
       "      <td>0</td>\n",
       "      <td>0</td>\n",
       "      <td>0</td>\n",
       "      <td>0.062484</td>\n",
       "      <td>0.341886</td>\n",
       "    </tr>\n",
       "    <tr>\n",
       "      <td>2</td>\n",
       "      <td>0</td>\n",
       "      <td>0</td>\n",
       "      <td>0</td>\n",
       "      <td>0</td>\n",
       "      <td>0</td>\n",
       "      <td>0</td>\n",
       "      <td>0</td>\n",
       "      <td>0</td>\n",
       "      <td>0</td>\n",
       "      <td>0</td>\n",
       "      <td>...</td>\n",
       "      <td>0</td>\n",
       "      <td>0</td>\n",
       "      <td>0</td>\n",
       "      <td>0</td>\n",
       "      <td>0</td>\n",
       "      <td>0</td>\n",
       "      <td>0</td>\n",
       "      <td>0</td>\n",
       "      <td>-0.507501</td>\n",
       "      <td>-0.510283</td>\n",
       "    </tr>\n",
       "    <tr>\n",
       "      <td>3</td>\n",
       "      <td>0</td>\n",
       "      <td>0</td>\n",
       "      <td>0</td>\n",
       "      <td>0</td>\n",
       "      <td>0</td>\n",
       "      <td>0</td>\n",
       "      <td>0</td>\n",
       "      <td>0</td>\n",
       "      <td>0</td>\n",
       "      <td>0</td>\n",
       "      <td>...</td>\n",
       "      <td>0</td>\n",
       "      <td>0</td>\n",
       "      <td>0</td>\n",
       "      <td>0</td>\n",
       "      <td>0</td>\n",
       "      <td>0</td>\n",
       "      <td>0</td>\n",
       "      <td>0</td>\n",
       "      <td>0.953555</td>\n",
       "      <td>1.241135</td>\n",
       "    </tr>\n",
       "    <tr>\n",
       "      <td>4</td>\n",
       "      <td>0</td>\n",
       "      <td>0</td>\n",
       "      <td>0</td>\n",
       "      <td>0</td>\n",
       "      <td>0</td>\n",
       "      <td>0</td>\n",
       "      <td>0</td>\n",
       "      <td>0</td>\n",
       "      <td>0</td>\n",
       "      <td>0</td>\n",
       "      <td>...</td>\n",
       "      <td>0</td>\n",
       "      <td>0</td>\n",
       "      <td>0</td>\n",
       "      <td>0</td>\n",
       "      <td>0</td>\n",
       "      <td>0</td>\n",
       "      <td>0</td>\n",
       "      <td>0</td>\n",
       "      <td>0.365775</td>\n",
       "      <td>-0.751194</td>\n",
       "    </tr>\n",
       "  </tbody>\n",
       "</table>\n",
       "<p>5 rows × 2640 columns</p>\n",
       "</div>"
      ],
      "text/plain": [
       "   0  1  2  3  4  5  6  7  8  9  ...  2630  2631  2632  2633  2634  2635  \\\n",
       "0  0  0  0  0  0  0  0  0  0  0  ...     0     0     0     0     0     0   \n",
       "1  0  0  0  0  0  0  0  0  0  0  ...     0     0     0     0     0     0   \n",
       "2  0  0  0  0  0  0  0  0  0  0  ...     0     0     0     0     0     0   \n",
       "3  0  0  0  0  0  0  0  0  0  0  ...     0     0     0     0     0     0   \n",
       "4  0  0  0  0  0  0  0  0  0  0  ...     0     0     0     0     0     0   \n",
       "\n",
       "   2636  2637       PC1       PC2  \n",
       "0     0     0  0.487715 -0.241960  \n",
       "1     0     0  0.062484  0.341886  \n",
       "2     0     0 -0.507501 -0.510283  \n",
       "3     0     0  0.953555  1.241135  \n",
       "4     0     0  0.365775 -0.751194  \n",
       "\n",
       "[5 rows x 2640 columns]"
      ]
     },
     "execution_count": 905,
     "metadata": {},
     "output_type": "execute_result"
    }
   ],
   "source": [
    "words_df_pca.head(5)"
   ]
  },
  {
   "cell_type": "code",
   "execution_count": 725,
   "metadata": {},
   "outputs": [
    {
     "data": {
      "text/plain": [
       "<matplotlib.axes._subplots.AxesSubplot at 0x7f93e4d54090>"
      ]
     },
     "execution_count": 725,
     "metadata": {},
     "output_type": "execute_result"
    },
    {
     "data": {
      "image/png": "[encoded data removed]",
      "text/plain": [
       "<Figure size 432x288 with 1 Axes>"
      ]
     },
     "metadata": {
      "needs_background": "light"
     },
     "output_type": "display_data"
    }
   ],
   "source": [
    "words_df_pca.plot.scatter(x=\"PC1\", y=\"PC2\")"
   ]
  },
  {
   "cell_type": "markdown",
   "metadata": {},
   "source": [
    "This is a quite an unusual pattern in the data. I wonder what is causing these 4 shapes. It is likely caused by the fact that the length of the word is a discrete variable and so gaps naturally arise. However, there is still a bit left to wonder about the gaps in the y variable although uninterestingly they are probably also caused by length of the word."
   ]
  },
  {
   "cell_type": "markdown",
   "metadata": {},
   "source": [
    "I am now going to try to slice this data vertically into the four (vertical) groups that you see on the graph and hopefully I find something interesting and unrelated to just length of the word."
   ]
  },
  {
   "cell_type": "code",
   "execution_count": 726,
   "metadata": {},
   "outputs": [],
   "source": [
    "words_df_pca1_sub0 = words_df_pca[words_df_pca[\"PC1\"] < 0] # splitting on every integer on PC1\n",
    "words_df_pca1_sub1 = words_df_pca[(words_df_pca[\"PC1\"] < 1) & (words_df_pca[\"PC1\"] >= 0)]\n",
    "words_df_pca1_sub2 = words_df_pca[(words_df_pca[\"PC1\"] < 2) & (words_df_pca[\"PC1\"] >= 1)]\n",
    "words_df_pca1_sub3 = words_df_pca[(words_df_pca[\"PC1\"] < 3) & (words_df_pca[\"PC1\"] >= 2)]"
   ]
  },
  {
   "cell_type": "markdown",
   "metadata": {},
   "source": [
    "Above I split the data into four data frames where the first data frame represents the subset of the data that is between -1 and 0 for the first principal component, the second between 0 and 1, the third between 1 and 2, and the fourth between 2 and 3.\n",
    "\n",
    "Lets have a look at the first data frame that we created."
   ]
  },
  {
   "cell_type": "code",
   "execution_count": 907,
   "metadata": {},
   "outputs": [
    {
     "data": {
      "text/html": [
       "<div>\n",
       "<style scoped>\n",
       "    .dataframe tbody tr th:only-of-type {\n",
       "        vertical-align: middle;\n",
       "    }\n",
       "\n",
       "    .dataframe tbody tr th {\n",
       "        vertical-align: top;\n",
       "    }\n",
       "\n",
       "    .dataframe thead th {\n",
       "        text-align: right;\n",
       "    }\n",
       "</style>\n",
       "<table border=\"1\" class=\"dataframe\">\n",
       "  <thead>\n",
       "    <tr style=\"text-align: right;\">\n",
       "      <th></th>\n",
       "      <th>0</th>\n",
       "      <th>1</th>\n",
       "      <th>2</th>\n",
       "      <th>3</th>\n",
       "      <th>4</th>\n",
       "      <th>5</th>\n",
       "      <th>6</th>\n",
       "      <th>7</th>\n",
       "      <th>8</th>\n",
       "      <th>9</th>\n",
       "      <th>...</th>\n",
       "      <th>2630</th>\n",
       "      <th>2631</th>\n",
       "      <th>2632</th>\n",
       "      <th>2633</th>\n",
       "      <th>2634</th>\n",
       "      <th>2635</th>\n",
       "      <th>2636</th>\n",
       "      <th>2637</th>\n",
       "      <th>PC1</th>\n",
       "      <th>PC2</th>\n",
       "    </tr>\n",
       "  </thead>\n",
       "  <tbody>\n",
       "    <tr>\n",
       "      <td>2</td>\n",
       "      <td>0</td>\n",
       "      <td>0</td>\n",
       "      <td>0</td>\n",
       "      <td>0</td>\n",
       "      <td>0</td>\n",
       "      <td>0</td>\n",
       "      <td>0</td>\n",
       "      <td>0</td>\n",
       "      <td>0</td>\n",
       "      <td>0</td>\n",
       "      <td>...</td>\n",
       "      <td>0</td>\n",
       "      <td>0</td>\n",
       "      <td>0</td>\n",
       "      <td>0</td>\n",
       "      <td>0</td>\n",
       "      <td>0</td>\n",
       "      <td>0</td>\n",
       "      <td>0</td>\n",
       "      <td>-0.507501</td>\n",
       "      <td>-0.510283</td>\n",
       "    </tr>\n",
       "    <tr>\n",
       "      <td>10</td>\n",
       "      <td>0</td>\n",
       "      <td>0</td>\n",
       "      <td>0</td>\n",
       "      <td>0</td>\n",
       "      <td>0</td>\n",
       "      <td>0</td>\n",
       "      <td>0</td>\n",
       "      <td>0</td>\n",
       "      <td>0</td>\n",
       "      <td>0</td>\n",
       "      <td>...</td>\n",
       "      <td>0</td>\n",
       "      <td>0</td>\n",
       "      <td>0</td>\n",
       "      <td>0</td>\n",
       "      <td>0</td>\n",
       "      <td>0</td>\n",
       "      <td>0</td>\n",
       "      <td>0</td>\n",
       "      <td>-0.505286</td>\n",
       "      <td>-0.579496</td>\n",
       "    </tr>\n",
       "    <tr>\n",
       "      <td>12</td>\n",
       "      <td>0</td>\n",
       "      <td>0</td>\n",
       "      <td>0</td>\n",
       "      <td>0</td>\n",
       "      <td>0</td>\n",
       "      <td>0</td>\n",
       "      <td>0</td>\n",
       "      <td>0</td>\n",
       "      <td>0</td>\n",
       "      <td>0</td>\n",
       "      <td>...</td>\n",
       "      <td>0</td>\n",
       "      <td>0</td>\n",
       "      <td>0</td>\n",
       "      <td>0</td>\n",
       "      <td>0</td>\n",
       "      <td>0</td>\n",
       "      <td>0</td>\n",
       "      <td>0</td>\n",
       "      <td>-0.749670</td>\n",
       "      <td>-0.926757</td>\n",
       "    </tr>\n",
       "    <tr>\n",
       "      <td>13</td>\n",
       "      <td>0</td>\n",
       "      <td>0</td>\n",
       "      <td>0</td>\n",
       "      <td>0</td>\n",
       "      <td>0</td>\n",
       "      <td>0</td>\n",
       "      <td>0</td>\n",
       "      <td>0</td>\n",
       "      <td>0</td>\n",
       "      <td>0</td>\n",
       "      <td>...</td>\n",
       "      <td>0</td>\n",
       "      <td>0</td>\n",
       "      <td>0</td>\n",
       "      <td>0</td>\n",
       "      <td>0</td>\n",
       "      <td>0</td>\n",
       "      <td>0</td>\n",
       "      <td>0</td>\n",
       "      <td>-0.966153</td>\n",
       "      <td>0.303921</td>\n",
       "    </tr>\n",
       "    <tr>\n",
       "      <td>14</td>\n",
       "      <td>0</td>\n",
       "      <td>0</td>\n",
       "      <td>0</td>\n",
       "      <td>0</td>\n",
       "      <td>0</td>\n",
       "      <td>0</td>\n",
       "      <td>0</td>\n",
       "      <td>0</td>\n",
       "      <td>0</td>\n",
       "      <td>0</td>\n",
       "      <td>...</td>\n",
       "      <td>0</td>\n",
       "      <td>0</td>\n",
       "      <td>0</td>\n",
       "      <td>0</td>\n",
       "      <td>0</td>\n",
       "      <td>0</td>\n",
       "      <td>0</td>\n",
       "      <td>0</td>\n",
       "      <td>-0.962488</td>\n",
       "      <td>0.310575</td>\n",
       "    </tr>\n",
       "  </tbody>\n",
       "</table>\n",
       "<p>5 rows × 2640 columns</p>\n",
       "</div>"
      ],
      "text/plain": [
       "    0  1  2  3  4  5  6  7  8  9  ...  2630  2631  2632  2633  2634  2635  \\\n",
       "2   0  0  0  0  0  0  0  0  0  0  ...     0     0     0     0     0     0   \n",
       "10  0  0  0  0  0  0  0  0  0  0  ...     0     0     0     0     0     0   \n",
       "12  0  0  0  0  0  0  0  0  0  0  ...     0     0     0     0     0     0   \n",
       "13  0  0  0  0  0  0  0  0  0  0  ...     0     0     0     0     0     0   \n",
       "14  0  0  0  0  0  0  0  0  0  0  ...     0     0     0     0     0     0   \n",
       "\n",
       "    2636  2637       PC1       PC2  \n",
       "2      0     0 -0.507501 -0.510283  \n",
       "10     0     0 -0.505286 -0.579496  \n",
       "12     0     0 -0.749670 -0.926757  \n",
       "13     0     0 -0.966153  0.303921  \n",
       "14     0     0 -0.962488  0.310575  \n",
       "\n",
       "[5 rows x 2640 columns]"
      ]
     },
     "execution_count": 907,
     "metadata": {},
     "output_type": "execute_result"
    }
   ],
   "source": [
    "words_df_pca1_sub0.head() # observations 2, 10, 12, 13 and 14. These do not seem too random,\n",
    "# but if the questions that were given are in no particular order it we shouldn't be suspicious on these indices"
   ]
  },
  {
   "cell_type": "markdown",
   "metadata": {},
   "source": [
    "Now lets extract the questions using the newly created data frame's indices so that we can index into the original data to see if we can see any patterns."
   ]
  },
  {
   "cell_type": "code",
   "execution_count": 727,
   "metadata": {},
   "outputs": [],
   "source": [
    "sub0_questions = all_questions[words_df_pca1_sub0.index]\n",
    "sub1_questions = all_questions[words_df_pca1_sub1.index]\n",
    "sub2_questions = all_questions[words_df_pca1_sub2.index]\n",
    "sub3_questions = all_questions[words_df_pca1_sub3.index]"
   ]
  },
  {
   "cell_type": "markdown",
   "metadata": {},
   "source": [
    "I wonder what PCA picked up on that separated our data into four distinct groups. Possibly, as mentioned before it was the length of the word."
   ]
  },
  {
   "cell_type": "code",
   "execution_count": 728,
   "metadata": {},
   "outputs": [
    {
     "name": "stdout",
     "output_type": "stream",
     "text": [
      "8.910714285714286\n",
      "9.053691275167786\n",
      "10.25263157894737\n",
      "12.909090909090908\n"
     ]
    }
   ],
   "source": [
    "print(sub0_questions.apply(lambda x : len(x.split())).mean())\n",
    "print(sub1_questions.apply(lambda x : len(x.split())).mean())\n",
    "print(sub2_questions.apply(lambda x : len(x.split())).mean())\n",
    "print(sub3_questions.apply(lambda x : len(x.split())).mean())"
   ]
  },
  {
   "cell_type": "markdown",
   "metadata": {},
   "source": [
    "It appears that the length of the question was the key influencer of differences in the first principal component due to the fact that the third and fourth groups were roughly 1 and 4 words longer than the first and second groups respectively."
   ]
  },
  {
   "cell_type": "code",
   "execution_count": 729,
   "metadata": {},
   "outputs": [
    {
     "name": "stdout",
     "output_type": "stream",
     "text": [
      "1.4825069246784\n",
      "1.4492238601582423\n",
      "2.1186528289529782\n",
      "2.6250541119963775\n"
     ]
    }
   ],
   "source": [
    "print(sub0_questions.apply(lambda x : len(x.split())).std())\n",
    "print(sub1_questions.apply(lambda x : len(x.split())).std())\n",
    "print(sub2_questions.apply(lambda x : len(x.split())).std())\n",
    "print(sub3_questions.apply(lambda x : len(x.split())).std())"
   ]
  },
  {
   "cell_type": "markdown",
   "metadata": {},
   "source": [
    "In addition to the words getting longer on average we see that the standard deviations increased as well. This suggests that there possibly could be more going on than just length of word."
   ]
  },
  {
   "cell_type": "code",
   "execution_count": 730,
   "metadata": {},
   "outputs": [
    {
     "name": "stdout",
     "output_type": "stream",
     "text": [
      "8.0\n",
      "9.0\n",
      "10.0\n",
      "14.0\n"
     ]
    }
   ],
   "source": [
    "print(sub0_questions.apply(lambda x : len(x.split())).median())\n",
    "print(sub1_questions.apply(lambda x : len(x.split())).median())\n",
    "print(sub2_questions.apply(lambda x : len(x.split())).median())\n",
    "print(sub3_questions.apply(lambda x : len(x.split())).median())"
   ]
  },
  {
   "cell_type": "markdown",
   "metadata": {},
   "source": [
    "The median is much larger than the mean in the last group suggesting that the length of the words is left skewed.\n",
    "\n",
    "Now I am going to try to apply clustering to the data with PCA since it appears to be very \"clusterable\" by looking at the graph."
   ]
  },
  {
   "cell_type": "code",
   "execution_count": 731,
   "metadata": {},
   "outputs": [
    {
     "data": {
      "text/plain": [
       "<matplotlib.axes._subplots.AxesSubplot at 0x7f93b491f6d0>"
      ]
     },
     "execution_count": 731,
     "metadata": {},
     "output_type": "execute_result"
    },
    {
     "data": {
      "image/png": "[encoded data removed]",
      "text/plain": [
       "<Figure size 432x288 with 1 Axes>"
      ]
     },
     "metadata": {
      "needs_background": "light"
     },
     "output_type": "display_data"
    }
   ],
   "source": [
    "words_df_pca.plot.scatter(x=\"PC1\", y=\"PC2\")"
   ]
  },
  {
   "cell_type": "markdown",
   "metadata": {},
   "source": [
    "Here is the gaph again to remind you of the distinct clusters. We can see four clusters so I am going to tell the algorithm that we want four clusters.\n",
    "\n",
    "I am going to start with k-means."
   ]
  },
  {
   "cell_type": "code",
   "execution_count": 732,
   "metadata": {},
   "outputs": [],
   "source": [
    "clusters4 = KMeans(n_clusters=4)"
   ]
  },
  {
   "cell_type": "code",
   "execution_count": 733,
   "metadata": {},
   "outputs": [
    {
     "data": {
      "text/plain": [
       "KMeans(algorithm='auto', copy_x=True, init='k-means++', max_iter=300,\n",
       "       n_clusters=4, n_init=10, n_jobs=None, precompute_distances='auto',\n",
       "       random_state=None, tol=0.0001, verbose=0)"
      ]
     },
     "execution_count": 733,
     "metadata": {},
     "output_type": "execute_result"
    }
   ],
   "source": [
    "clusters4.fit(words_df_pca.loc[:,[\"PC1\", \"PC2\"]]) #only fitting the clusters on the two PCA components"
   ]
  },
  {
   "cell_type": "code",
   "execution_count": 734,
   "metadata": {},
   "outputs": [],
   "source": [
    "centroids = clusters4.cluster_centers_ #getting the centers\n",
    "clusters_kmeans4 = clusters4.labels_ #getting the labels"
   ]
  },
  {
   "cell_type": "markdown",
   "metadata": {},
   "source": [
    "The centroids represent the principal components coordinates where the centers of each cluster are in PCA space."
   ]
  },
  {
   "cell_type": "code",
   "execution_count": 735,
   "metadata": {},
   "outputs": [
    {
     "data": {
      "text/plain": [
       "array([[ 0.08324062,  0.37457654],\n",
       "       [ 0.12199566, -0.78548831],\n",
       "       [ 1.30547731,  0.03400278],\n",
       "       [-0.91004257,  0.01814564]])"
      ]
     },
     "execution_count": 735,
     "metadata": {},
     "output_type": "execute_result"
    }
   ],
   "source": [
    "centroids # I will only print this out once because while it is cool, it is not needed in this analysis"
   ]
  },
  {
   "cell_type": "code",
   "execution_count": 736,
   "metadata": {},
   "outputs": [
    {
     "data": {
      "text/plain": [
       "array([1, 0, 3, ..., 3, 0, 1], dtype=int32)"
      ]
     },
     "execution_count": 736,
     "metadata": {},
     "output_type": "execute_result"
    }
   ],
   "source": [
    "clusters_kmeans4 # these are the values of the clusters stored in a numpy array"
   ]
  },
  {
   "cell_type": "code",
   "execution_count": 737,
   "metadata": {},
   "outputs": [
    {
     "data": {
      "text/plain": [
       "<matplotlib.axes._subplots.AxesSubplot at 0x7f939d410910>"
      ]
     },
     "execution_count": 737,
     "metadata": {},
     "output_type": "execute_result"
    },
    {
     "data": {
      "image/png": "[encoded data removed]",
      "text/plain": [
       "<Figure size 432x288 with 1 Axes>"
      ]
     },
     "metadata": {
      "needs_background": "light"
     },
     "output_type": "display_data"
    }
   ],
   "source": [
    "clusters_kmeans4 = pd.Series(clusters_kmeans4).map({ # mapping each cluster to a color\n",
    "    0: \"r\",\n",
    "    1: \"b\",\n",
    "    2: \"y\",\n",
    "    3: \"g\"\n",
    "})\n",
    "\n",
    "words_df_pca.plot.scatter(x=\"PC1\", y=\"PC2\", \n",
    "                     c=clusters_kmeans4, marker=\"x\", alpha=.5)"
   ]
  },
  {
   "cell_type": "markdown",
   "metadata": {},
   "source": [
    "That was surprising in how it grouped up these observations into different groups than the ones that I had assumed just by looking at the graph and had created manually above."
   ]
  },
  {
   "cell_type": "markdown",
   "metadata": {},
   "source": [
    "Let me now go to three clusters."
   ]
  },
  {
   "cell_type": "code",
   "execution_count": 738,
   "metadata": {},
   "outputs": [
    {
     "data": {
      "text/plain": [
       "<matplotlib.axes._subplots.AxesSubplot at 0x7f939bb88710>"
      ]
     },
     "execution_count": 738,
     "metadata": {},
     "output_type": "execute_result"
    },
    {
     "data": {
      "image/png": "[encoded data removed]",
      "text/plain": [
       "<Figure size 432x288 with 1 Axes>"
      ]
     },
     "metadata": {
      "needs_background": "light"
     },
     "output_type": "display_data"
    }
   ],
   "source": [
    "clusters = KMeans(n_clusters=3)\n",
    "clusters.fit(words_df_pca.loc[:,[\"PC1\", \"PC2\"]])\n",
    "centroids = clusters.cluster_centers_\n",
    "clusters = clusters.labels_\n",
    "clusters_kmeans3 = pd.Series(clusters).map({\n",
    "    0: \"r\",\n",
    "    1: \"b\",\n",
    "    2: \"y\"\n",
    "})\n",
    "\n",
    "words_df_pca.plot.scatter(x=\"PC1\", y=\"PC2\", \n",
    "                     c=clusters_kmeans3, marker=\"x\", alpha=.5)"
   ]
  },
  {
   "cell_type": "markdown",
   "metadata": {},
   "source": [
    "Maybe the computer is picking up on something that I am not aware of, but to me these seem like the wrong clusters. I would say that it could be caused by varying starting positions, however I have run these cells many times. Lets try hierarchical clustering and see if we see any different results."
   ]
  },
  {
   "cell_type": "code",
   "execution_count": 739,
   "metadata": {},
   "outputs": [],
   "source": [
    "clusters = AgglomerativeClustering(n_clusters=4, # I am using 4 clusters\n",
    "                                affinity=\"euclidean\",\n",
    "                                linkage=\"complete\")  #note that I am using euclidean and complete linkage"
   ]
  },
  {
   "cell_type": "code",
   "execution_count": 740,
   "metadata": {},
   "outputs": [
    {
     "data": {
      "text/plain": [
       "AgglomerativeClustering(affinity='euclidean', compute_full_tree='auto',\n",
       "                        connectivity=None, distance_threshold=None,\n",
       "                        linkage='complete', memory=None, n_clusters=4,\n",
       "                        pooling_func='deprecated')"
      ]
     },
     "execution_count": 740,
     "metadata": {},
     "output_type": "execute_result"
    }
   ],
   "source": [
    "clusters.fit(words_df_pca.loc[:,[\"PC1\", \"PC2\"]])"
   ]
  },
  {
   "cell_type": "code",
   "execution_count": 741,
   "metadata": {},
   "outputs": [],
   "source": [
    "clusters = clusters.labels_"
   ]
  },
  {
   "cell_type": "code",
   "execution_count": 742,
   "metadata": {},
   "outputs": [
    {
     "data": {
      "text/plain": [
       "<matplotlib.axes._subplots.AxesSubplot at 0x7f939b6a4910>"
      ]
     },
     "execution_count": 742,
     "metadata": {},
     "output_type": "execute_result"
    },
    {
     "data": {
      "image/png": "[encoded data removed]",
      "text/plain": [
       "<Figure size 432x288 with 1 Axes>"
      ]
     },
     "metadata": {
      "needs_background": "light"
     },
     "output_type": "display_data"
    }
   ],
   "source": [
    "clusters_hier4_complete = pd.Series(clusters).map({ # mapping the clusters to colors\n",
    "    0: \"r\",\n",
    "    1: \"b\",\n",
    "    2: \"y\",\n",
    "    3: \"g\"\n",
    "})\n",
    "\n",
    "words_df_pca.plot.scatter(x=\"PC1\", y=\"PC2\", \n",
    "                     c=clusters_hier4_complete, marker=\"x\", alpha=.5)"
   ]
  },
  {
   "cell_type": "markdown",
   "metadata": {},
   "source": [
    "This is different from the clusters of any k-means trial that we had. Lets now try single linkage."
   ]
  },
  {
   "cell_type": "code",
   "execution_count": 743,
   "metadata": {},
   "outputs": [
    {
     "data": {
      "text/plain": [
       "<matplotlib.axes._subplots.AxesSubplot at 0x7f93c7ee9d10>"
      ]
     },
     "execution_count": 743,
     "metadata": {},
     "output_type": "execute_result"
    },
    {
     "data": {
      "image/png": "[encoded data removed]",
      "text/plain": [
       "<Figure size 432x288 with 1 Axes>"
      ]
     },
     "metadata": {
      "needs_background": "light"
     },
     "output_type": "display_data"
    }
   ],
   "source": [
    "clusters = AgglomerativeClustering(n_clusters=4, \n",
    "                                affinity=\"euclidean\", \n",
    "                                linkage=\"single\") # note the single linkage here\n",
    "clusters.fit(words_df_pca.loc[:,[\"PC1\", \"PC2\"]])\n",
    "clusters = clusters.labels_\n",
    "clusters_hier4_single = pd.Series(clusters).map({\n",
    "    0: \"r\",\n",
    "    1: \"b\",\n",
    "    2: \"y\",\n",
    "    3: \"g\"\n",
    "})\n",
    "\n",
    "words_df_pca.plot.scatter(x=\"PC1\", y=\"PC2\", \n",
    "                     c=clusters_hier4_single, marker=\"x\", alpha=.5)"
   ]
  },
  {
   "cell_type": "markdown",
   "metadata": {},
   "source": [
    "Single linkage definitely failed when it comes to clustering on this data (we do not get that much information from 3 clusters containing only one point each). It labeled all points as red except for 3, one being yellow, one blue, and one green. You were not wrong in class when you said that it makes a big difference the different kind of linkage that you choose!"
   ]
  },
  {
   "cell_type": "code",
   "execution_count": 744,
   "metadata": {},
   "outputs": [
    {
     "data": {
      "text/plain": [
       "<matplotlib.axes._subplots.AxesSubplot at 0x7f939ac99a90>"
      ]
     },
     "execution_count": 744,
     "metadata": {},
     "output_type": "execute_result"
    },
    {
     "data": {
      "image/png": "[encoded data removed]",
      "text/plain": [
       "<Figure size 432x288 with 1 Axes>"
      ]
     },
     "metadata": {
      "needs_background": "light"
     },
     "output_type": "display_data"
    }
   ],
   "source": [
    "clusters = AgglomerativeClustering(n_clusters=3, \n",
    "                                affinity=\"euclidean\",\n",
    "                                linkage=\"complete\")\n",
    "clusters.fit(words_df_pca.loc[:,[\"PC1\", \"PC2\"]])\n",
    "clusters = clusters.labels_\n",
    "clusters_hier3_complete = pd.Series(clusters).map({\n",
    "    0: \"r\",\n",
    "    1: \"b\",\n",
    "    2: \"y\"\n",
    "})\n",
    "\n",
    "words_df_pca.plot.scatter(x=\"PC1\", y=\"PC2\", \n",
    "                     c=clusters_hier3_complete, marker=\"x\", alpha=.5)"
   ]
  },
  {
   "cell_type": "markdown",
   "metadata": {},
   "source": [
    "With 3 clusters and complete linkage we do a little bit better with hierarchical clustering."
   ]
  },
  {
   "cell_type": "code",
   "execution_count": 745,
   "metadata": {},
   "outputs": [
    {
     "data": {
      "text/plain": [
       "<matplotlib.axes._subplots.AxesSubplot at 0x7f939ac7fb50>"
      ]
     },
     "execution_count": 745,
     "metadata": {},
     "output_type": "execute_result"
    },
    {
     "data": {
      "image/png": "[encoded data removed]",
      "text/plain": [
       "<Figure size 432x288 with 1 Axes>"
      ]
     },
     "metadata": {
      "needs_background": "light"
     },
     "output_type": "display_data"
    }
   ],
   "source": [
    "clusters = AgglomerativeClustering(n_clusters=3, \n",
    "                                affinity=\"euclidean\",\n",
    "                                linkage=\"single\")\n",
    "clusters.fit(words_df_pca.loc[:,[\"PC1\", \"PC2\"]])\n",
    "clusters = clusters.labels_\n",
    "clusters_hier3_single = pd.Series(clusters).map({\n",
    "    0: \"r\",\n",
    "    1: \"b\",\n",
    "    2: \"y\"\n",
    "})\n",
    "\n",
    "words_df_pca.plot.scatter(x=\"PC1\", y=\"PC2\", \n",
    "                     c=clusters_hier3_single, marker=\"x\", alpha=.5)"
   ]
  },
  {
   "cell_type": "markdown",
   "metadata": {},
   "source": [
    "Once again single linkage performs quite poorly.\n",
    "\n",
    "I will attempt to switch the distance metric to cosine distance since these are words that we are dealing with and we have seen that cosine similarity works well with words."
   ]
  },
  {
   "cell_type": "code",
   "execution_count": 746,
   "metadata": {},
   "outputs": [
    {
     "data": {
      "text/plain": [
       "<matplotlib.axes._subplots.AxesSubplot at 0x7f93c6767690>"
      ]
     },
     "execution_count": 746,
     "metadata": {},
     "output_type": "execute_result"
    },
    {
     "data": {
      "image/png": "[encoded data removed]",
      "text/plain": [
       "<Figure size 432x288 with 1 Axes>"
      ]
     },
     "metadata": {
      "needs_background": "light"
     },
     "output_type": "display_data"
    }
   ],
   "source": [
    "clusters = AgglomerativeClustering(n_clusters=3, \n",
    "                                affinity=\"cosine\",\n",
    "                                linkage=\"complete\")\n",
    "clusters.fit(words_df_pca.loc[:,[\"PC1\", \"PC2\"]])\n",
    "clusters = clusters.labels_\n",
    "clusters_hier3_complete = pd.Series(clusters).map({\n",
    "    0: \"r\",\n",
    "    1: \"b\",\n",
    "    2: \"y\"\n",
    "})\n",
    "\n",
    "words_df_pca.plot.scatter(x=\"PC1\", y=\"PC2\", \n",
    "                     c=clusters_hier3_complete, marker=\"x\", alpha=.5)"
   ]
  },
  {
   "cell_type": "markdown",
   "metadata": {},
   "source": [
    "Cosine similarity provides a more even spread in terms of the various clusters. This is an example of when I havce no way of evaluating my results. I chose to do a secondary objective where there was no classification and I did not realize fully the difficulties that can possibly come along with that. I feel like at this point this is almost like an art show and I am picking which graph looks the prettiest. The only assessment that I could possibly do on these clusters would be to manually go in and look at the words in each cluster."
   ]
  },
  {
   "cell_type": "code",
   "execution_count": 747,
   "metadata": {},
   "outputs": [
    {
     "data": {
      "text/plain": [
       "<matplotlib.axes._subplots.AxesSubplot at 0x7f94753ec710>"
      ]
     },
     "execution_count": 747,
     "metadata": {},
     "output_type": "execute_result"
    },
    {
     "data": {
      "image/png": "[encoded data removed]",
      "text/plain": [
       "<Figure size 432x288 with 1 Axes>"
      ]
     },
     "metadata": {
      "needs_background": "light"
     },
     "output_type": "display_data"
    }
   ],
   "source": [
    "clusters = AgglomerativeClustering(n_clusters=4, \n",
    "                                affinity=\"cosine\",\n",
    "                                linkage=\"complete\")\n",
    "clusters.fit(words_df_pca.loc[:,[\"PC1\", \"PC2\"]])\n",
    "clusters = clusters.labels_\n",
    "clusters_hier4_complete = pd.Series(clusters).map({\n",
    "    0: \"r\",\n",
    "    1: \"b\",\n",
    "    2: \"y\",\n",
    "    3: \"g\"\n",
    "})\n",
    "\n",
    "words_df_pca.plot.scatter(x=\"PC1\", y=\"PC2\", \n",
    "                     c=clusters_hier4_complete, marker=\"x\", alpha=.5)"
   ]
  },
  {
   "cell_type": "markdown",
   "metadata": {},
   "source": [
    "I will stop here with the visuals of clustering as there is no real way to assess the results. I will finish the \"clustering visuals/artshow\" section of my second objective with a dendrogram using euclidean and complete as well as a dendrogram using euclidean and single. Note that in terms of cluster spread the complete group appears to perform better (not all observations are classified as the green cluster). This is yet another example illustrating the importance of linkage in clustering, which some might find as surprising since it seems like such a mundane difference."
   ]
  },
  {
   "cell_type": "code",
   "execution_count": 748,
   "metadata": {},
   "outputs": [
    {
     "data": {
      "image/png": "[encoded data removed]",
      "text/plain": [
       "<Figure size 432x288 with 1 Axes>"
      ]
     },
     "metadata": {
      "needs_background": "light"
     },
     "output_type": "display_data"
    }
   ],
   "source": [
    "complete = linkage(words_df_pca.loc[:,[\"PC1\", \"PC2\"]], method=\"complete\", metric=\"euclidean\")\n",
    "dendrogram(complete);"
   ]
  },
  {
   "cell_type": "code",
   "execution_count": 749,
   "metadata": {},
   "outputs": [
    {
     "data": {
      "image/png": "[encoded data removed]",
      "text/plain": [
       "<Figure size 432x288 with 1 Axes>"
      ]
     },
     "metadata": {
      "needs_background": "light"
     },
     "output_type": "display_data"
    }
   ],
   "source": [
    "single = linkage(words_df_pca.loc[:,[\"PC1\", \"PC2\"]], method=\"single\", metric=\"euclidean\")\n",
    "dendrogram(single);"
   ]
  },
  {
   "cell_type": "markdown",
   "metadata": {},
   "source": [
    "The complete dendrogram suggests that there are really four unique groups where 2 of them seem to occupy roughly 90% of the questions that I sampled. When we look at single linkage on the other hand I do not really know what to think, we see that all the questions were classified to one group (at least below .6 on the y-axis)."
   ]
  },
  {
   "cell_type": "markdown",
   "metadata": {},
   "source": [
    "I suppose that now would be as good of a time as any to check how much of the variance the first two principal components explain, while keeping in mind that the dimension of the original space was over 1,000."
   ]
  },
  {
   "cell_type": "code",
   "execution_count": 750,
   "metadata": {},
   "outputs": [
    {
     "data": {
      "text/plain": [
       "array([0.54854623, 0.36135437])"
      ]
     },
     "execution_count": 750,
     "metadata": {},
     "output_type": "execute_result"
    }
   ],
   "source": [
    "pca.explained_variance_"
   ]
  },
  {
   "cell_type": "markdown",
   "metadata": {},
   "source": [
    "It appears that our first principal component explained 54% of the variance in the data, while the second principal component explained 36%. This is incredibly good given the over 1000 variables in the data frame. "
   ]
  },
  {
   "cell_type": "markdown",
   "metadata": {},
   "source": [
    "Since we discovered from the PCA plot that it appeared that there were four \"distinct\" components we can use the setting for four clusters even if we cannot visualize the data any more. This illustrates a benefit of using PCA prior to other machine learning techniques-its aid of visualization."
   ]
  },
  {
   "cell_type": "code",
   "execution_count": 751,
   "metadata": {},
   "outputs": [],
   "source": [
    "kmeansraw = KMeans(n_clusters=4)"
   ]
  },
  {
   "cell_type": "code",
   "execution_count": 752,
   "metadata": {},
   "outputs": [
    {
     "data": {
      "text/plain": [
       "KMeans(algorithm='auto', copy_x=True, init='k-means++', max_iter=300,\n",
       "       n_clusters=4, n_init=10, n_jobs=None, precompute_distances='auto',\n",
       "       random_state=None, tol=0.0001, verbose=0)"
      ]
     },
     "execution_count": 752,
     "metadata": {},
     "output_type": "execute_result"
    }
   ],
   "source": [
    "kmeansraw.fit(words_df)"
   ]
  },
  {
   "cell_type": "code",
   "execution_count": 753,
   "metadata": {},
   "outputs": [],
   "source": [
    "clusters = kmeansraw.labels_"
   ]
  },
  {
   "cell_type": "markdown",
   "metadata": {},
   "source": [
    "Lets add these labels to the end of our questions data frame. But first make a copy for safe keeping."
   ]
  },
  {
   "cell_type": "code",
   "execution_count": 754,
   "metadata": {},
   "outputs": [],
   "source": [
    "words_df_ = words_df.copy()"
   ]
  },
  {
   "cell_type": "markdown",
   "metadata": {},
   "source": [
    "The clusters are fairly evenly distributed across the four groups."
   ]
  },
  {
   "cell_type": "code",
   "execution_count": 756,
   "metadata": {},
   "outputs": [
    {
     "data": {
      "text/plain": [
       "2    313\n",
       "1    272\n",
       "0    222\n",
       "3    194\n",
       "Name: Cluster Labels, dtype: int64"
      ]
     },
     "execution_count": 756,
     "metadata": {},
     "output_type": "execute_result"
    }
   ],
   "source": [
    "words_df_[\"Cluster Labels\"].value_counts() #printing out the value counts"
   ]
  },
  {
   "cell_type": "code",
   "execution_count": 758,
   "metadata": {},
   "outputs": [],
   "source": [
    "word_clusters = pd.DataFrame(all_questions)"
   ]
  },
  {
   "cell_type": "code",
   "execution_count": 759,
   "metadata": {},
   "outputs": [],
   "source": [
    "word_clusters[\"Question Cluster Labels\"] = clusters"
   ]
  },
  {
   "cell_type": "code",
   "execution_count": 909,
   "metadata": {},
   "outputs": [
    {
     "data": {
      "text/html": [
       "<div>\n",
       "<style scoped>\n",
       "    .dataframe tbody tr th:only-of-type {\n",
       "        vertical-align: middle;\n",
       "    }\n",
       "\n",
       "    .dataframe tbody tr th {\n",
       "        vertical-align: top;\n",
       "    }\n",
       "\n",
       "    .dataframe thead th {\n",
       "        text-align: right;\n",
       "    }\n",
       "</style>\n",
       "<table border=\"1\" class=\"dataframe\">\n",
       "  <thead>\n",
       "    <tr style=\"text-align: right;\">\n",
       "      <th></th>\n",
       "      <th>question_text</th>\n",
       "      <th>Question Cluster Labels</th>\n",
       "      <th>Document Titles</th>\n",
       "    </tr>\n",
       "  </thead>\n",
       "  <tbody>\n",
       "    <tr>\n",
       "      <td>0</td>\n",
       "      <td>which is the most common use of opt-in e-mail ...</td>\n",
       "      <td>0</td>\n",
       "      <td>Email marketing</td>\n",
       "    </tr>\n",
       "    <tr>\n",
       "      <td>1</td>\n",
       "      <td>how i.met your mother who is the mother</td>\n",
       "      <td>1</td>\n",
       "      <td>The Mother (How I Met Your Mother)</td>\n",
       "    </tr>\n",
       "    <tr>\n",
       "      <td>2</td>\n",
       "      <td>what type of fertilisation takes place in humans</td>\n",
       "      <td>2</td>\n",
       "      <td>Human fertilization</td>\n",
       "    </tr>\n",
       "    <tr>\n",
       "      <td>3</td>\n",
       "      <td>who had the most wins in the nfl</td>\n",
       "      <td>3</td>\n",
       "      <td>List of National Football League career quarte...</td>\n",
       "    </tr>\n",
       "    <tr>\n",
       "      <td>4</td>\n",
       "      <td>what happened to the lost settlement of roanoke</td>\n",
       "      <td>0</td>\n",
       "      <td>Roanoke Colony</td>\n",
       "    </tr>\n",
       "    <tr>\n",
       "      <td>5</td>\n",
       "      <td>what are the different regions of africa and h...</td>\n",
       "      <td>0</td>\n",
       "      <td>List of regions of Africa</td>\n",
       "    </tr>\n",
       "    <tr>\n",
       "      <td>6</td>\n",
       "      <td>who played mantis guardians of the galaxy 2</td>\n",
       "      <td>0</td>\n",
       "      <td>Pom Klementieff</td>\n",
       "    </tr>\n",
       "    <tr>\n",
       "      <td>7</td>\n",
       "      <td>who did the voice of the magician in frosty th...</td>\n",
       "      <td>3</td>\n",
       "      <td>Frosty the Snowman (film)</td>\n",
       "    </tr>\n",
       "    <tr>\n",
       "      <td>8</td>\n",
       "      <td>what indian tribe did the acadians form friend...</td>\n",
       "      <td>1</td>\n",
       "      <td>History of the Acadians</td>\n",
       "    </tr>\n",
       "    <tr>\n",
       "      <td>9</td>\n",
       "      <td>what is considered the outer banks in north ca...</td>\n",
       "      <td>3</td>\n",
       "      <td>Outer Banks</td>\n",
       "    </tr>\n",
       "  </tbody>\n",
       "</table>\n",
       "</div>"
      ],
      "text/plain": [
       "                                       question_text  Question Cluster Labels  \\\n",
       "0  which is the most common use of opt-in e-mail ...                        0   \n",
       "1            how i.met your mother who is the mother                        1   \n",
       "2   what type of fertilisation takes place in humans                        2   \n",
       "3                   who had the most wins in the nfl                        3   \n",
       "4    what happened to the lost settlement of roanoke                        0   \n",
       "5  what are the different regions of africa and h...                        0   \n",
       "6        who played mantis guardians of the galaxy 2                        0   \n",
       "7  who did the voice of the magician in frosty th...                        3   \n",
       "8  what indian tribe did the acadians form friend...                        1   \n",
       "9  what is considered the outer banks in north ca...                        3   \n",
       "\n",
       "                                     Document Titles  \n",
       "0                                    Email marketing  \n",
       "1                 The Mother (How I Met Your Mother)  \n",
       "2                                Human fertilization  \n",
       "3  List of National Football League career quarte...  \n",
       "4                                     Roanoke Colony  \n",
       "5                          List of regions of Africa  \n",
       "6                                    Pom Klementieff  \n",
       "7                          Frosty the Snowman (film)  \n",
       "8                            History of the Acadians  \n",
       "9                                        Outer Banks  "
      ]
     },
     "execution_count": 909,
     "metadata": {},
     "output_type": "execute_result"
    }
   ],
   "source": [
    "word_clusters.head(10)"
   ]
  },
  {
   "cell_type": "markdown",
   "metadata": {},
   "source": [
    "These clusters were determined from the raw data rather than from the data that had PCA applied to it. Once again lets see if there is any information we can get from the clusters with regards to the length of the words in order to see if we can determine if the groupings are similar to the groupings found by PCA. It turns out that due to the fact that the label of the groupings doesn't matter (but rather the content) that it is quite difficult to see how and if two different clusterings are similar to each other, at least I was not able to come up with a simple way to do it."
   ]
  },
  {
   "cell_type": "code",
   "execution_count": 761,
   "metadata": {},
   "outputs": [],
   "source": [
    "question_group_0 = word_clusters[word_clusters[\"Question Cluster Labels\"] == 0] # splitting the data into four groups\n",
    "question_group_1 = word_clusters[word_clusters[\"Question Cluster Labels\"] == 1]\n",
    "question_group_2 = word_clusters[word_clusters[\"Question Cluster Labels\"] == 2]\n",
    "question_group_3 = word_clusters[word_clusters[\"Question Cluster Labels\"] == 3]"
   ]
  },
  {
   "cell_type": "code",
   "execution_count": 762,
   "metadata": {},
   "outputs": [
    {
     "name": "stdout",
     "output_type": "stream",
     "text": [
      "9.617117117117116\n",
      "9.106617647058824\n",
      "8.833865814696486\n",
      "9.164948453608247\n"
     ]
    }
   ],
   "source": [
    "print(question_group_0[\"question_text\"].apply(lambda x : len(x.split())).mean()) # calculating the mean lengh of \n",
    "print(question_group_1[\"question_text\"].apply(lambda x : len(x.split())).mean()) # each group\n",
    "print(question_group_2[\"question_text\"].apply(lambda x : len(x.split())).mean())\n",
    "print(question_group_3[\"question_text\"].apply(lambda x : len(x.split())).mean())"
   ]
  },
  {
   "cell_type": "markdown",
   "metadata": {},
   "source": [
    "Surprisingly PCA does not pick up on the length of the word to any noticible degree here. The various word lengths across the different groups appear to be random and uniformally distributed. These are some promising results since length of word is definitely not something the requires clustering and PCA to determine, I am trying to dig deeper and extract meaning of words by themselves and how they fit together with each other."
   ]
  },
  {
   "cell_type": "markdown",
   "metadata": {},
   "source": [
    "Now lets extract the name of the wikipedia article and add that to the data frame that we are looking at."
   ]
  },
  {
   "cell_type": "code",
   "execution_count": 763,
   "metadata": {},
   "outputs": [],
   "source": [
    "title_url = training_frame[\"document_url\"] # this is some behind the scenes data processing"
   ]
  },
  {
   "cell_type": "code",
   "execution_count": 764,
   "metadata": {},
   "outputs": [],
   "source": [
    "pattern = re.compile(\"(?<=\\=)(.*?)(?=\\&)\") # regex for extracting title from url"
   ]
  },
  {
   "cell_type": "code",
   "execution_count": 765,
   "metadata": {},
   "outputs": [],
   "source": [
    "document_titles = []\n",
    "for i in range(len(title_url)):\n",
    "    document_titles.append(pattern.search(title_url[i]).group(0))"
   ]
  },
  {
   "cell_type": "code",
   "execution_count": 910,
   "metadata": {},
   "outputs": [
    {
     "data": {
      "text/plain": [
       "0                                      Email marketing\n",
       "1                   The Mother (How I Met Your Mother)\n",
       "2                                  Human fertilization\n",
       "3    List of National Football League career quarte...\n",
       "4                                       Roanoke Colony\n",
       "5                            List of regions of Africa\n",
       "6                                      Pom Klementieff\n",
       "7                            Frosty the Snowman (film)\n",
       "8                              History of the Acadians\n",
       "9                                          Outer Banks\n",
       "dtype: object"
      ]
     },
     "execution_count": 910,
     "metadata": {},
     "output_type": "execute_result"
    }
   ],
   "source": [
    "document_titles.head(10)"
   ]
  },
  {
   "cell_type": "markdown",
   "metadata": {},
   "source": [
    "I have now gotten a list of all the document titles in the same order as the questions are. Note that there are some unwanted symbols, namely the spaces are underscores and there are scattered percent signs that could throw off the results.\n",
    "Lets clean these titles up a little bit."
   ]
  },
  {
   "cell_type": "code",
   "execution_count": 767,
   "metadata": {},
   "outputs": [],
   "source": [
    "document_titles = pd.Series(document_titles)\n",
    "document_titles = document_titles.apply(lambda x : \" \".join(x.split(\"_\")))"
   ]
  },
  {
   "cell_type": "markdown",
   "metadata": {},
   "source": [
    "I am now going to append the list of document titles to the end of my data frame and cluster the titles with the same parameters that I used to cluster the questions."
   ]
  },
  {
   "cell_type": "code",
   "execution_count": 768,
   "metadata": {},
   "outputs": [],
   "source": [
    "word_clusters[\"Document Titles\"] = document_titles"
   ]
  },
  {
   "cell_type": "code",
   "execution_count": 911,
   "metadata": {},
   "outputs": [
    {
     "data": {
      "text/html": [
       "<div>\n",
       "<style scoped>\n",
       "    .dataframe tbody tr th:only-of-type {\n",
       "        vertical-align: middle;\n",
       "    }\n",
       "\n",
       "    .dataframe tbody tr th {\n",
       "        vertical-align: top;\n",
       "    }\n",
       "\n",
       "    .dataframe thead th {\n",
       "        text-align: right;\n",
       "    }\n",
       "</style>\n",
       "<table border=\"1\" class=\"dataframe\">\n",
       "  <thead>\n",
       "    <tr style=\"text-align: right;\">\n",
       "      <th></th>\n",
       "      <th>question_text</th>\n",
       "      <th>Question Cluster Labels</th>\n",
       "      <th>Document Titles</th>\n",
       "    </tr>\n",
       "  </thead>\n",
       "  <tbody>\n",
       "    <tr>\n",
       "      <td>0</td>\n",
       "      <td>which is the most common use of opt-in e-mail ...</td>\n",
       "      <td>0</td>\n",
       "      <td>Email marketing</td>\n",
       "    </tr>\n",
       "    <tr>\n",
       "      <td>1</td>\n",
       "      <td>how i.met your mother who is the mother</td>\n",
       "      <td>1</td>\n",
       "      <td>The Mother (How I Met Your Mother)</td>\n",
       "    </tr>\n",
       "    <tr>\n",
       "      <td>2</td>\n",
       "      <td>what type of fertilisation takes place in humans</td>\n",
       "      <td>2</td>\n",
       "      <td>Human fertilization</td>\n",
       "    </tr>\n",
       "    <tr>\n",
       "      <td>3</td>\n",
       "      <td>who had the most wins in the nfl</td>\n",
       "      <td>3</td>\n",
       "      <td>List of National Football League career quarte...</td>\n",
       "    </tr>\n",
       "    <tr>\n",
       "      <td>4</td>\n",
       "      <td>what happened to the lost settlement of roanoke</td>\n",
       "      <td>0</td>\n",
       "      <td>Roanoke Colony</td>\n",
       "    </tr>\n",
       "    <tr>\n",
       "      <td>...</td>\n",
       "      <td>...</td>\n",
       "      <td>...</td>\n",
       "      <td>...</td>\n",
       "    </tr>\n",
       "    <tr>\n",
       "      <td>996</td>\n",
       "      <td>the area between the tigris and euphrates rivers</td>\n",
       "      <td>1</td>\n",
       "      <td>Tigris%E2%80%93Euphrates river system</td>\n",
       "    </tr>\n",
       "    <tr>\n",
       "      <td>997</td>\n",
       "      <td>the most recent revision of the apa ethics cod...</td>\n",
       "      <td>0</td>\n",
       "      <td>APA Ethics Code</td>\n",
       "    </tr>\n",
       "    <tr>\n",
       "      <td>998</td>\n",
       "      <td>toby keith - i wanna talk about me</td>\n",
       "      <td>2</td>\n",
       "      <td>I Wanna Talk About Me</td>\n",
       "    </tr>\n",
       "    <tr>\n",
       "      <td>999</td>\n",
       "      <td>where does an apple a day keeps the doctor awa...</td>\n",
       "      <td>1</td>\n",
       "      <td>An apple a day keeps the doctor away</td>\n",
       "    </tr>\n",
       "    <tr>\n",
       "      <td>1000</td>\n",
       "      <td>what type of oxide are formed when metal combi...</td>\n",
       "      <td>2</td>\n",
       "      <td>Oxide</td>\n",
       "    </tr>\n",
       "  </tbody>\n",
       "</table>\n",
       "<p>1001 rows × 3 columns</p>\n",
       "</div>"
      ],
      "text/plain": [
       "                                          question_text  \\\n",
       "0     which is the most common use of opt-in e-mail ...   \n",
       "1               how i.met your mother who is the mother   \n",
       "2      what type of fertilisation takes place in humans   \n",
       "3                      who had the most wins in the nfl   \n",
       "4       what happened to the lost settlement of roanoke   \n",
       "...                                                 ...   \n",
       "996    the area between the tigris and euphrates rivers   \n",
       "997   the most recent revision of the apa ethics cod...   \n",
       "998                  toby keith - i wanna talk about me   \n",
       "999   where does an apple a day keeps the doctor awa...   \n",
       "1000  what type of oxide are formed when metal combi...   \n",
       "\n",
       "      Question Cluster Labels  \\\n",
       "0                           0   \n",
       "1                           1   \n",
       "2                           2   \n",
       "3                           3   \n",
       "4                           0   \n",
       "...                       ...   \n",
       "996                         1   \n",
       "997                         0   \n",
       "998                         2   \n",
       "999                         1   \n",
       "1000                        2   \n",
       "\n",
       "                                        Document Titles  \n",
       "0                                       Email marketing  \n",
       "1                    The Mother (How I Met Your Mother)  \n",
       "2                                   Human fertilization  \n",
       "3     List of National Football League career quarte...  \n",
       "4                                        Roanoke Colony  \n",
       "...                                                 ...  \n",
       "996               Tigris%E2%80%93Euphrates river system  \n",
       "997                                     APA Ethics Code  \n",
       "998                               I Wanna Talk About Me  \n",
       "999                An apple a day keeps the doctor away  \n",
       "1000                                              Oxide  \n",
       "\n",
       "[1001 rows x 3 columns]"
      ]
     },
     "execution_count": 911,
     "metadata": {},
     "output_type": "execute_result"
    }
   ],
   "source": [
    "word_clusters"
   ]
  },
  {
   "cell_type": "markdown",
   "metadata": {},
   "source": [
    "Now I am going to vectorize the document titles, using the usual string of commands."
   ]
  },
  {
   "cell_type": "code",
   "execution_count": 770,
   "metadata": {},
   "outputs": [],
   "source": [
    "doc_titles = word_clusters[\"Document Titles\"]"
   ]
  },
  {
   "cell_type": "code",
   "execution_count": 771,
   "metadata": {},
   "outputs": [],
   "source": [
    "vec = CountVectorizer()"
   ]
  },
  {
   "cell_type": "code",
   "execution_count": 772,
   "metadata": {},
   "outputs": [
    {
     "data": {
      "text/plain": [
       "CountVectorizer(analyzer='word', binary=False, decode_error='strict',\n",
       "                dtype=<class 'numpy.int64'>, encoding='utf-8', input='content',\n",
       "                lowercase=True, max_df=1.0, max_features=None, min_df=1,\n",
       "                ngram_range=(1, 1), preprocessor=None, stop_words=None,\n",
       "                strip_accents=None, token_pattern='(?u)\\\\b\\\\w\\\\w+\\\\b',\n",
       "                tokenizer=None, vocabulary=None)"
      ]
     },
     "execution_count": 772,
     "metadata": {},
     "output_type": "execute_result"
    }
   ],
   "source": [
    "vec.fit(doc_titles)"
   ]
  },
  {
   "cell_type": "code",
   "execution_count": 773,
   "metadata": {},
   "outputs": [],
   "source": [
    "vec_titles = vec.transform(doc_titles)"
   ]
  },
  {
   "cell_type": "code",
   "execution_count": 774,
   "metadata": {},
   "outputs": [],
   "source": [
    "title_frame = pd.DataFrame.sparse.from_spmatrix(vec_titles)"
   ]
  },
  {
   "cell_type": "markdown",
   "metadata": {},
   "source": [
    "Now I am fitting kmeans clustering on the titles."
   ]
  },
  {
   "cell_type": "code",
   "execution_count": 775,
   "metadata": {},
   "outputs": [],
   "source": [
    "kmeansrawtitles = KMeans(n_clusters=4)"
   ]
  },
  {
   "cell_type": "code",
   "execution_count": 776,
   "metadata": {},
   "outputs": [
    {
     "data": {
      "text/plain": [
       "KMeans(algorithm='auto', copy_x=True, init='k-means++', max_iter=300,\n",
       "       n_clusters=4, n_init=10, n_jobs=None, precompute_distances='auto',\n",
       "       random_state=None, tol=0.0001, verbose=0)"
      ]
     },
     "execution_count": 776,
     "metadata": {},
     "output_type": "execute_result"
    }
   ],
   "source": [
    "kmeansrawtitles.fit(title_frame)"
   ]
  },
  {
   "cell_type": "code",
   "execution_count": 777,
   "metadata": {},
   "outputs": [],
   "source": [
    "titles_labels = kmeansrawtitles.labels_ # extracting the labels"
   ]
  },
  {
   "cell_type": "code",
   "execution_count": 778,
   "metadata": {},
   "outputs": [
    {
     "data": {
      "text/plain": [
       "1    752\n",
       "0    195\n",
       "3     49\n",
       "2      5\n",
       "dtype: int64"
      ]
     },
     "execution_count": 778,
     "metadata": {},
     "output_type": "execute_result"
    }
   ],
   "source": [
    "pd.Series(titles_labels).value_counts()"
   ]
  },
  {
   "cell_type": "markdown",
   "metadata": {},
   "source": [
    "This clustering did not work as I had expected and hoped that it would (where my hope is much determined on evenly spread clusters. This is something that I need to be careful about in my next project). Let me now try to remove the non-alpha numeric characters and see if that makes a difference in the clustering results."
   ]
  },
  {
   "cell_type": "code",
   "execution_count": 779,
   "metadata": {},
   "outputs": [],
   "source": [
    "document_titles = pd.Series(document_titles)"
   ]
  },
  {
   "cell_type": "code",
   "execution_count": 780,
   "metadata": {},
   "outputs": [],
   "source": [
    "document_titles = document_titles.apply(lambda x : \" \".join(x.split(\"_\"))) # this is removing the _ separator"
   ]
  },
  {
   "cell_type": "code",
   "execution_count": 781,
   "metadata": {},
   "outputs": [],
   "source": [
    "pattern = re.compile(\"[%]\") # this is removing the % symbol\n",
    "for index in indexes:\n",
    "    document_titles[index] = re.sub(pattern, \" \", document_titles[index])"
   ]
  },
  {
   "cell_type": "code",
   "execution_count": 782,
   "metadata": {},
   "outputs": [
    {
     "data": {
      "text/plain": [
       "0                                         Email marketing\n",
       "1                      The Mother (How I Met Your Mother)\n",
       "2                                     Human fertilization\n",
       "3       List of National Football League career quarte...\n",
       "4                                          Roanoke Colony\n",
       "                              ...                        \n",
       "996                 Tigris%E2%80%93Euphrates river system\n",
       "997                                       APA Ethics Code\n",
       "998                                 I Wanna Talk About Me\n",
       "999                  An apple a day keeps the doctor away\n",
       "1000                                                Oxide\n",
       "Length: 1001, dtype: object"
      ]
     },
     "execution_count": 782,
     "metadata": {},
     "output_type": "execute_result"
    }
   ],
   "source": [
    "document_titles"
   ]
  },
  {
   "cell_type": "code",
   "execution_count": 783,
   "metadata": {},
   "outputs": [],
   "source": [
    "vec = CountVectorizer()\n",
    "vec.fit(doc_titles)\n",
    "vec_titles = vec.transform(doc_titles)\n",
    "document_titles_v = pd.DataFrame.sparse.from_spmatrix(vec_titles)"
   ]
  },
  {
   "cell_type": "code",
   "execution_count": 784,
   "metadata": {},
   "outputs": [
    {
     "data": {
      "text/plain": [
       "0    757\n",
       "2    155\n",
       "1     86\n",
       "3      3\n",
       "dtype: int64"
      ]
     },
     "execution_count": 784,
     "metadata": {},
     "output_type": "execute_result"
    }
   ],
   "source": [
    "kmeansraw = KMeans(n_clusters=4)\n",
    "kmeansrawtitles.fit(document_titles_v)\n",
    "titles_labels = kmeansrawtitles.labels_\n",
    "pd.Series(titles_labels).value_counts()"
   ]
  },
  {
   "cell_type": "markdown",
   "metadata": {},
   "source": [
    "We still see see a somewhat uneven distribution of clusters in the data when using kmeans. Let's give it one more shot, this time using heirarchical clustering."
   ]
  },
  {
   "cell_type": "code",
   "execution_count": 785,
   "metadata": {},
   "outputs": [],
   "source": [
    "title_hier = AgglomerativeClustering(n_clusters=4, \n",
    "                                affinity=\"euclidean\",\n",
    "                                linkage=\"complete\")"
   ]
  },
  {
   "cell_type": "code",
   "execution_count": 786,
   "metadata": {},
   "outputs": [],
   "source": [
    "title_hier.fit(cleaned_df)\n",
    "clusters_unmod = title_hier.labels_"
   ]
  },
  {
   "cell_type": "code",
   "execution_count": 787,
   "metadata": {
    "scrolled": true
   },
   "outputs": [
    {
     "data": {
      "text/plain": [
       "0    998\n",
       "3      1\n",
       "2      1\n",
       "1      1\n",
       "dtype: int64"
      ]
     },
     "execution_count": 787,
     "metadata": {},
     "output_type": "execute_result"
    }
   ],
   "source": [
    "pd.Series(clusters_unmod).value_counts()"
   ]
  },
  {
   "cell_type": "markdown",
   "metadata": {},
   "source": [
    "Surprisingly when we do the clustering on the titles using complete and hierarchical we get extremely uneven clustering groupings. This is potentially due to the fact that there are so few words in most of the titles.\n",
    "\n",
    "I am going to give one last ditch attempt at making graphs and using PCA, this time on the titles."
   ]
  },
  {
   "cell_type": "markdown",
   "metadata": {},
   "source": [
    "After looking at these results, this is what I have came to the conclusion of: I do not think that it is the most effective to use the count vectorizer and so I will look into other pre-trained models such as word2vec, glove and BERT. My idea of where to go next is:\n",
    "- I still want to try to see if I can find patterns in the questions and break them it into categories based on what was asked.\n",
    "- I can possibly use the entire document text as my corpus to try to increase the number of terms that the each observation is \"trained\" on so that it has a larger vocabulary and thus is possibly more accurate."
   ]
  },
  {
   "cell_type": "markdown",
   "metadata": {},
   "source": [
    "# Intermission"
   ]
  },
  {
   "cell_type": "markdown",
   "metadata": {},
   "source": [
    "# Getting Smart - Using Spacy"
   ]
  },
  {
   "cell_type": "markdown",
   "metadata": {},
   "source": [
    "I am now going to explore the data a little bit more, now using a popular natural language processing package called spacy. We first need to load it in and get their pre-trained vectors. Upon doing some reseach I saw that they are contextually trained which is extra appealing for this particular task that I am attempting."
   ]
  },
  {
   "cell_type": "code",
   "execution_count": 788,
   "metadata": {},
   "outputs": [],
   "source": [
    "import spacy\n",
    "nlp = spacy.load('en_core_web_md/en_core_web_md-2.1.0')"
   ]
  },
  {
   "cell_type": "markdown",
   "metadata": {},
   "source": [
    "I am defining two functions, one to calculate cosine similarity and one that just returns a vectorized version of the word."
   ]
  },
  {
   "cell_type": "code",
   "execution_count": 789,
   "metadata": {},
   "outputs": [],
   "source": [
    "from numpy import dot\n",
    "from numpy.linalg import norm\n",
    "\n",
    "def cosine(v1, v2):\n",
    "    if norm(v1) > 0 and norm(v2) > 0:\n",
    "        return dot(v1, v2) / (norm(v1) * norm(v2))\n",
    "    else:\n",
    "        return 0.0\n",
    "    \n",
    "def vec(s):\n",
    "    return nlp.vocab[s].vector"
   ]
  },
  {
   "cell_type": "markdown",
   "metadata": {},
   "source": [
    "These are just a few tests to see if the functions and packages are working properly."
   ]
  },
  {
   "cell_type": "code",
   "execution_count": 912,
   "metadata": {},
   "outputs": [
    {
     "data": {
      "text/plain": [
       "True"
      ]
     },
     "execution_count": 912,
     "metadata": {},
     "output_type": "execute_result"
    }
   ],
   "source": [
    "cosine(vec(\"dog\"), vec(\"cat\")) > cosine(vec(\"apple\"), vec(\"chair\"))"
   ]
  },
  {
   "cell_type": "code",
   "execution_count": 913,
   "metadata": {},
   "outputs": [
    {
     "data": {
      "text/plain": [
       "False"
      ]
     },
     "execution_count": 913,
     "metadata": {},
     "output_type": "execute_result"
    }
   ],
   "source": [
    "cosine(vec(\"dog\"), vec(\"physics\")) > cosine(vec(\"apple\"), vec(\"pear\"))"
   ]
  },
  {
   "cell_type": "markdown",
   "metadata": {},
   "source": [
    "I find that result pretty amusing. "
   ]
  },
  {
   "cell_type": "markdown",
   "metadata": {},
   "source": [
    "I now define a function that returns the 10 closest vectors in cosine similarity to the vectors in its \"vocabulary\" which are just unique words that been put into a list that is passed into the function. This is a more manual process than the vectorizers that we have gotten used to using."
   ]
  },
  {
   "cell_type": "code",
   "execution_count": 792,
   "metadata": {},
   "outputs": [],
   "source": [
    "def spacy_closest(token_list, vec_to_check, n=10):\n",
    "    return sorted(token_list,\n",
    "                  key=lambda x: cosine(vec_to_check, vec(x)),\n",
    "                  reverse=True)[:n]"
   ]
  },
  {
   "cell_type": "markdown",
   "metadata": {},
   "source": [
    "We could \"fit\" our token_list to the words in our entire corpus of documents, but that could potentially be overkill since we are removing all non-unique words. First lets look through the text of all the questions to see the above function in action."
   ]
  },
  {
   "cell_type": "code",
   "execution_count": 793,
   "metadata": {},
   "outputs": [],
   "source": [
    "split_questions = all_questions.apply(lambda row : row.split(\" \"))"
   ]
  },
  {
   "cell_type": "code",
   "execution_count": 794,
   "metadata": {},
   "outputs": [],
   "source": [
    "new_list =[]\n",
    "for x in split_questions:\n",
    "    new_list.extend(x) # note that extend, not append gives us all the words in one long list."
   ]
  },
  {
   "cell_type": "code",
   "execution_count": 914,
   "metadata": {},
   "outputs": [],
   "source": [
    "tokens = list(set([w for w in new_list if w.isalpha()])) # now we extract only the unique alpha numeric words\n",
    "# I know all words are alpha numeric but everything is stored as a string so we want to remove numbers \n",
    "#as well as punctuation"
   ]
  },
  {
   "cell_type": "code",
   "execution_count": 796,
   "metadata": {},
   "outputs": [
    {
     "data": {
      "text/plain": [
       "'There are 2518 unique words in our vocabulary.'"
      ]
     },
     "execution_count": 796,
     "metadata": {},
     "output_type": "execute_result"
    }
   ],
   "source": [
    "\"There are \" + str(len(tokens)) + \" unique words in our vocabulary.\""
   ]
  },
  {
   "cell_type": "markdown",
   "metadata": {},
   "source": [
    "Here is a quick test of our closest function as well as putting spacys context claim to the test. \n",
    "I am going to add the following vectors."
   ]
  },
  {
   "cell_type": "code",
   "execution_count": 919,
   "metadata": {},
   "outputs": [],
   "source": [
    "new = vec(\"water\") + vec(\"freeze\")"
   ]
  },
  {
   "cell_type": "code",
   "execution_count": 920,
   "metadata": {},
   "outputs": [
    {
     "data": {
      "text/plain": [
       "['seawater',\n",
       " 'water',\n",
       " 'potable',\n",
       " 'Seawater',\n",
       " 'Water',\n",
       " 'thaw',\n",
       " 'Thaw',\n",
       " 'Freeze',\n",
       " 'freeze',\n",
       " 'Freezing']"
      ]
     },
     "execution_count": 920,
     "metadata": {},
     "output_type": "execute_result"
    }
   ],
   "source": [
    "spacy_closest(tokens, new)"
   ]
  },
  {
   "cell_type": "markdown",
   "metadata": {},
   "source": [
    "These were the closest words in all of our questions to the word that we were going for. They seem like a reasonable result for the addition of those two vectors."
   ]
  },
  {
   "cell_type": "markdown",
   "metadata": {},
   "source": [
    "Lets now look at the document text and use regular expressions to clean it."
   ]
  },
  {
   "cell_type": "code",
   "execution_count": 799,
   "metadata": {},
   "outputs": [],
   "source": [
    "doc_text = training_frame.document_text"
   ]
  },
  {
   "cell_type": "code",
   "execution_count": 800,
   "metadata": {},
   "outputs": [],
   "source": [
    "doc_text = doc_text.apply(lambda value: re.sub(\"<.*?>\", \"\",value)) # removing everything between < and >"
   ]
  },
  {
   "cell_type": "code",
   "execution_count": 801,
   "metadata": {},
   "outputs": [],
   "source": [
    "split_docs = doc_text.apply(lambda row : row.split(\" \"))"
   ]
  },
  {
   "cell_type": "code",
   "execution_count": 802,
   "metadata": {},
   "outputs": [],
   "source": [
    "new_list =[]\n",
    "for x in split_docs: # getting one long list\n",
    "    new_list.extend(x)"
   ]
  },
  {
   "cell_type": "code",
   "execution_count": 803,
   "metadata": {
    "scrolled": true
   },
   "outputs": [],
   "source": [
    "new_list = [v for v in new_list if v.isalpha()] # ensuring only words"
   ]
  },
  {
   "cell_type": "code",
   "execution_count": 805,
   "metadata": {},
   "outputs": [],
   "source": [
    "tokens = list(set([w.lower() for w in new_list if w.isalpha()]))"
   ]
  },
  {
   "cell_type": "code",
   "execution_count": 806,
   "metadata": {},
   "outputs": [
    {
     "data": {
      "text/plain": [
       "'There are 142475 unique words in our vocabulary.'"
      ]
     },
     "execution_count": 806,
     "metadata": {},
     "output_type": "execute_result"
    }
   ],
   "source": [
    "\"There are \" + str(len(tokens)) + \" unique words in our vocabulary.\""
   ]
  },
  {
   "cell_type": "markdown",
   "metadata": {},
   "source": [
    "With many more words in our vocabulary we are likely to be able to achieve better results than when we had much fewer words. Lets run a few quick more test runs before we put this to the test to try to categorize the questions and/or documents."
   ]
  },
  {
   "cell_type": "code",
   "execution_count": 807,
   "metadata": {},
   "outputs": [
    {
     "data": {
      "text/plain": [
       "['canine',\n",
       " 'hound',\n",
       " 'dog',\n",
       " 'kennel',\n",
       " 'dogs',\n",
       " 'terrier',\n",
       " 'retriever',\n",
       " 'husky',\n",
       " 'poodle',\n",
       " 'greyhound']"
      ]
     },
     "execution_count": 807,
     "metadata": {},
     "output_type": "execute_result"
    }
   ],
   "source": [
    "spacy_closest(tokens, vec(\"dog\"))"
   ]
  },
  {
   "cell_type": "markdown",
   "metadata": {},
   "source": [
    "This function takes a lot longer because we look through every single token and here there are many more tokens than when the tokens were just coming from the unique words in the questions. Note though that we are still getting good results."
   ]
  },
  {
   "cell_type": "code",
   "execution_count": 808,
   "metadata": {},
   "outputs": [
    {
     "data": {
      "text/plain": [
       "['lacrosse',\n",
       " 'basketball',\n",
       " 'volleyball',\n",
       " 'footballing',\n",
       " 'gridiron',\n",
       " 'football',\n",
       " 'kickball',\n",
       " 'futbol',\n",
       " 'futsal',\n",
       " 'handball']"
      ]
     },
     "execution_count": 808,
     "metadata": {},
     "output_type": "execute_result"
    }
   ],
   "source": [
    "spacy_closest(tokens, vec(\"basketball\"))"
   ]
  },
  {
   "cell_type": "code",
   "execution_count": 809,
   "metadata": {},
   "outputs": [
    {
     "data": {
      "text/plain": [
       "['lanning',\n",
       " 'kalaya',\n",
       " 'liclo',\n",
       " 'fuelling',\n",
       " 'birnbaum',\n",
       " 'dautry',\n",
       " 'lilyhammer',\n",
       " 'scaricati',\n",
       " 'timm',\n",
       " 'nadusthundu']"
      ]
     },
     "execution_count": 809,
     "metadata": {},
     "output_type": "execute_result"
    }
   ],
   "source": [
    "spacy_closest(tokens, vec(\"I like turtles and dogs because they are good\"))"
   ]
  },
  {
   "cell_type": "markdown",
   "metadata": {},
   "source": [
    "Note that any non-sensical statement gives us these bad results. More importantly this last example shows that for these purposes we **cannot** direclty plug in sentences to the vec function, it can only handle words. As a result we have to come up with a way to get the meaning out of sentences in order to do any sort of clustering, classification or frankly any analysis with either the questions or the document text."
   ]
  },
  {
   "cell_type": "markdown",
   "metadata": {},
   "source": [
    "One way to try and mathematically extract the meaning of sentences it to take the average of their word vectors. The following function does exactly that. There could potentially be a better way to do this, but I do not think this function I wrote is much worse than whatever built ins they couldhave since I use numpy."
   ]
  },
  {
   "cell_type": "code",
   "execution_count": 810,
   "metadata": {},
   "outputs": [],
   "source": [
    "def meanv(x):\n",
    "    for i in range(len(x)):\n",
    "        if i == 0:\n",
    "            final = x[i]\n",
    "        else:\n",
    "            final + x[i]\n",
    "    return final/len(x)"
   ]
  },
  {
   "cell_type": "markdown",
   "metadata": {},
   "source": [
    "The following displays our new function in action."
   ]
  },
  {
   "cell_type": "code",
   "execution_count": 811,
   "metadata": {},
   "outputs": [
    {
     "data": {
      "text/plain": [
       "['apple',\n",
       " 'blackberry',\n",
       " 'prunes',\n",
       " 'pears',\n",
       " 'apples',\n",
       " 'iphone',\n",
       " 'fig',\n",
       " 'fruit',\n",
       " 'strawberry',\n",
       " 'popsicle']"
      ]
     },
     "execution_count": 811,
     "metadata": {},
     "output_type": "execute_result"
    }
   ],
   "source": [
    "spacy_closest(tokens, meanv([vec(\"apple\"), vec(\"banana\"), vec(\"lemon\")]))"
   ]
  },
  {
   "cell_type": "markdown",
   "metadata": {},
   "source": [
    "Now lets look at what my algorithm finds as the most similar words to the first question."
   ]
  },
  {
   "cell_type": "code",
   "execution_count": 813,
   "metadata": {},
   "outputs": [],
   "source": [
    "first_question = all_questions[0]"
   ]
  },
  {
   "cell_type": "code",
   "execution_count": 814,
   "metadata": {},
   "outputs": [
    {
     "data": {
      "text/plain": [
       "'which is the most common use of opt-in e-mail marketing'"
      ]
     },
     "execution_count": 814,
     "metadata": {},
     "output_type": "execute_result"
    }
   ],
   "source": [
    "first_question"
   ]
  },
  {
   "cell_type": "code",
   "execution_count": 815,
   "metadata": {},
   "outputs": [
    {
     "data": {
      "text/plain": [
       "['which',\n",
       " 'that',\n",
       " 'also',\n",
       " 'itself',\n",
       " 'it',\n",
       " 'thus',\n",
       " 'however',\n",
       " 'where',\n",
       " 'but',\n",
       " 'only']"
      ]
     },
     "execution_count": 815,
     "metadata": {},
     "output_type": "execute_result"
    }
   ],
   "source": [
    "spacy_closest(tokens, meanv([vec(c) for c in first_question.split(\" \") if c.isalpha()]))"
   ]
  },
  {
   "cell_type": "markdown",
   "metadata": {},
   "source": [
    "The most common words *to the mean vector of* the first question are words that are very common and do not find the meaning very well."
   ]
  },
  {
   "cell_type": "markdown",
   "metadata": {},
   "source": [
    "This is a sign that possibly using stop words might benefit us in terms of accuracy. Lets import spacys stop words, since they are pre-determined and they might work well with spacys built in vectors that I am also using."
   ]
  },
  {
   "cell_type": "code",
   "execution_count": 816,
   "metadata": {},
   "outputs": [],
   "source": [
    "from spacy.lang.en.stop_words import STOP_WORDS # importing the stop words"
   ]
  },
  {
   "cell_type": "markdown",
   "metadata": {},
   "source": [
    "I now print out 10 random stop words just to get a feel for how common these words are, based on the ones that I see there are less common words than \"the\" and \"and\". I do not know if this is a good or bad thing, and I suppose that I will just have to wait until I get results to make a decision on that."
   ]
  },
  {
   "cell_type": "code",
   "execution_count": 817,
   "metadata": {},
   "outputs": [
    {
     "name": "stdout",
     "output_type": "stream",
     "text": [
      "back\n",
      "but\n",
      "hers\n",
      "a\n",
      "'re\n",
      "over\n",
      "they\n",
      "ca\n",
      "rather\n",
      "seemed\n"
     ]
    }
   ],
   "source": [
    "for i in range(10):\n",
    "    item = STOP_WORDS.pop()\n",
    "    print(item)"
   ]
  },
  {
   "cell_type": "markdown",
   "metadata": {},
   "source": [
    "Lets manually go in and only use tokens that are not stop words. The other option would be to also remove the stop words from each question text, however I think that removing the stop words from the tokens should be enough given the way that I am implementing my closest function. **This remains to be see however.**"
   ]
  },
  {
   "cell_type": "markdown",
   "metadata": {},
   "source": [
    "Notice I add the ony extra condition that they are not in the list of stop words, I use set to remove any duplicates words, since we only need one copy of each word the way that my function is set up."
   ]
  },
  {
   "cell_type": "code",
   "execution_count": 820,
   "metadata": {},
   "outputs": [],
   "source": [
    "tokens = list(set([token.lower() for token in new_list if token.lower() not in list(STOP_WORDS) and token.isalpha()]))"
   ]
  },
  {
   "cell_type": "code",
   "execution_count": 923,
   "metadata": {},
   "outputs": [
    {
     "data": {
      "text/plain": [
       "'We now have 170954 words in our vocabulary.'"
      ]
     },
     "execution_count": 923,
     "metadata": {},
     "output_type": "execute_result"
    }
   ],
   "source": [
    "\"We now have \" + str(len(tokens)) + \" words in our vocabulary.\""
   ]
  },
  {
   "cell_type": "markdown",
   "metadata": {},
   "source": [
    "It looks like we correctly removed the unwanted stop words. Now lets try the same procedure as before on the first question, but this time with my improved list of tokens."
   ]
  },
  {
   "cell_type": "code",
   "execution_count": 822,
   "metadata": {},
   "outputs": [
    {
     "data": {
      "text/plain": [
       "'which is the most common use of opt-in e-mail marketing'"
      ]
     },
     "execution_count": 822,
     "metadata": {},
     "output_type": "execute_result"
    }
   ],
   "source": [
    "first_question"
   ]
  },
  {
   "cell_type": "code",
   "execution_count": 823,
   "metadata": {},
   "outputs": [
    {
     "data": {
      "text/plain": [
       "['that',\n",
       " 'but',\n",
       " 'actually',\n",
       " 'rather',\n",
       " 'essentially',\n",
       " 'fact',\n",
       " 'generally',\n",
       " 'they',\n",
       " 'given',\n",
       " 'so']"
      ]
     },
     "execution_count": 823,
     "metadata": {},
     "output_type": "execute_result"
    }
   ],
   "source": [
    "spacy_closest(tokens, meanv([vec(c) for c in first_question.split(\" \") if c.isalpha()]))"
   ]
  },
  {
   "cell_type": "markdown",
   "metadata": {},
   "source": [
    "Note that in this case we are removing the stop words from the available words that this vector can be close to but we are not removing said stop words from the question itself as I mentioned before. Despite that these actually seem like *better* results. I am not thrilled with the fact that \"opt-in\", email\", and \"marketing\" were all not selected. There is much room for improvement."
   ]
  },
  {
   "cell_type": "markdown",
   "metadata": {},
   "source": [
    "I think that the function that I am using is very slow and I need something faster if I am going to do this in any repeated way, but I might just keep the scale low so that I can do a more in depth analysis on the specific questions, as I said before this is very unsupervised. Lets take a look at some more questions and see if the spacy_closest function is coming up with any worthwhile results."
   ]
  },
  {
   "cell_type": "code",
   "execution_count": 824,
   "metadata": {},
   "outputs": [],
   "source": [
    "second_question = all_questions[1]"
   ]
  },
  {
   "cell_type": "code",
   "execution_count": 825,
   "metadata": {},
   "outputs": [
    {
     "data": {
      "text/plain": [
       "'how i.met your mother who is the mother'"
      ]
     },
     "execution_count": 825,
     "metadata": {},
     "output_type": "execute_result"
    }
   ],
   "source": [
    "second_question"
   ]
  },
  {
   "cell_type": "code",
   "execution_count": 826,
   "metadata": {},
   "outputs": [
    {
     "data": {
      "text/plain": [
       "['understand',\n",
       " 'know',\n",
       " 'explain',\n",
       " 'tell',\n",
       " 'that',\n",
       " 'think',\n",
       " 'way',\n",
       " 'learn',\n",
       " 'so',\n",
       " 'sure']"
      ]
     },
     "execution_count": 826,
     "metadata": {},
     "output_type": "execute_result"
    }
   ],
   "source": [
    "spacy_closest(tokens, meanv([vec(c) for c in second_question.split(\" \") if c.isalpha()]))"
   ]
  },
  {
   "cell_type": "markdown",
   "metadata": {},
   "source": [
    "I feel like this is picking up on the fact that this sentence is a question a little bit too much rather than getting more at the context of the question itself."
   ]
  },
  {
   "cell_type": "code",
   "execution_count": 827,
   "metadata": {},
   "outputs": [],
   "source": [
    "third_question = all_questions[2]"
   ]
  },
  {
   "cell_type": "code",
   "execution_count": 828,
   "metadata": {},
   "outputs": [
    {
     "data": {
      "text/plain": [
       "'what type of fertilisation takes place in humans'"
      ]
     },
     "execution_count": 828,
     "metadata": {},
     "output_type": "execute_result"
    }
   ],
   "source": [
    "third_question"
   ]
  },
  {
   "cell_type": "code",
   "execution_count": 829,
   "metadata": {},
   "outputs": [
    {
     "data": {
      "text/plain": [
       "['know',\n",
       " 'think',\n",
       " 'thing',\n",
       " 'that',\n",
       " 'exactly',\n",
       " 'thought',\n",
       " 'tell',\n",
       " 'understand',\n",
       " 'believe',\n",
       " 'sure']"
      ]
     },
     "execution_count": 829,
     "metadata": {},
     "output_type": "execute_result"
    }
   ],
   "source": [
    "spacy_closest(tokens, meanv([vec(c) for c in third_question.split(\" \") if c.isalpha()]))"
   ]
  },
  {
   "cell_type": "code",
   "execution_count": 830,
   "metadata": {},
   "outputs": [],
   "source": [
    "fourth_question = all_questions[3]"
   ]
  },
  {
   "cell_type": "code",
   "execution_count": 831,
   "metadata": {},
   "outputs": [
    {
     "data": {
      "text/plain": [
       "'who had the most wins in the nfl'"
      ]
     },
     "execution_count": 831,
     "metadata": {},
     "output_type": "execute_result"
    }
   ],
   "source": [
    "fourth_question"
   ]
  },
  {
   "cell_type": "code",
   "execution_count": 832,
   "metadata": {},
   "outputs": [
    {
     "data": {
      "text/plain": [
       "['whose',\n",
       " 'he',\n",
       " 'knew',\n",
       " 'knows',\n",
       " 'they',\n",
       " 'have',\n",
       " 'had',\n",
       " 'people',\n",
       " 'wanted',\n",
       " 'know']"
      ]
     },
     "execution_count": 832,
     "metadata": {},
     "output_type": "execute_result"
    }
   ],
   "source": [
    "spacy_closest(tokens, meanv([vec(c) for c in fourth_question.split(\" \") if c.isalpha()]))"
   ]
  },
  {
   "cell_type": "markdown",
   "metadata": {},
   "source": [
    "There are a few things of note that come to mind upon looking at these first four observations. As I noted previously my closeness function is picking up too much on the fact that the phrase is a question, but also I am now getting the sense that my choice to only remove stop_words from the tokens list and not the questions could be detrimental to my results."
   ]
  },
  {
   "cell_type": "markdown",
   "metadata": {},
   "source": [
    "Consider this:\n",
    "\n",
    "If the word shows up in the question it is still going to affect the value for the mean vector for that sentence. When it comes time for spacy_closest to find the closest word vectors to the mean of the sentence it is not going to have the luxury of using any of the words that are stop words and this might hinder our results, since the stop words were made stop words since they are the most common words! I have a way to remedy this problem though. I am now going to do two things:\n",
    "- I am going to add the common question terms to the list of stop words\n",
    "- I am going to remove stop words from the questions themselves to alleviate the possible hinderance in prediction that I just mentioned."
   ]
  },
  {
   "cell_type": "markdown",
   "metadata": {},
   "source": [
    "The first thing that I am going to do is make a list of all of the stop words as well as all of the question related words (I know I already imported the list of stop words but the uppercase was annoying). For the question related words I am going to first consider: who, what, when, where and why as those seem to me to be the most \"questiony\" words that I know of."
   ]
  },
  {
   "cell_type": "code",
   "execution_count": 833,
   "metadata": {},
   "outputs": [],
   "source": [
    "stop_words = list(STOP_WORDS)"
   ]
  },
  {
   "cell_type": "code",
   "execution_count": 834,
   "metadata": {},
   "outputs": [],
   "source": [
    "stop_words.extend([\"who\", \"what\", \"when\", \"where\", \"why\"]) #extending the list"
   ]
  },
  {
   "cell_type": "code",
   "execution_count": 835,
   "metadata": {},
   "outputs": [],
   "source": [
    "stop_words = list(set(stop_words)) #this is just in case some of those words were already in the list\n",
    "# or if I ran the above line of code too many times."
   ]
  },
  {
   "cell_type": "markdown",
   "metadata": {},
   "source": [
    "Now I am ready to create my new tokens. These are what I am going to use to remove from each question.\n",
    "Below I create the tokens and print out the first 10 questions to try out the removal procedure with."
   ]
  },
  {
   "cell_type": "code",
   "execution_count": 836,
   "metadata": {},
   "outputs": [],
   "source": [
    "tokens = list(set([token.lower() for token in new_list if token.lower() not in list(stop_words) and token.isalpha()]))"
   ]
  },
  {
   "cell_type": "code",
   "execution_count": 837,
   "metadata": {},
   "outputs": [],
   "source": [
    "top_10_questions = all_questions[:10]"
   ]
  },
  {
   "cell_type": "code",
   "execution_count": 838,
   "metadata": {},
   "outputs": [
    {
     "data": {
      "text/plain": [
       "0    which is the most common use of opt-in e-mail ...\n",
       "1              how i.met your mother who is the mother\n",
       "2     what type of fertilisation takes place in humans\n",
       "3                     who had the most wins in the nfl\n",
       "4      what happened to the lost settlement of roanoke\n",
       "5    what are the different regions of africa and h...\n",
       "6          who played mantis guardians of the galaxy 2\n",
       "7    who did the voice of the magician in frosty th...\n",
       "8    what indian tribe did the acadians form friend...\n",
       "9    what is considered the outer banks in north ca...\n",
       "Name: question_text, dtype: object"
      ]
     },
     "execution_count": 838,
     "metadata": {},
     "output_type": "execute_result"
    }
   ],
   "source": [
    "top_10_questions"
   ]
  },
  {
   "cell_type": "markdown",
   "metadata": {},
   "source": [
    "This function gets the job done."
   ]
  },
  {
   "cell_type": "code",
   "execution_count": 839,
   "metadata": {},
   "outputs": [],
   "source": [
    "fixed_top_questions = []\n",
    "for i in range(len(top_10_questions)):\n",
    "    new_string = []\n",
    "    temp = top_10_questions[i].split(\" \")\n",
    "    for char in temp:\n",
    "        if char not in stop_words:\n",
    "            new_string.append(char)\n",
    "    fixed_top_questions.append(new_string)\n",
    "fix2 = []\n",
    "for i in range(len(fixed_top_questions)):\n",
    "    fix2.append(\" \".join(fixed_top_questions[i]))\n",
    "fixed_top_questions = pd.Series(fix2)"
   ]
  },
  {
   "cell_type": "code",
   "execution_count": 840,
   "metadata": {},
   "outputs": [
    {
     "data": {
      "text/plain": [
       "0                  common use opt-in e-mail marketing\n",
       "1                                 i.met mother mother\n",
       "2               type fertilisation takes place humans\n",
       "3                                        had wins nfl\n",
       "4                    happened lost settlement roanoke\n",
       "5             different regions africa do they differ\n",
       "6                    played mantis guardians galaxy 2\n",
       "7                       voice magician frosty snowman\n",
       "8    indian tribe acadians form friendships alliances\n",
       "9               considered outer banks north carolina\n",
       "dtype: object"
      ]
     },
     "execution_count": 840,
     "metadata": {},
     "output_type": "execute_result"
    }
   ],
   "source": [
    "fixed_top_questions"
   ]
  },
  {
   "cell_type": "markdown",
   "metadata": {},
   "source": [
    "Since this is a very manual procedure I am going to go by one by one and check the closest words to the mean vectors of the first four questions."
   ]
  },
  {
   "cell_type": "code",
   "execution_count": 841,
   "metadata": {},
   "outputs": [
    {
     "data": {
      "text/plain": [
       "'common use opt-in e-mail marketing'"
      ]
     },
     "execution_count": 841,
     "metadata": {},
     "output_type": "execute_result"
    }
   ],
   "source": [
    "first_question = fixed_top_questions[0]\n",
    "first_question"
   ]
  },
  {
   "cell_type": "code",
   "execution_count": 842,
   "metadata": {},
   "outputs": [
    {
     "data": {
      "text/plain": [
       "['common',\n",
       " 'popularly',\n",
       " 'colloquially',\n",
       " 'commonly',\n",
       " 'certain',\n",
       " 'uncommon',\n",
       " 'associated',\n",
       " 'particular',\n",
       " 'types',\n",
       " 'prevalent']"
      ]
     },
     "execution_count": 842,
     "metadata": {},
     "output_type": "execute_result"
    }
   ],
   "source": [
    "spacy_closest(tokens, meanv([vec(c) for c in first_question.split(\" \") if c.isalpha()]))"
   ]
  },
  {
   "cell_type": "markdown",
   "metadata": {},
   "source": [
    "This is much better in my opinion it picked up on the term common and popularity, as compared to before when we were only able to really pick up on the fact that it was a question being asked (all of the observations that I am currently considering are questions, so that is not very informative at all). I will print out the corresponding question as well so you can see how it was affected by the stop words \"cropping\" it (to hopefully its meaning!)."
   ]
  },
  {
   "cell_type": "code",
   "execution_count": 843,
   "metadata": {},
   "outputs": [
    {
     "data": {
      "text/plain": [
       "'i.met mother mother'"
      ]
     },
     "execution_count": 843,
     "metadata": {},
     "output_type": "execute_result"
    }
   ],
   "source": [
    "second_question = fixed_top_questions[1]\n",
    "second_question"
   ]
  },
  {
   "cell_type": "code",
   "execution_count": 844,
   "metadata": {},
   "outputs": [
    {
     "data": {
      "text/plain": [
       "['mother',\n",
       " 'daughter',\n",
       " 'grandmother',\n",
       " 'matriarch',\n",
       " 'homemaker',\n",
       " 'stepfather',\n",
       " 'father',\n",
       " 'sister',\n",
       " 'wife',\n",
       " 'stepmother']"
      ]
     },
     "execution_count": 844,
     "metadata": {},
     "output_type": "execute_result"
    }
   ],
   "source": [
    "spacy_closest(tokens, meanv([vec(c) for c in second_question.split(\" \") if c.isalpha()]))"
   ]
  },
  {
   "cell_type": "markdown",
   "metadata": {},
   "source": [
    "We see some family members here."
   ]
  },
  {
   "cell_type": "code",
   "execution_count": 845,
   "metadata": {},
   "outputs": [
    {
     "data": {
      "text/plain": [
       "'type fertilisation takes place humans'"
      ]
     },
     "execution_count": 845,
     "metadata": {},
     "output_type": "execute_result"
    }
   ],
   "source": [
    "third_question = fixed_top_questions[2]\n",
    "third_question"
   ]
  },
  {
   "cell_type": "code",
   "execution_count": 846,
   "metadata": {},
   "outputs": [
    {
     "data": {
      "text/plain": [
       "['type',\n",
       " 'types',\n",
       " 'kind',\n",
       " 'sort',\n",
       " 'specific',\n",
       " 'example',\n",
       " 'particular',\n",
       " 'similar',\n",
       " 'different',\n",
       " 'style']"
      ]
     },
     "execution_count": 846,
     "metadata": {},
     "output_type": "execute_result"
    }
   ],
   "source": [
    "spacy_closest(tokens, meanv([vec(c) for c in third_question.split(\" \") if c.isalpha()]))"
   ]
  },
  {
   "cell_type": "markdown",
   "metadata": {},
   "source": [
    "I bet that we would have picked up on the uncommon word fertilization if they had managed to spell it right!"
   ]
  },
  {
   "cell_type": "code",
   "execution_count": 847,
   "metadata": {},
   "outputs": [
    {
     "data": {
      "text/plain": [
       "'had wins nfl'"
      ]
     },
     "execution_count": 847,
     "metadata": {},
     "output_type": "execute_result"
    }
   ],
   "source": [
    "fourth_question = fixed_top_questions[3]\n",
    "fourth_question"
   ]
  },
  {
   "cell_type": "code",
   "execution_count": 848,
   "metadata": {},
   "outputs": [
    {
     "data": {
      "text/plain": [
       "['had',\n",
       " 'came',\n",
       " 'took',\n",
       " 'got',\n",
       " 'have',\n",
       " 'went',\n",
       " 'knew',\n",
       " 'gave',\n",
       " 'brought',\n",
       " 'turned']"
      ]
     },
     "execution_count": 848,
     "metadata": {},
     "output_type": "execute_result"
    }
   ],
   "source": [
    "spacy_closest(tokens, meanv([vec(c) for c in fourth_question.split(\" \") if c.isalpha()]))"
   ]
  },
  {
   "cell_type": "markdown",
   "metadata": {},
   "source": [
    "We did not do as well on this one in my opinion, but a three word question is tough."
   ]
  },
  {
   "cell_type": "markdown",
   "metadata": {},
   "source": [
    "I now have viewed the top four questions in both \"versions\" of my algorithm. I think, although I do not have a mathematical metric, that my results have been much improved in the second iteration now that I am removing the stop words and also adding the question words and I believe that the statement that I made above was correct. A few things come to mind upon viewing these contrasting results.\n",
    "- It would be good if words that had more meaning, such as the word nfl in question 4 would be weighted more, similar to how it would be in a tf-idf, but I am not sure how I would go about doing that since I am using spacy's built in vectors and very simple functions for assessing vector similarity.\n",
    "- I am thinking of ways that I could get a definitive, numerical answer for what the best list of spacially proximate mean vectors to my question is. Part of the reason that I chose this second objective was because I wanted to do some sort of unsupervised task and I feel that trying to get a \"correct answer\" is veering too close to our main objective of classification.\n",
    "- I could automate this process such that it is easy to see the various lists of words close to the mean vector of a given question while still having no real scoring metric, however I am going to move on to slightly different ideas that I have."
   ]
  },
  {
   "cell_type": "markdown",
   "metadata": {},
   "source": [
    "What I was just doing above is fairly slow and takes a lot of manual work. We had to look at each list of the most similar words corresponding to a stripped down question's mean vector where any word in the question that was either a stop word (subjective) or a word that was commonly found in questions (subjective) was removed.\n",
    "\n",
    "Computers are good at finding patterns in the data, we just have to give them a chance to do it."
   ]
  },
  {
   "cell_type": "markdown",
   "metadata": {},
   "source": [
    "Let me first do a little bit more cleaning on the questions. I am just going to remove the . and - tokens because I have seen them and they cannot be helping."
   ]
  },
  {
   "cell_type": "code",
   "execution_count": 849,
   "metadata": {},
   "outputs": [],
   "source": [
    "all_questions = all_questions.apply(lambda x : \" \".join(x.split(\".\")))\n",
    "all_questions = all_questions.apply(lambda x : \" \".join(x.split(\"-\")))"
   ]
  },
  {
   "cell_type": "code",
   "execution_count": 850,
   "metadata": {},
   "outputs": [],
   "source": [
    "first_question = all_questions[0]"
   ]
  },
  {
   "cell_type": "code",
   "execution_count": 851,
   "metadata": {},
   "outputs": [
    {
     "data": {
      "text/plain": [
       "'which is the most common use of opt in e mail marketing'"
      ]
     },
     "execution_count": 851,
     "metadata": {},
     "output_type": "execute_result"
    }
   ],
   "source": [
    "first_question "
   ]
  },
  {
   "cell_type": "markdown",
   "metadata": {},
   "source": [
    "I noticed that some questions were either separated by \"-\" or \".\" due to user error, this is something that cannot improve accuracy of the model and so I will get rid of them. You can see this was fixed on the first question which you are probably all too familiar with now."
   ]
  },
  {
   "cell_type": "markdown",
   "metadata": {},
   "source": [
    "I am keeping this notion of removing words that are stop words (or question related words) in this section of my secondary objective, because if I found such promising results in the section above I do not see why thos strategy should not deliver good results now in a different, but similar, setting. Data science is very iterative after all and if you find something works it probably a good decision to stick with it."
   ]
  },
  {
   "cell_type": "markdown",
   "metadata": {},
   "source": [
    "I now define a function that automatically calculates the mean vector for a sentence, using the same mean vector function that I was using before."
   ]
  },
  {
   "cell_type": "code",
   "execution_count": 852,
   "metadata": {},
   "outputs": [],
   "source": [
    "def sentvec(s):\n",
    "    return meanv([vec(c) for c in s.split(\" \") if c.isalpha() and c.lower() not in stop_words])"
   ]
  },
  {
   "cell_type": "code",
   "execution_count": 853,
   "metadata": {},
   "outputs": [],
   "source": [
    "vectorized_question = sentvec(first_question) "
   ]
  },
  {
   "cell_type": "code",
   "execution_count": 854,
   "metadata": {},
   "outputs": [
    {
     "data": {
      "text/plain": [
       "array([-7.5180002e-02,  3.4659998e-03, -7.1839996e-02, -2.7884999e-02,\n",
       "        2.2653334e-02, -3.4059998e-02, -4.3970000e-02, -2.4180001e-02,\n",
       "       -3.3763334e-02,  3.3821666e-01, -5.3521667e-02, -4.9103335e-02,\n",
       "        7.7581666e-02,  7.9080000e-06, -4.4225004e-02,  3.5818335e-02,\n",
       "       -1.1858833e-02,  2.9381666e-01, -3.2028332e-02,  3.4908336e-02,\n",
       "       -5.9171665e-02,  1.4789500e-02, -9.0640001e-02, -3.8759999e-02,\n",
       "        7.9083331e-02, -6.2668331e-02,  5.9968334e-02, -3.2126668e-03,\n",
       "       -6.0979999e-03,  3.4943331e-02], dtype=float32)"
      ]
     },
     "execution_count": 854,
     "metadata": {},
     "output_type": "execute_result"
    }
   ],
   "source": [
    "vectorized_question[:30] #printing out the first 30 components of this vector"
   ]
  },
  {
   "cell_type": "markdown",
   "metadata": {},
   "source": [
    "Looks like a nice random vector."
   ]
  },
  {
   "cell_type": "markdown",
   "metadata": {},
   "source": [
    "Now I am going to loop through and get the mean vector for each question in all questions. I am then going to line each vector up and get them into a form that is amiable to analysis (dataframe)."
   ]
  },
  {
   "cell_type": "code",
   "execution_count": 855,
   "metadata": {},
   "outputs": [],
   "source": [
    "results = []\n",
    "all_questions_list = []\n",
    "for i in range(len(all_questions)):\n",
    "    results.append(sentvec(all_questions[i]))"
   ]
  },
  {
   "cell_type": "markdown",
   "metadata": {},
   "source": [
    "I can use the transpose function of a data frame so that each observation is a row as hoped for."
   ]
  },
  {
   "cell_type": "code",
   "execution_count": 857,
   "metadata": {},
   "outputs": [
    {
     "data": {
      "text/html": [
       "<div>\n",
       "<style scoped>\n",
       "    .dataframe tbody tr th:only-of-type {\n",
       "        vertical-align: middle;\n",
       "    }\n",
       "\n",
       "    .dataframe tbody tr th {\n",
       "        vertical-align: top;\n",
       "    }\n",
       "\n",
       "    .dataframe thead th {\n",
       "        text-align: right;\n",
       "    }\n",
       "</style>\n",
       "<table border=\"1\" class=\"dataframe\">\n",
       "  <thead>\n",
       "    <tr style=\"text-align: right;\">\n",
       "      <th></th>\n",
       "      <th>0</th>\n",
       "      <th>1</th>\n",
       "      <th>2</th>\n",
       "      <th>3</th>\n",
       "      <th>4</th>\n",
       "      <th>5</th>\n",
       "      <th>6</th>\n",
       "      <th>7</th>\n",
       "      <th>8</th>\n",
       "      <th>9</th>\n",
       "      <th>...</th>\n",
       "      <th>290</th>\n",
       "      <th>291</th>\n",
       "      <th>292</th>\n",
       "      <th>293</th>\n",
       "      <th>294</th>\n",
       "      <th>295</th>\n",
       "      <th>296</th>\n",
       "      <th>297</th>\n",
       "      <th>298</th>\n",
       "      <th>299</th>\n",
       "    </tr>\n",
       "  </thead>\n",
       "  <tbody>\n",
       "    <tr>\n",
       "      <td>0</td>\n",
       "      <td>-0.07518</td>\n",
       "      <td>0.003466</td>\n",
       "      <td>-0.07184</td>\n",
       "      <td>-0.027885</td>\n",
       "      <td>0.022653</td>\n",
       "      <td>-0.03406</td>\n",
       "      <td>-0.04397</td>\n",
       "      <td>-0.02418</td>\n",
       "      <td>-0.033763</td>\n",
       "      <td>0.338217</td>\n",
       "      <td>...</td>\n",
       "      <td>-0.086975</td>\n",
       "      <td>0.019682</td>\n",
       "      <td>-0.065873</td>\n",
       "      <td>-0.046742</td>\n",
       "      <td>-0.050225</td>\n",
       "      <td>0.110153</td>\n",
       "      <td>-0.024222</td>\n",
       "      <td>-0.103862</td>\n",
       "      <td>0.017122</td>\n",
       "      <td>-0.007178</td>\n",
       "    </tr>\n",
       "  </tbody>\n",
       "</table>\n",
       "<p>1 rows × 300 columns</p>\n",
       "</div>"
      ],
      "text/plain": [
       "       0         1        2         3         4        5        6        7    \\\n",
       "0 -0.07518  0.003466 -0.07184 -0.027885  0.022653 -0.03406 -0.04397 -0.02418   \n",
       "\n",
       "        8         9    ...       290       291       292       293       294  \\\n",
       "0 -0.033763  0.338217  ... -0.086975  0.019682 -0.065873 -0.046742 -0.050225   \n",
       "\n",
       "        295       296       297       298       299  \n",
       "0  0.110153 -0.024222 -0.103862  0.017122 -0.007178  \n",
       "\n",
       "[1 rows x 300 columns]"
      ]
     },
     "execution_count": 857,
     "metadata": {},
     "output_type": "execute_result"
    }
   ],
   "source": [
    "pd.DataFrame(results[0]).T"
   ]
  },
  {
   "cell_type": "code",
   "execution_count": 858,
   "metadata": {},
   "outputs": [],
   "source": [
    "question_vectors = pd.DataFrame(results)"
   ]
  },
  {
   "cell_type": "code",
   "execution_count": 942,
   "metadata": {},
   "outputs": [
    {
     "data": {
      "text/html": [
       "<div>\n",
       "<style scoped>\n",
       "    .dataframe tbody tr th:only-of-type {\n",
       "        vertical-align: middle;\n",
       "    }\n",
       "\n",
       "    .dataframe tbody tr th {\n",
       "        vertical-align: top;\n",
       "    }\n",
       "\n",
       "    .dataframe thead th {\n",
       "        text-align: right;\n",
       "    }\n",
       "</style>\n",
       "<table border=\"1\" class=\"dataframe\">\n",
       "  <thead>\n",
       "    <tr style=\"text-align: right;\">\n",
       "      <th></th>\n",
       "      <th>0</th>\n",
       "      <th>1</th>\n",
       "      <th>2</th>\n",
       "      <th>3</th>\n",
       "      <th>4</th>\n",
       "      <th>5</th>\n",
       "      <th>6</th>\n",
       "      <th>7</th>\n",
       "      <th>8</th>\n",
       "      <th>9</th>\n",
       "      <th>...</th>\n",
       "      <th>292</th>\n",
       "      <th>293</th>\n",
       "      <th>294</th>\n",
       "      <th>295</th>\n",
       "      <th>296</th>\n",
       "      <th>297</th>\n",
       "      <th>298</th>\n",
       "      <th>299</th>\n",
       "      <th>PC1</th>\n",
       "      <th>PC2</th>\n",
       "    </tr>\n",
       "  </thead>\n",
       "  <tbody>\n",
       "    <tr>\n",
       "      <td>0</td>\n",
       "      <td>-0.075180</td>\n",
       "      <td>0.003466</td>\n",
       "      <td>-0.071840</td>\n",
       "      <td>-0.027885</td>\n",
       "      <td>0.022653</td>\n",
       "      <td>-0.034060</td>\n",
       "      <td>-0.043970</td>\n",
       "      <td>-0.024180</td>\n",
       "      <td>-0.033763</td>\n",
       "      <td>0.338217</td>\n",
       "      <td>...</td>\n",
       "      <td>-0.065873</td>\n",
       "      <td>-0.046742</td>\n",
       "      <td>-0.050225</td>\n",
       "      <td>0.110153</td>\n",
       "      <td>-0.024222</td>\n",
       "      <td>-0.103862</td>\n",
       "      <td>0.017122</td>\n",
       "      <td>-0.007178</td>\n",
       "      <td>-0.267968</td>\n",
       "      <td>-0.244682</td>\n",
       "    </tr>\n",
       "    <tr>\n",
       "      <td>1</td>\n",
       "      <td>0.046832</td>\n",
       "      <td>0.101488</td>\n",
       "      <td>-0.127935</td>\n",
       "      <td>-0.138705</td>\n",
       "      <td>0.009929</td>\n",
       "      <td>0.032217</td>\n",
       "      <td>0.112843</td>\n",
       "      <td>-0.147872</td>\n",
       "      <td>0.038978</td>\n",
       "      <td>0.378425</td>\n",
       "      <td>...</td>\n",
       "      <td>-0.097855</td>\n",
       "      <td>-0.081207</td>\n",
       "      <td>0.158627</td>\n",
       "      <td>-0.047275</td>\n",
       "      <td>0.013512</td>\n",
       "      <td>0.041237</td>\n",
       "      <td>0.046893</td>\n",
       "      <td>0.134685</td>\n",
       "      <td>-0.025900</td>\n",
       "      <td>0.284697</td>\n",
       "    </tr>\n",
       "    <tr>\n",
       "      <td>2</td>\n",
       "      <td>0.032674</td>\n",
       "      <td>0.037282</td>\n",
       "      <td>-0.076780</td>\n",
       "      <td>-0.058356</td>\n",
       "      <td>-0.007103</td>\n",
       "      <td>0.015673</td>\n",
       "      <td>0.032476</td>\n",
       "      <td>-0.084266</td>\n",
       "      <td>-0.015124</td>\n",
       "      <td>0.207780</td>\n",
       "      <td>...</td>\n",
       "      <td>-0.041688</td>\n",
       "      <td>0.013165</td>\n",
       "      <td>-0.011194</td>\n",
       "      <td>0.085686</td>\n",
       "      <td>-0.074116</td>\n",
       "      <td>-0.005106</td>\n",
       "      <td>0.051784</td>\n",
       "      <td>0.013222</td>\n",
       "      <td>-0.235349</td>\n",
       "      <td>-0.204261</td>\n",
       "    </tr>\n",
       "    <tr>\n",
       "      <td>3</td>\n",
       "      <td>0.028767</td>\n",
       "      <td>0.094930</td>\n",
       "      <td>0.021331</td>\n",
       "      <td>-0.057620</td>\n",
       "      <td>-0.048200</td>\n",
       "      <td>0.001213</td>\n",
       "      <td>0.037303</td>\n",
       "      <td>-0.067507</td>\n",
       "      <td>0.014020</td>\n",
       "      <td>1.117967</td>\n",
       "      <td>...</td>\n",
       "      <td>0.107137</td>\n",
       "      <td>0.114673</td>\n",
       "      <td>0.117197</td>\n",
       "      <td>-0.094053</td>\n",
       "      <td>0.021554</td>\n",
       "      <td>0.056703</td>\n",
       "      <td>0.112083</td>\n",
       "      <td>-0.051547</td>\n",
       "      <td>0.563424</td>\n",
       "      <td>-0.447368</td>\n",
       "    </tr>\n",
       "    <tr>\n",
       "      <td>4</td>\n",
       "      <td>-0.020554</td>\n",
       "      <td>0.081973</td>\n",
       "      <td>-0.029710</td>\n",
       "      <td>0.017950</td>\n",
       "      <td>-0.019359</td>\n",
       "      <td>-0.004246</td>\n",
       "      <td>-0.044645</td>\n",
       "      <td>0.034162</td>\n",
       "      <td>-0.017335</td>\n",
       "      <td>0.756750</td>\n",
       "      <td>...</td>\n",
       "      <td>0.048945</td>\n",
       "      <td>0.027440</td>\n",
       "      <td>0.096500</td>\n",
       "      <td>-0.056072</td>\n",
       "      <td>-0.109697</td>\n",
       "      <td>0.065008</td>\n",
       "      <td>0.053822</td>\n",
       "      <td>0.022264</td>\n",
       "      <td>0.274931</td>\n",
       "      <td>-0.105651</td>\n",
       "    </tr>\n",
       "  </tbody>\n",
       "</table>\n",
       "<p>5 rows × 302 columns</p>\n",
       "</div>"
      ],
      "text/plain": [
       "          0         1         2         3         4         5         6  \\\n",
       "0 -0.075180  0.003466 -0.071840 -0.027885  0.022653 -0.034060 -0.043970   \n",
       "1  0.046832  0.101488 -0.127935 -0.138705  0.009929  0.032217  0.112843   \n",
       "2  0.032674  0.037282 -0.076780 -0.058356 -0.007103  0.015673  0.032476   \n",
       "3  0.028767  0.094930  0.021331 -0.057620 -0.048200  0.001213  0.037303   \n",
       "4 -0.020554  0.081973 -0.029710  0.017950 -0.019359 -0.004246 -0.044645   \n",
       "\n",
       "          7         8         9  ...       292       293       294       295  \\\n",
       "0 -0.024180 -0.033763  0.338217  ... -0.065873 -0.046742 -0.050225  0.110153   \n",
       "1 -0.147872  0.038978  0.378425  ... -0.097855 -0.081207  0.158627 -0.047275   \n",
       "2 -0.084266 -0.015124  0.207780  ... -0.041688  0.013165 -0.011194  0.085686   \n",
       "3 -0.067507  0.014020  1.117967  ...  0.107137  0.114673  0.117197 -0.094053   \n",
       "4  0.034162 -0.017335  0.756750  ...  0.048945  0.027440  0.096500 -0.056072   \n",
       "\n",
       "        296       297       298       299       PC1       PC2  \n",
       "0 -0.024222 -0.103862  0.017122 -0.007178 -0.267968 -0.244682  \n",
       "1  0.013512  0.041237  0.046893  0.134685 -0.025900  0.284697  \n",
       "2 -0.074116 -0.005106  0.051784  0.013222 -0.235349 -0.204261  \n",
       "3  0.021554  0.056703  0.112083 -0.051547  0.563424 -0.447368  \n",
       "4 -0.109697  0.065008  0.053822  0.022264  0.274931 -0.105651  \n",
       "\n",
       "[5 rows x 302 columns]"
      ]
     },
     "execution_count": 942,
     "metadata": {},
     "output_type": "execute_result"
    }
   ],
   "source": [
    "question_vectors.head(5)"
   ]
  },
  {
   "cell_type": "markdown",
   "metadata": {},
   "source": [
    "We now have a data frame that has as its rows, questions in vectorized form with each column being one of the components of said vector. I decided to put the vectors on their \"side\" like this because we are used to rows corresponding to observations and columns corresponding to variables. This familiar tabular data form will allow us to perform our usual machine learning or unsupervised tasks easily without much more pre-processing.\n",
    "\n",
    "I now fit PCA once again."
   ]
  },
  {
   "cell_type": "code",
   "execution_count": 863,
   "metadata": {},
   "outputs": [
    {
     "data": {
      "text/plain": [
       "PCA(copy=True, iterated_power='auto', n_components=2, random_state=None,\n",
       "    svd_solver='auto', tol=0.0, whiten=False)"
      ]
     },
     "execution_count": 863,
     "metadata": {},
     "output_type": "execute_result"
    }
   ],
   "source": [
    "pca = PCA(n_components = 2)\n",
    "\n",
    "pca.fit(question_vectors)"
   ]
  },
  {
   "cell_type": "code",
   "execution_count": 864,
   "metadata": {},
   "outputs": [],
   "source": [
    "pca_question_data = pca.transform(question_vectors)"
   ]
  },
  {
   "cell_type": "code",
   "execution_count": 865,
   "metadata": {},
   "outputs": [
    {
     "data": {
      "text/plain": [
       "array([[-0.26796794, -0.24468229],\n",
       "       [-0.02590022,  0.28469699],\n",
       "       [-0.23534882, -0.20426107],\n",
       "       ...,\n",
       "       [-0.34798072,  0.76288131],\n",
       "       [-0.33324386,  0.20505137],\n",
       "       [-0.24073889, -0.13924408]])"
      ]
     },
     "execution_count": 865,
     "metadata": {},
     "output_type": "execute_result"
    }
   ],
   "source": [
    "pca_question_data # my pca coordinates"
   ]
  },
  {
   "cell_type": "code",
   "execution_count": 866,
   "metadata": {},
   "outputs": [],
   "source": [
    "new_cols = pd.DataFrame(pca_question_data,columns=[\"PC1\",\"PC2\"])\n",
    "question_vectors = question_vectors.join(new_cols) "
   ]
  },
  {
   "cell_type": "code",
   "execution_count": 941,
   "metadata": {},
   "outputs": [
    {
     "data": {
      "text/html": [
       "<div>\n",
       "<style scoped>\n",
       "    .dataframe tbody tr th:only-of-type {\n",
       "        vertical-align: middle;\n",
       "    }\n",
       "\n",
       "    .dataframe tbody tr th {\n",
       "        vertical-align: top;\n",
       "    }\n",
       "\n",
       "    .dataframe thead th {\n",
       "        text-align: right;\n",
       "    }\n",
       "</style>\n",
       "<table border=\"1\" class=\"dataframe\">\n",
       "  <thead>\n",
       "    <tr style=\"text-align: right;\">\n",
       "      <th></th>\n",
       "      <th>0</th>\n",
       "      <th>1</th>\n",
       "      <th>2</th>\n",
       "      <th>3</th>\n",
       "      <th>4</th>\n",
       "      <th>5</th>\n",
       "      <th>6</th>\n",
       "      <th>7</th>\n",
       "      <th>8</th>\n",
       "      <th>9</th>\n",
       "      <th>...</th>\n",
       "      <th>292</th>\n",
       "      <th>293</th>\n",
       "      <th>294</th>\n",
       "      <th>295</th>\n",
       "      <th>296</th>\n",
       "      <th>297</th>\n",
       "      <th>298</th>\n",
       "      <th>299</th>\n",
       "      <th>PC1</th>\n",
       "      <th>PC2</th>\n",
       "    </tr>\n",
       "  </thead>\n",
       "  <tbody>\n",
       "    <tr>\n",
       "      <td>0</td>\n",
       "      <td>-0.075180</td>\n",
       "      <td>0.003466</td>\n",
       "      <td>-0.071840</td>\n",
       "      <td>-0.027885</td>\n",
       "      <td>0.022653</td>\n",
       "      <td>-0.034060</td>\n",
       "      <td>-0.043970</td>\n",
       "      <td>-0.024180</td>\n",
       "      <td>-0.033763</td>\n",
       "      <td>0.338217</td>\n",
       "      <td>...</td>\n",
       "      <td>-0.065873</td>\n",
       "      <td>-0.046742</td>\n",
       "      <td>-0.050225</td>\n",
       "      <td>0.110153</td>\n",
       "      <td>-0.024222</td>\n",
       "      <td>-0.103862</td>\n",
       "      <td>0.017122</td>\n",
       "      <td>-0.007178</td>\n",
       "      <td>-0.267968</td>\n",
       "      <td>-0.244682</td>\n",
       "    </tr>\n",
       "    <tr>\n",
       "      <td>1</td>\n",
       "      <td>0.046832</td>\n",
       "      <td>0.101488</td>\n",
       "      <td>-0.127935</td>\n",
       "      <td>-0.138705</td>\n",
       "      <td>0.009929</td>\n",
       "      <td>0.032217</td>\n",
       "      <td>0.112843</td>\n",
       "      <td>-0.147872</td>\n",
       "      <td>0.038978</td>\n",
       "      <td>0.378425</td>\n",
       "      <td>...</td>\n",
       "      <td>-0.097855</td>\n",
       "      <td>-0.081207</td>\n",
       "      <td>0.158627</td>\n",
       "      <td>-0.047275</td>\n",
       "      <td>0.013512</td>\n",
       "      <td>0.041237</td>\n",
       "      <td>0.046893</td>\n",
       "      <td>0.134685</td>\n",
       "      <td>-0.025900</td>\n",
       "      <td>0.284697</td>\n",
       "    </tr>\n",
       "    <tr>\n",
       "      <td>2</td>\n",
       "      <td>0.032674</td>\n",
       "      <td>0.037282</td>\n",
       "      <td>-0.076780</td>\n",
       "      <td>-0.058356</td>\n",
       "      <td>-0.007103</td>\n",
       "      <td>0.015673</td>\n",
       "      <td>0.032476</td>\n",
       "      <td>-0.084266</td>\n",
       "      <td>-0.015124</td>\n",
       "      <td>0.207780</td>\n",
       "      <td>...</td>\n",
       "      <td>-0.041688</td>\n",
       "      <td>0.013165</td>\n",
       "      <td>-0.011194</td>\n",
       "      <td>0.085686</td>\n",
       "      <td>-0.074116</td>\n",
       "      <td>-0.005106</td>\n",
       "      <td>0.051784</td>\n",
       "      <td>0.013222</td>\n",
       "      <td>-0.235349</td>\n",
       "      <td>-0.204261</td>\n",
       "    </tr>\n",
       "    <tr>\n",
       "      <td>3</td>\n",
       "      <td>0.028767</td>\n",
       "      <td>0.094930</td>\n",
       "      <td>0.021331</td>\n",
       "      <td>-0.057620</td>\n",
       "      <td>-0.048200</td>\n",
       "      <td>0.001213</td>\n",
       "      <td>0.037303</td>\n",
       "      <td>-0.067507</td>\n",
       "      <td>0.014020</td>\n",
       "      <td>1.117967</td>\n",
       "      <td>...</td>\n",
       "      <td>0.107137</td>\n",
       "      <td>0.114673</td>\n",
       "      <td>0.117197</td>\n",
       "      <td>-0.094053</td>\n",
       "      <td>0.021554</td>\n",
       "      <td>0.056703</td>\n",
       "      <td>0.112083</td>\n",
       "      <td>-0.051547</td>\n",
       "      <td>0.563424</td>\n",
       "      <td>-0.447368</td>\n",
       "    </tr>\n",
       "    <tr>\n",
       "      <td>4</td>\n",
       "      <td>-0.020554</td>\n",
       "      <td>0.081973</td>\n",
       "      <td>-0.029710</td>\n",
       "      <td>0.017950</td>\n",
       "      <td>-0.019359</td>\n",
       "      <td>-0.004246</td>\n",
       "      <td>-0.044645</td>\n",
       "      <td>0.034162</td>\n",
       "      <td>-0.017335</td>\n",
       "      <td>0.756750</td>\n",
       "      <td>...</td>\n",
       "      <td>0.048945</td>\n",
       "      <td>0.027440</td>\n",
       "      <td>0.096500</td>\n",
       "      <td>-0.056072</td>\n",
       "      <td>-0.109697</td>\n",
       "      <td>0.065008</td>\n",
       "      <td>0.053822</td>\n",
       "      <td>0.022264</td>\n",
       "      <td>0.274931</td>\n",
       "      <td>-0.105651</td>\n",
       "    </tr>\n",
       "  </tbody>\n",
       "</table>\n",
       "<p>5 rows × 302 columns</p>\n",
       "</div>"
      ],
      "text/plain": [
       "          0         1         2         3         4         5         6  \\\n",
       "0 -0.075180  0.003466 -0.071840 -0.027885  0.022653 -0.034060 -0.043970   \n",
       "1  0.046832  0.101488 -0.127935 -0.138705  0.009929  0.032217  0.112843   \n",
       "2  0.032674  0.037282 -0.076780 -0.058356 -0.007103  0.015673  0.032476   \n",
       "3  0.028767  0.094930  0.021331 -0.057620 -0.048200  0.001213  0.037303   \n",
       "4 -0.020554  0.081973 -0.029710  0.017950 -0.019359 -0.004246 -0.044645   \n",
       "\n",
       "          7         8         9  ...       292       293       294       295  \\\n",
       "0 -0.024180 -0.033763  0.338217  ... -0.065873 -0.046742 -0.050225  0.110153   \n",
       "1 -0.147872  0.038978  0.378425  ... -0.097855 -0.081207  0.158627 -0.047275   \n",
       "2 -0.084266 -0.015124  0.207780  ... -0.041688  0.013165 -0.011194  0.085686   \n",
       "3 -0.067507  0.014020  1.117967  ...  0.107137  0.114673  0.117197 -0.094053   \n",
       "4  0.034162 -0.017335  0.756750  ...  0.048945  0.027440  0.096500 -0.056072   \n",
       "\n",
       "        296       297       298       299       PC1       PC2  \n",
       "0 -0.024222 -0.103862  0.017122 -0.007178 -0.267968 -0.244682  \n",
       "1  0.013512  0.041237  0.046893  0.134685 -0.025900  0.284697  \n",
       "2 -0.074116 -0.005106  0.051784  0.013222 -0.235349 -0.204261  \n",
       "3  0.021554  0.056703  0.112083 -0.051547  0.563424 -0.447368  \n",
       "4 -0.109697  0.065008  0.053822  0.022264  0.274931 -0.105651  \n",
       "\n",
       "[5 rows x 302 columns]"
      ]
     },
     "execution_count": 941,
     "metadata": {},
     "output_type": "execute_result"
    }
   ],
   "source": [
    "question_vectors.head(5)"
   ]
  },
  {
   "cell_type": "code",
   "execution_count": 868,
   "metadata": {},
   "outputs": [
    {
     "data": {
      "text/plain": [
       "<matplotlib.axes._subplots.AxesSubplot at 0x7f9343a31350>"
      ]
     },
     "execution_count": 868,
     "metadata": {},
     "output_type": "execute_result"
    },
    {
     "data": {
      "image/png": "[encoded data removed]",
      "text/plain": [
       "<Figure size 432x288 with 1 Axes>"
      ]
     },
     "metadata": {
      "needs_background": "light"
     },
     "output_type": "display_data"
    }
   ],
   "source": [
    "question_vectors.plot.scatter(\"PC1\", \"PC2\")"
   ]
  },
  {
   "cell_type": "markdown",
   "metadata": {},
   "source": [
    "Nice, we see some short of shape emerging after the PCA is performed."
   ]
  },
  {
   "cell_type": "code",
   "execution_count": 869,
   "metadata": {},
   "outputs": [],
   "source": [
    "outlier_right = question_vectors[(question_vectors[\"PC1\"] > 3)]"
   ]
  },
  {
   "cell_type": "code",
   "execution_count": 870,
   "metadata": {},
   "outputs": [
    {
     "name": "stdout",
     "output_type": "stream",
     "text": [
      "162    who's doing the halftime show in 2018\n",
      "Name: question_text, dtype: object\n"
     ]
    }
   ],
   "source": [
    "print(all_questions[outlier_right.index])"
   ]
  },
  {
   "cell_type": "code",
   "execution_count": 939,
   "metadata": {},
   "outputs": [],
   "source": [
    "outlier_above = question_vectors[(question_vectors[\"PC2\"] > 1.5)]"
   ]
  },
  {
   "cell_type": "code",
   "execution_count": 940,
   "metadata": {},
   "outputs": [
    {
     "name": "stdout",
     "output_type": "stream",
     "text": [
      "605    what is 2 samuel about in the bible\n",
      "Name: question_text, dtype: object\n"
     ]
    }
   ],
   "source": [
    "print(all_questions[outlier_above.index])"
   ]
  },
  {
   "cell_type": "markdown",
   "metadata": {},
   "source": [
    "These do not seem like such strange of outliers, I wonder why PCA is indentifying them as being so much more in the direction of those two principal components than any of the other data points? This is a question that I will probably not be able to answer, it could just be random outliers, I am not familiar enough with the nuts and bolts of PCA to know how that would happen, but I do not have any other answer as to why they are all the way out there."
   ]
  },
  {
   "cell_type": "markdown",
   "metadata": {},
   "source": [
    "Let me try some kmeans clustering with 5 clusters. I chose 5 somewhat randomly but it is partially because I want there to be 5 groups in the data. An aspect of clustering that is somewhat unfortunate is the fact that you have to specify the number of clusters that you want before you even know how the data is grouped. If the data is in many dimensions than your best bet is to try doing PCA to get an idea of how the data visually breaks up, but it may break up differently after performing PCA compared to how it is spread out in the natural dimension that it exists in."
   ]
  },
  {
   "cell_type": "code",
   "execution_count": 873,
   "metadata": {},
   "outputs": [
    {
     "data": {
      "text/plain": [
       "KMeans(algorithm='auto', copy_x=True, init='k-means++', max_iter=300,\n",
       "       n_clusters=5, n_init=10, n_jobs=None, precompute_distances='auto',\n",
       "       random_state=None, tol=0.0001, verbose=0)"
      ]
     },
     "execution_count": 873,
     "metadata": {},
     "output_type": "execute_result"
    }
   ],
   "source": [
    "model = KMeans(n_clusters=5)\n",
    "model.fit(question_vectors.loc[:,[\"PC1\", \"PC2\"]])"
   ]
  },
  {
   "cell_type": "code",
   "execution_count": 874,
   "metadata": {},
   "outputs": [],
   "source": [
    "clusters = model.labels_"
   ]
  },
  {
   "cell_type": "markdown",
   "metadata": {},
   "source": [
    "Most of the time, I base a clustering algorithms performance by how evenly it breaks up the data since there is really no point of a clustering algorithm that classifies all into one cluster and a bunch into their own clusters."
   ]
  },
  {
   "cell_type": "code",
   "execution_count": 875,
   "metadata": {},
   "outputs": [
    {
     "data": {
      "text/plain": [
       "2    388\n",
       "0    247\n",
       "3    146\n",
       "1    131\n",
       "4     89\n",
       "dtype: int64"
      ]
     },
     "execution_count": 875,
     "metadata": {},
     "output_type": "execute_result"
    }
   ],
   "source": [
    "pd.Series(clusters).value_counts()"
   ]
  },
  {
   "cell_type": "code",
   "execution_count": 876,
   "metadata": {},
   "outputs": [
    {
     "data": {
      "text/plain": [
       "<matplotlib.axes._subplots.AxesSubplot at 0x7f939dcf24d0>"
      ]
     },
     "execution_count": 876,
     "metadata": {},
     "output_type": "execute_result"
    },
    {
     "data": {
      "image/png": "[encoded data removed]",
      "text/plain": [
       "<Figure size 432x288 with 1 Axes>"
      ]
     },
     "metadata": {
      "needs_background": "light"
     },
     "output_type": "display_data"
    }
   ],
   "source": [
    "clusters_c = pd.Series(clusters).map({\n",
    "    0: \"r\",\n",
    "    1: \"b\",\n",
    "    2: \"y\",\n",
    "    3: \"g\",\n",
    "    4: \"k\"\n",
    "})\n",
    "\n",
    "question_vectors.plot.scatter(x=\"PC1\", y=\"PC2\", \n",
    "                    c = clusters_c ,marker=\"x\", alpha=.5)"
   ]
  },
  {
   "cell_type": "markdown",
   "metadata": {},
   "source": [
    "Now that is a nice looking plot!"
   ]
  },
  {
   "cell_type": "markdown",
   "metadata": {},
   "source": [
    "I now have to split the data into the groups and look at each cluster. I also need to figure how to give myself a score, but I might just have to accept the fact that, that is not possible in this situation."
   ]
  },
  {
   "cell_type": "code",
   "execution_count": 877,
   "metadata": {},
   "outputs": [
    {
     "data": {
      "text/plain": [
       "0       2\n",
       "1       3\n",
       "2       2\n",
       "3       0\n",
       "4       3\n",
       "       ..\n",
       "996     0\n",
       "997     2\n",
       "998     1\n",
       "999     2\n",
       "1000    2\n",
       "Length: 1001, dtype: int32"
      ]
     },
     "execution_count": 877,
     "metadata": {},
     "output_type": "execute_result"
    }
   ],
   "source": [
    "cluster_series = pd.Series(clusters)\n",
    "cluster_series"
   ]
  },
  {
   "cell_type": "markdown",
   "metadata": {},
   "source": [
    "Now I am splitting the data into four 5 groups based on its cluster."
   ]
  },
  {
   "cell_type": "code",
   "execution_count": 878,
   "metadata": {},
   "outputs": [],
   "source": [
    "group_0 = all_questions[cluster_series[lambda x : x==0].index]"
   ]
  },
  {
   "cell_type": "code",
   "execution_count": 879,
   "metadata": {},
   "outputs": [],
   "source": [
    "group_1 = all_questions[cluster_series[lambda x : x==1].index]"
   ]
  },
  {
   "cell_type": "code",
   "execution_count": 880,
   "metadata": {},
   "outputs": [],
   "source": [
    "group_2 = all_questions[cluster_series[lambda x : x==2].index]"
   ]
  },
  {
   "cell_type": "code",
   "execution_count": 881,
   "metadata": {},
   "outputs": [],
   "source": [
    "group_3 = all_questions[cluster_series[lambda x : x==3].index]"
   ]
  },
  {
   "cell_type": "code",
   "execution_count": 882,
   "metadata": {},
   "outputs": [],
   "source": [
    "group_4 = all_questions[cluster_series[lambda x : x==4].index]"
   ]
  },
  {
   "cell_type": "markdown",
   "metadata": {},
   "source": [
    "An interesting thing to note about these groupings is that when I was performing PCA I stripped out all of the stop words as well as the words that are common to questions. However, now that I am using the same \"question\" to index back into all_questions (the unedited list of question), I am able to see the full question corresponding to each stripped question that I pulled out to potentially better my results and make the PCA chart that you see above."
   ]
  },
  {
   "cell_type": "markdown",
   "metadata": {},
   "source": [
    "I am about to put each of the groupings through a tf-idf vectorizer and now I realize that it is a good thing that we get access to the whole question.\n",
    "- It will possibly allow our tf-idf to learn the trends better since it has more data to learn from.\n",
    "- It will give a more accurate measure of inverse document frequency.\n",
    "- It should automatically have ...\n",
    "- It will give more weight to words that were less common, a feature that was not available to use when we were using spacy's word vectors and my vector mean generator."
   ]
  },
  {
   "cell_type": "code",
   "execution_count": 883,
   "metadata": {},
   "outputs": [],
   "source": [
    "vec0 = TfidfVectorizer(stop_words = \"english\")\n",
    "vec1 = TfidfVectorizer(stop_words = \"english\")\n",
    "vec2 = TfidfVectorizer(stop_words = \"english\")\n",
    "vec3 = TfidfVectorizer(stop_words = \"english\")\n",
    "vec4 = TfidfVectorizer(stop_words = \"english\")"
   ]
  },
  {
   "cell_type": "code",
   "execution_count": 931,
   "metadata": {},
   "outputs": [],
   "source": [
    "vec0.fit(group_0)\n",
    "group_0_vec = vec0.transform(group_0)\n",
    "vec1.fit(group_1)\n",
    "group_1_vec = vec1.transform(group_1)\n",
    "vec2.fit(group_2)\n",
    "group_2_vec = vec2.transform(group_2)\n",
    "vec3.fit(group_3)\n",
    "group_3_vec = vec3.transform(group_3)\n",
    "vec4.fit(group_4)\n",
    "group_4_vec = vec4.transform(group_4)"
   ]
  },
  {
   "cell_type": "code",
   "execution_count": 932,
   "metadata": {},
   "outputs": [],
   "source": [
    "zero_index_search = pd.DataFrame.sparse.from_spmatrix(group_0_vec).\\\n",
    "sum(axis = 0).sort_values(ascending = False).head(10).index"
   ]
  },
  {
   "cell_type": "code",
   "execution_count": 933,
   "metadata": {},
   "outputs": [],
   "source": [
    "res0 = []\n",
    "for item in vec0.vocabulary_.items():\n",
    "    if item[1] in zero_index_search:\n",
    "        res0.append(item)"
   ]
  },
  {
   "cell_type": "code",
   "execution_count": 934,
   "metadata": {},
   "outputs": [
    {
     "data": {
      "text/plain": [
       "[('place', 466),\n",
       " ('does', 203),\n",
       " ('time', 607),\n",
       " ('come', 142),\n",
       " ('mean', 398),\n",
       " ('person', 459),\n",
       " ('did', 195),\n",
       " ('following', 264),\n",
       " ('world', 666),\n",
       " ('state', 573)]"
      ]
     },
     "execution_count": 934,
     "metadata": {},
     "output_type": "execute_result"
    }
   ],
   "source": [
    "res0"
   ]
  },
  {
   "cell_type": "markdown",
   "metadata": {},
   "source": [
    "I cannot say what the theme of these words are, all I can say is that they seem somewhat similar to eachother. But perhaps that is just wishful thinking."
   ]
  },
  {
   "cell_type": "code",
   "execution_count": 927,
   "metadata": {},
   "outputs": [
    {
     "data": {
      "text/plain": [
       "141    7.780284\n",
       "145    6.744852\n",
       "112    3.534274\n",
       "491    2.437418\n",
       "321    1.990748\n",
       "351    1.848784\n",
       "422    1.818651\n",
       "25     1.708478\n",
       "425    1.653191\n",
       "156    1.649480\n",
       "dtype: float64"
      ]
     },
     "execution_count": 927,
     "metadata": {},
     "output_type": "execute_result"
    }
   ],
   "source": [
    "pd.DataFrame.sparse.from_spmatrix(group_1_vec).\\\n",
    "sum(axis = 0).sort_values(ascending = False).head(10)"
   ]
  },
  {
   "cell_type": "code",
   "execution_count": 928,
   "metadata": {},
   "outputs": [],
   "source": [
    "one_index_search = pd.DataFrame.sparse.from_spmatrix(group_1_vec).\\\n",
    "sum(axis = 0).sort_values(ascending = False).head(10).index"
   ]
  },
  {
   "cell_type": "code",
   "execution_count": 929,
   "metadata": {},
   "outputs": [],
   "source": [
    "res1 = []\n",
    "for item in vec1.vocabulary_.items():\n",
    "    if item[1] in one_index_search:\n",
    "        res1.append(item)"
   ]
  },
  {
   "cell_type": "code",
   "execution_count": 930,
   "metadata": {},
   "outputs": [
    {
     "data": {
      "text/plain": [
       "[('did', 141),\n",
       " ('does', 145),\n",
       " ('start', 425),\n",
       " ('end', 156),\n",
       " ('nba', 321),\n",
       " ('come', 112),\n",
       " ('world', 491),\n",
       " ('play', 351),\n",
       " ('american', 25),\n",
       " ('stand', 422)]"
      ]
     },
     "execution_count": 930,
     "metadata": {},
     "output_type": "execute_result"
    }
   ],
   "source": [
    "res1"
   ]
  },
  {
   "cell_type": "markdown",
   "metadata": {},
   "source": [
    "These words are different from the words above. These words are more lively."
   ]
  },
  {
   "cell_type": "code",
   "execution_count": 893,
   "metadata": {},
   "outputs": [],
   "source": [
    "two_index_search = pd.DataFrame.sparse.from_spmatrix(group_2_vec).\\\n",
    "sum(axis = 0).sort_values(ascending = False).head(10).index"
   ]
  },
  {
   "cell_type": "code",
   "execution_count": 894,
   "metadata": {},
   "outputs": [],
   "source": [
    "res2 = []\n",
    "for item in vec2.vocabulary_.items():\n",
    "    if item[1] in two_index_search:\n",
    "        res2.append(item)"
   ]
  },
  {
   "cell_type": "code",
   "execution_count": 895,
   "metadata": {},
   "outputs": [
    {
     "data": {
      "text/plain": [
       "[('time', 1218),\n",
       " ('start', 1144),\n",
       " ('new', 818),\n",
       " ('list', 684),\n",
       " ('world', 1320),\n",
       " ('does', 352),\n",
       " ('did', 333),\n",
       " ('come', 251),\n",
       " ('india', 577),\n",
       " ('war', 1290)]"
      ]
     },
     "execution_count": 895,
     "metadata": {},
     "output_type": "execute_result"
    }
   ],
   "source": [
    "res2"
   ]
  },
  {
   "cell_type": "markdown",
   "metadata": {},
   "source": [
    "We see start occur in two in a row."
   ]
  },
  {
   "cell_type": "code",
   "execution_count": 896,
   "metadata": {},
   "outputs": [],
   "source": [
    "three_index_search = pd.DataFrame.sparse.from_spmatrix(group_3_vec).\\\n",
    "sum(axis = 0).sort_values(ascending = False).head(10).index"
   ]
  },
  {
   "cell_type": "code",
   "execution_count": 897,
   "metadata": {},
   "outputs": [],
   "source": [
    "res3 = []\n",
    "for item in vec3.vocabulary_.items():\n",
    "    if item[1] in three_index_search:\n",
    "        res3.append(item)"
   ]
  },
  {
   "cell_type": "code",
   "execution_count": 898,
   "metadata": {},
   "outputs": [
    {
     "data": {
      "text/plain": [
       "[('did', 109),\n",
       " ('season', 347),\n",
       " ('does', 116),\n",
       " ('plays', 312),\n",
       " ('sings', 357),\n",
       " ('song', 363),\n",
       " ('love', 246),\n",
       " ('movie', 271),\n",
       " ('won', 432),\n",
       " ('episode', 132)]"
      ]
     },
     "execution_count": 898,
     "metadata": {},
     "output_type": "execute_result"
    }
   ],
   "source": [
    "res3"
   ]
  },
  {
   "cell_type": "code",
   "execution_count": 899,
   "metadata": {},
   "outputs": [],
   "source": [
    "four_index_search = pd.DataFrame.sparse.from_spmatrix(group_4_vec).\\\n",
    "sum(axis = 0).sort_values(ascending = False).head(10).index"
   ]
  },
  {
   "cell_type": "code",
   "execution_count": 900,
   "metadata": {},
   "outputs": [],
   "source": [
    "res4 = []\n",
    "for item in vec4.vocabulary_.items():\n",
    "    if item[1] in four_index_search:\n",
    "        res4.append(item)"
   ]
  },
  {
   "cell_type": "code",
   "execution_count": 901,
   "metadata": {},
   "outputs": [
    {
     "data": {
      "text/plain": [
       "[('played', 178),\n",
       " ('plays', 179),\n",
       " ('won', 261),\n",
       " ('sang', 200),\n",
       " ('song', 219),\n",
       " ('movie', 156),\n",
       " ('did', 55),\n",
       " ('season', 207),\n",
       " ('filmed', 76),\n",
       " ('red', 189)]"
      ]
     },
     "execution_count": 901,
     "metadata": {},
     "output_type": "execute_result"
    }
   ],
   "source": [
    "res4"
   ]
  },
  {
   "cell_type": "markdown",
   "metadata": {},
   "source": [
    "Maybe I am seeing things, but to me it seems like the \"flavor\" of these words varies from group to group. There are many other things that I could possibly do including trying to change the parameters of the tf-idf to have it give more weight to rare words then it does now."
   ]
  }
 ],
 "metadata": {
  "kernelspec": {
   "display_name": "Python 3",
   "language": "python",
   "name": "python3"
  },
  "language_info": {
   "codemirror_mode": {
    "name": "ipython",
    "version": 3
   },
   "file_extension": ".py",
   "mimetype": "text/x-python",
   "name": "python",
   "nbconvert_exporter": "python",
   "pygments_lexer": "ipython3",
   "version": "3.7.4"
  }
 },
 "nbformat": 4,
 "nbformat_minor": 2
}
