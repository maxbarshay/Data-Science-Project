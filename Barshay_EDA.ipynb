{
 "cells": [
  {
   "cell_type": "markdown",
   "metadata": {},
   "source": [
    "## Max Barshay"
   ]
  },
  {
   "cell_type": "markdown",
   "metadata": {},
   "source": [
    "The main goal of this EDA is to get a feel for how the data is structured as well as to get a feel for the values of the data and how they are distributed. No machine learning models will be fit here, but the results found from some of these investigations will be used to advise the potential models that I will be fitting in the future."
   ]
  },
  {
   "cell_type": "code",
   "execution_count": 220,
   "metadata": {
    "scrolled": true
   },
   "outputs": [],
   "source": [
    "from bs4 import BeautifulSoup\n",
    "import json\n",
    "import pandas as pd\n",
    "import sklearn\n",
    "from collections import Counter\n",
    "from sklearn.feature_extraction.text import CountVectorizer\n",
    "from pandas.io.json import json_normalize\n",
    "from sklearn.feature_extraction.text import TfidfVectorizer\n",
    "%matplotlib inline\n",
    "\n",
    "pd.options.display.max_rows = 40"
   ]
  },
  {
   "cell_type": "markdown",
   "metadata": {},
   "source": [
    "# Reading in the Data"
   ]
  },
  {
   "cell_type": "markdown",
   "metadata": {},
   "source": [
    "Notice that I am reading in 10,000 lines of the training data set (there are many many more than that) and the entire test data set which is not that long."
   ]
  },
  {
   "cell_type": "code",
   "execution_count": 221,
   "metadata": {
    "scrolled": true
   },
   "outputs": [],
   "source": [
    "train_10000 = open(\"/Users/mdbarshay/Desktop/DATA 301 Project/tensorflow2-question-answering/simplified-nq-train.jsonl\")\n",
    "records_train = []\n",
    "c=0\n",
    "for line in train_10000:\n",
    "    records_train.append(json.loads(line))\n",
    "    if c > 9999:\n",
    "        break\n",
    "    c+=1\n",
    "train_frame = pd.DataFrame(records_train)\n",
    "train_10000.close()"
   ]
  },
  {
   "cell_type": "code",
   "execution_count": 222,
   "metadata": {},
   "outputs": [
    {
     "data": {
      "text/html": [
       "<div>\n",
       "<style scoped>\n",
       "    .dataframe tbody tr th:only-of-type {\n",
       "        vertical-align: middle;\n",
       "    }\n",
       "\n",
       "    .dataframe tbody tr th {\n",
       "        vertical-align: top;\n",
       "    }\n",
       "\n",
       "    .dataframe thead th {\n",
       "        text-align: right;\n",
       "    }\n",
       "</style>\n",
       "<table border=\"1\" class=\"dataframe\">\n",
       "  <thead>\n",
       "    <tr style=\"text-align: right;\">\n",
       "      <th></th>\n",
       "      <th>document_text</th>\n",
       "      <th>long_answer_candidates</th>\n",
       "      <th>question_text</th>\n",
       "      <th>annotations</th>\n",
       "      <th>document_url</th>\n",
       "      <th>example_id</th>\n",
       "    </tr>\n",
       "  </thead>\n",
       "  <tbody>\n",
       "    <tr>\n",
       "      <td>0</td>\n",
       "      <td>Email marketing - Wikipedia &lt;H1&gt; Email marketi...</td>\n",
       "      <td>[{'start_token': 14, 'top_level': True, 'end_t...</td>\n",
       "      <td>which is the most common use of opt-in e-mail ...</td>\n",
       "      <td>[{'yes_no_answer': 'NONE', 'long_answer': {'st...</td>\n",
       "      <td>https://en.wikipedia.org//w/index.php?title=Em...</td>\n",
       "      <td>5655493461695504401</td>\n",
       "    </tr>\n",
       "    <tr>\n",
       "      <td>1</td>\n",
       "      <td>The Mother ( How I Met Your Mother ) - wikiped...</td>\n",
       "      <td>[{'start_token': 28, 'top_level': True, 'end_t...</td>\n",
       "      <td>how i.met your mother who is the mother</td>\n",
       "      <td>[{'yes_no_answer': 'NONE', 'long_answer': {'st...</td>\n",
       "      <td>https://en.wikipedia.org//w/index.php?title=Th...</td>\n",
       "      <td>5328212470870865242</td>\n",
       "    </tr>\n",
       "    <tr>\n",
       "      <td>2</td>\n",
       "      <td>Human fertilization - wikipedia &lt;H1&gt; Human fer...</td>\n",
       "      <td>[{'start_token': 14, 'top_level': True, 'end_t...</td>\n",
       "      <td>what type of fertilisation takes place in humans</td>\n",
       "      <td>[{'yes_no_answer': 'NONE', 'long_answer': {'st...</td>\n",
       "      <td>https://en.wikipedia.org//w/index.php?title=Hu...</td>\n",
       "      <td>4435104480114867852</td>\n",
       "    </tr>\n",
       "  </tbody>\n",
       "</table>\n",
       "</div>"
      ],
      "text/plain": [
       "                                       document_text  \\\n",
       "0  Email marketing - Wikipedia <H1> Email marketi...   \n",
       "1  The Mother ( How I Met Your Mother ) - wikiped...   \n",
       "2  Human fertilization - wikipedia <H1> Human fer...   \n",
       "\n",
       "                              long_answer_candidates  \\\n",
       "0  [{'start_token': 14, 'top_level': True, 'end_t...   \n",
       "1  [{'start_token': 28, 'top_level': True, 'end_t...   \n",
       "2  [{'start_token': 14, 'top_level': True, 'end_t...   \n",
       "\n",
       "                                       question_text  \\\n",
       "0  which is the most common use of opt-in e-mail ...   \n",
       "1            how i.met your mother who is the mother   \n",
       "2   what type of fertilisation takes place in humans   \n",
       "\n",
       "                                         annotations  \\\n",
       "0  [{'yes_no_answer': 'NONE', 'long_answer': {'st...   \n",
       "1  [{'yes_no_answer': 'NONE', 'long_answer': {'st...   \n",
       "2  [{'yes_no_answer': 'NONE', 'long_answer': {'st...   \n",
       "\n",
       "                                        document_url           example_id  \n",
       "0  https://en.wikipedia.org//w/index.php?title=Em...  5655493461695504401  \n",
       "1  https://en.wikipedia.org//w/index.php?title=Th...  5328212470870865242  \n",
       "2  https://en.wikipedia.org//w/index.php?title=Hu...  4435104480114867852  "
      ]
     },
     "execution_count": 222,
     "metadata": {},
     "output_type": "execute_result"
    }
   ],
   "source": [
    "train_frame.columns\n",
    "train_frame.head(3)"
   ]
  },
  {
   "cell_type": "code",
   "execution_count": 223,
   "metadata": {
    "scrolled": true
   },
   "outputs": [],
   "source": [
    "test = open(\"/Users/mdbarshay/Desktop/DATA 301 Project/tensorflow2-question-answering/simplified-nq-test.jsonl\")\n",
    "records_test = []\n",
    "for line in test:\n",
    "    records_test.append(json.loads(line))\n",
    "test_frame = pd.DataFrame(records_test)\n",
    "test.close()"
   ]
  },
  {
   "cell_type": "code",
   "execution_count": 224,
   "metadata": {
    "scrolled": true
   },
   "outputs": [
    {
     "data": {
      "text/html": [
       "<div>\n",
       "<style scoped>\n",
       "    .dataframe tbody tr th:only-of-type {\n",
       "        vertical-align: middle;\n",
       "    }\n",
       "\n",
       "    .dataframe tbody tr th {\n",
       "        vertical-align: top;\n",
       "    }\n",
       "\n",
       "    .dataframe thead th {\n",
       "        text-align: right;\n",
       "    }\n",
       "</style>\n",
       "<table border=\"1\" class=\"dataframe\">\n",
       "  <thead>\n",
       "    <tr style=\"text-align: right;\">\n",
       "      <th></th>\n",
       "      <th>document_text</th>\n",
       "      <th>long_answer_candidates</th>\n",
       "      <th>question_text</th>\n",
       "      <th>annotations</th>\n",
       "      <th>document_url</th>\n",
       "      <th>example_id</th>\n",
       "    </tr>\n",
       "  </thead>\n",
       "  <tbody>\n",
       "    <tr>\n",
       "      <td>0</td>\n",
       "      <td>Email marketing - Wikipedia &lt;H1&gt; Email marketi...</td>\n",
       "      <td>[{'start_token': 14, 'top_level': True, 'end_t...</td>\n",
       "      <td>which is the most common use of opt-in e-mail ...</td>\n",
       "      <td>[{'yes_no_answer': 'NONE', 'long_answer': {'st...</td>\n",
       "      <td>https://en.wikipedia.org//w/index.php?title=Em...</td>\n",
       "      <td>5655493461695504401</td>\n",
       "    </tr>\n",
       "    <tr>\n",
       "      <td>1</td>\n",
       "      <td>The Mother ( How I Met Your Mother ) - wikiped...</td>\n",
       "      <td>[{'start_token': 28, 'top_level': True, 'end_t...</td>\n",
       "      <td>how i.met your mother who is the mother</td>\n",
       "      <td>[{'yes_no_answer': 'NONE', 'long_answer': {'st...</td>\n",
       "      <td>https://en.wikipedia.org//w/index.php?title=Th...</td>\n",
       "      <td>5328212470870865242</td>\n",
       "    </tr>\n",
       "    <tr>\n",
       "      <td>2</td>\n",
       "      <td>Human fertilization - wikipedia &lt;H1&gt; Human fer...</td>\n",
       "      <td>[{'start_token': 14, 'top_level': True, 'end_t...</td>\n",
       "      <td>what type of fertilisation takes place in humans</td>\n",
       "      <td>[{'yes_no_answer': 'NONE', 'long_answer': {'st...</td>\n",
       "      <td>https://en.wikipedia.org//w/index.php?title=Hu...</td>\n",
       "      <td>4435104480114867852</td>\n",
       "    </tr>\n",
       "  </tbody>\n",
       "</table>\n",
       "</div>"
      ],
      "text/plain": [
       "                                       document_text  \\\n",
       "0  Email marketing - Wikipedia <H1> Email marketi...   \n",
       "1  The Mother ( How I Met Your Mother ) - wikiped...   \n",
       "2  Human fertilization - wikipedia <H1> Human fer...   \n",
       "\n",
       "                              long_answer_candidates  \\\n",
       "0  [{'start_token': 14, 'top_level': True, 'end_t...   \n",
       "1  [{'start_token': 28, 'top_level': True, 'end_t...   \n",
       "2  [{'start_token': 14, 'top_level': True, 'end_t...   \n",
       "\n",
       "                                       question_text  \\\n",
       "0  which is the most common use of opt-in e-mail ...   \n",
       "1            how i.met your mother who is the mother   \n",
       "2   what type of fertilisation takes place in humans   \n",
       "\n",
       "                                         annotations  \\\n",
       "0  [{'yes_no_answer': 'NONE', 'long_answer': {'st...   \n",
       "1  [{'yes_no_answer': 'NONE', 'long_answer': {'st...   \n",
       "2  [{'yes_no_answer': 'NONE', 'long_answer': {'st...   \n",
       "\n",
       "                                        document_url           example_id  \n",
       "0  https://en.wikipedia.org//w/index.php?title=Em...  5655493461695504401  \n",
       "1  https://en.wikipedia.org//w/index.php?title=Th...  5328212470870865242  \n",
       "2  https://en.wikipedia.org//w/index.php?title=Hu...  4435104480114867852  "
      ]
     },
     "execution_count": 224,
     "metadata": {},
     "output_type": "execute_result"
    }
   ],
   "source": [
    "train_frame.head(3)"
   ]
  },
  {
   "cell_type": "code",
   "execution_count": 225,
   "metadata": {
    "scrolled": true
   },
   "outputs": [
    {
     "data": {
      "text/html": [
       "<div>\n",
       "<style scoped>\n",
       "    .dataframe tbody tr th:only-of-type {\n",
       "        vertical-align: middle;\n",
       "    }\n",
       "\n",
       "    .dataframe tbody tr th {\n",
       "        vertical-align: top;\n",
       "    }\n",
       "\n",
       "    .dataframe thead th {\n",
       "        text-align: right;\n",
       "    }\n",
       "</style>\n",
       "<table border=\"1\" class=\"dataframe\">\n",
       "  <thead>\n",
       "    <tr style=\"text-align: right;\">\n",
       "      <th></th>\n",
       "      <th>example_id</th>\n",
       "      <th>question_text</th>\n",
       "      <th>document_text</th>\n",
       "      <th>long_answer_candidates</th>\n",
       "    </tr>\n",
       "  </thead>\n",
       "  <tbody>\n",
       "    <tr>\n",
       "      <td>0</td>\n",
       "      <td>-1220107454853145579</td>\n",
       "      <td>who is the south african high commissioner in ...</td>\n",
       "      <td>High Commission of South Africa , London - wik...</td>\n",
       "      <td>[{'end_token': 136, 'start_token': 18, 'top_le...</td>\n",
       "    </tr>\n",
       "    <tr>\n",
       "      <td>1</td>\n",
       "      <td>8777415633185303067</td>\n",
       "      <td>the office episode when they sing to michael</td>\n",
       "      <td>Michael 's Last Dundies - wikipedia &lt;H1&gt; Micha...</td>\n",
       "      <td>[{'end_token': 190, 'start_token': 23, 'top_le...</td>\n",
       "    </tr>\n",
       "    <tr>\n",
       "      <td>2</td>\n",
       "      <td>4640548859154538040</td>\n",
       "      <td>what is the main idea of the cross of gold speech</td>\n",
       "      <td>Cross of gold speech - wikipedia &lt;H1&gt; Cross of...</td>\n",
       "      <td>[{'end_token': 165, 'start_token': 12, 'top_le...</td>\n",
       "    </tr>\n",
       "  </tbody>\n",
       "</table>\n",
       "</div>"
      ],
      "text/plain": [
       "             example_id                                      question_text  \\\n",
       "0  -1220107454853145579  who is the south african high commissioner in ...   \n",
       "1   8777415633185303067       the office episode when they sing to michael   \n",
       "2   4640548859154538040  what is the main idea of the cross of gold speech   \n",
       "\n",
       "                                       document_text  \\\n",
       "0  High Commission of South Africa , London - wik...   \n",
       "1  Michael 's Last Dundies - wikipedia <H1> Micha...   \n",
       "2  Cross of gold speech - wikipedia <H1> Cross of...   \n",
       "\n",
       "                              long_answer_candidates  \n",
       "0  [{'end_token': 136, 'start_token': 18, 'top_le...  \n",
       "1  [{'end_token': 190, 'start_token': 23, 'top_le...  \n",
       "2  [{'end_token': 165, 'start_token': 12, 'top_le...  "
      ]
     },
     "execution_count": 225,
     "metadata": {},
     "output_type": "execute_result"
    }
   ],
   "source": [
    "test_frame.head(3)"
   ]
  },
  {
   "cell_type": "markdown",
   "metadata": {},
   "source": [
    "# Feature Exploration\n",
    "\n",
    "At this point I am exploring the features of the different data sets to try to get a feel for the differences in the test and training sets and to try to get familiar with how the data is structured."
   ]
  },
  {
   "cell_type": "markdown",
   "metadata": {},
   "source": [
    "I start with just exploring the data and seeing what the various fields look like."
   ]
  },
  {
   "cell_type": "markdown",
   "metadata": {},
   "source": [
    "It appears that the test data has 346 rows and 4 columns, while the training set has 10001 rows (I told it to) and 6 columns."
   ]
  },
  {
   "cell_type": "code",
   "execution_count": 226,
   "metadata": {
    "scrolled": true
   },
   "outputs": [
    {
     "name": "stdout",
     "output_type": "stream",
     "text": [
      "(346, 4)\n",
      "(10001, 6)\n"
     ]
    }
   ],
   "source": [
    "print(test_frame.shape)\n",
    "print(train_frame.shape)"
   ]
  },
  {
   "cell_type": "markdown",
   "metadata": {},
   "source": [
    "This following is an example of some typical text within the document text field of the test set. We can clearly see there are many non-alpha numeric characters here as well as many HTML tags, that according to the page for the competition \"are there to help provide structure\" they also said that many tags that were not neccesary were removed."
   ]
  },
  {
   "cell_type": "code",
   "execution_count": 227,
   "metadata": {
    "scrolled": true
   },
   "outputs": [
    {
     "data": {
      "text/plain": [
       "'High Commission of South Africa , London - wikipedia <H1> High Commission of South Africa , London </H1> <Table> <Tr> <Th_colspan=\"2\"> High Commission of South Africa in London </Th> </Tr> <Tr> <Td_colspan=\"2\"> </Td> </Tr> <Tr> <Th> Location </Th> <Td> Trafalgar Square , London </Td> </Tr> <Tr> <Th> Address </Th> <Td> Trafalgar Square , London , WC2N 5DP </Td> </Tr> <Tr> <Th> Coordinates </Th> <Td> 51 ° 30 ′ 30 \\'\\' N 0 ° 07 ′ 37 \\'\\' W \\ufeff / \\ufeff 51.5082 ° N 0.1269 ° W \\ufeff / 51.5082 ; - 0.1269 Coordinates : 51 ° 30 ′ 30 \\'\\' N 0 ° 07 ′ 37 \\'\\' W \\ufeff / \\ufeff 51.5082 ° N 0.1269 ° W \\ufeff / 51.5082 ; - 0.1269 </Td> </Tr> <Tr> <Th> High Commissioner </Th> <Td> Vacant </Td> </Tr> </Table> Balcony of South Africa House <P> The High Commission of South Africa in London is the diplomatic mission from South Africa to the United Kingdom . It is located at South Africa House , a building on Trafalgar Square , London . As well as containing the offices of the High Commissioner , the building also hosts the South African '"
      ]
     },
     "execution_count": 227,
     "metadata": {},
     "output_type": "execute_result"
    }
   ],
   "source": [
    "first_test_text = test_frame.iloc[0,2]\n",
    "first_test_text[:1000]"
   ]
  },
  {
   "cell_type": "markdown",
   "metadata": {},
   "source": [
    "This is what a typical set of possible answers look like. They give us a start and an end token which correspond to the tokens (including HTML) for which you can index into the split document text to extract. Once you call .split(\" \") on the document text you can get the first potential answer by slicing the resulting list like such: [14:170] for example."
   ]
  },
  {
   "cell_type": "markdown",
   "metadata": {},
   "source": [
    "Notice that here I am going back to the training set. The format of both the training and test sets are quite similar with the main difference being the fact that the training set contains the correct answer (both long and short). During this EDA I might go back and forth between the test and training sets interchangebly since they contain much of the same data."
   ]
  },
  {
   "cell_type": "code",
   "execution_count": 228,
   "metadata": {
    "scrolled": true
   },
   "outputs": [
    {
     "data": {
      "text/plain": [
       "[{'start_token': 14, 'top_level': True, 'end_token': 170},\n",
       " {'start_token': 15, 'top_level': False, 'end_token': 169},\n",
       " {'start_token': 52, 'top_level': False, 'end_token': 103},\n",
       " {'start_token': 53, 'top_level': False, 'end_token': 102},\n",
       " {'start_token': 103, 'top_level': False, 'end_token': 156},\n",
       " {'start_token': 104, 'top_level': False, 'end_token': 155},\n",
       " {'start_token': 170, 'top_level': True, 'end_token': 321},\n",
       " {'start_token': 171, 'top_level': False, 'end_token': 180},\n",
       " {'start_token': 180, 'top_level': False, 'end_token': 186},\n",
       " {'start_token': 186, 'top_level': False, 'end_token': 224},\n",
       " {'start_token': 188, 'top_level': False, 'end_token': 222},\n",
       " {'start_token': 189, 'top_level': False, 'end_token': 194},\n",
       " {'start_token': 194, 'top_level': False, 'end_token': 200},\n",
       " {'start_token': 200, 'top_level': False, 'end_token': 205},\n",
       " {'start_token': 224, 'top_level': False, 'end_token': 231},\n",
       " {'start_token': 231, 'top_level': False, 'end_token': 257},\n",
       " {'start_token': 233, 'top_level': False, 'end_token': 255},\n",
       " {'start_token': 234, 'top_level': False, 'end_token': 241},\n",
       " {'start_token': 241, 'top_level': False, 'end_token': 246},\n",
       " {'start_token': 257, 'top_level': False, 'end_token': 263},\n",
       " {'start_token': 263, 'top_level': False, 'end_token': 281},\n",
       " {'start_token': 265, 'top_level': False, 'end_token': 279},\n",
       " {'start_token': 281, 'top_level': False, 'end_token': 287},\n",
       " {'start_token': 287, 'top_level': False, 'end_token': 302},\n",
       " {'start_token': 289, 'top_level': False, 'end_token': 300},\n",
       " {'start_token': 290, 'top_level': False, 'end_token': 295},\n",
       " {'start_token': 302, 'top_level': False, 'end_token': 308},\n",
       " {'start_token': 308, 'top_level': False, 'end_token': 320},\n",
       " {'start_token': 310, 'top_level': False, 'end_token': 318},\n",
       " {'start_token': 321, 'top_level': True, 'end_token': 460},\n",
       " {'start_token': 563, 'top_level': True, 'end_token': 746},\n",
       " {'start_token': 746, 'top_level': True, 'end_token': 852},\n",
       " {'start_token': 855, 'top_level': True, 'end_token': 869},\n",
       " {'start_token': 873, 'top_level': True, 'end_token': 970},\n",
       " {'start_token': 970, 'top_level': True, 'end_token': 1044},\n",
       " {'start_token': 1044, 'top_level': True, 'end_token': 1107},\n",
       " {'start_token': 1111, 'top_level': True, 'end_token': 1175},\n",
       " {'start_token': 1178, 'top_level': True, 'end_token': 1286},\n",
       " {'start_token': 1292, 'top_level': True, 'end_token': 1311},\n",
       " {'start_token': 1314, 'top_level': True, 'end_token': 1326},\n",
       " {'start_token': 1326, 'top_level': True, 'end_token': 1629},\n",
       " {'start_token': 1327, 'top_level': False, 'end_token': 1373},\n",
       " {'start_token': 1373, 'top_level': False, 'end_token': 1412},\n",
       " {'start_token': 1412, 'top_level': False, 'end_token': 1464},\n",
       " {'start_token': 1464, 'top_level': False, 'end_token': 1516},\n",
       " {'start_token': 1516, 'top_level': False, 'end_token': 1540},\n",
       " {'start_token': 1540, 'top_level': False, 'end_token': 1580},\n",
       " {'start_token': 1580, 'top_level': False, 'end_token': 1604},\n",
       " {'start_token': 1604, 'top_level': False, 'end_token': 1628},\n",
       " {'start_token': 1632, 'top_level': True, 'end_token': 1716},\n",
       " {'start_token': 1716, 'top_level': True, 'end_token': 1730},\n",
       " {'start_token': 1730, 'top_level': True, 'end_token': 1792},\n",
       " {'start_token': 1799, 'top_level': True, 'end_token': 1847},\n",
       " {'start_token': 1847, 'top_level': True, 'end_token': 1952},\n",
       " {'start_token': 1952, 'top_level': True, 'end_token': 2019},\n",
       " {'start_token': 2019, 'top_level': True, 'end_token': 2061},\n",
       " {'start_token': 2068, 'top_level': True, 'end_token': 2152},\n",
       " {'start_token': 2155, 'top_level': True, 'end_token': 2206},\n",
       " {'start_token': 2210, 'top_level': True, 'end_token': 2277},\n",
       " {'start_token': 2277, 'top_level': True, 'end_token': 2326},\n",
       " {'start_token': 2330, 'top_level': True, 'end_token': 2565},\n",
       " {'start_token': 2565, 'top_level': True, 'end_token': 2656},\n",
       " {'start_token': 2656, 'top_level': True, 'end_token': 2720}]"
      ]
     },
     "execution_count": 228,
     "metadata": {},
     "output_type": "execute_result"
    }
   ],
   "source": [
    "candidates = train_frame.iloc[:,1]\n",
    "candidates.iloc[0] #hopefully this is not too long of a printout, I think it is needed to get the point across about\n",
    "# the structure of the long answer candidates"
   ]
  },
  {
   "cell_type": "markdown",
   "metadata": {},
   "source": [
    "Top level refers to whether or not other questions are nested within the original top level question. So, for example the first observation in this list of dictionaries corresponds to start token: 14 and end token: 170 and its top level is set to true. The next observation is nested inside of that so its top level is false."
   ]
  },
  {
   "cell_type": "markdown",
   "metadata": {},
   "source": [
    "I will now look at the fourth observation because I like football and I wanted to display how splitting on white space and indexing works."
   ]
  },
  {
   "cell_type": "code",
   "execution_count": 229,
   "metadata": {
    "scrolled": true
   },
   "outputs": [],
   "source": [
    "fourth = train_frame.iloc[3]# here we are extracting the fourth observation"
   ]
  },
  {
   "cell_type": "code",
   "execution_count": 230,
   "metadata": {
    "scrolled": true
   },
   "outputs": [
    {
     "data": {
      "text/plain": [
       "document_text             List of National Football League career quarte...\n",
       "long_answer_candidates    [{'start_token': 28, 'top_level': True, 'end_t...\n",
       "question_text                              who had the most wins in the nfl\n",
       "annotations               [{'yes_no_answer': 'NONE', 'long_answer': {'st...\n",
       "document_url              https://en.wikipedia.org//w/index.php?title=Li...\n",
       "example_id                                              5289242154789678439\n",
       "Name: 3, dtype: object"
      ]
     },
     "execution_count": 230,
     "metadata": {},
     "output_type": "execute_result"
    }
   ],
   "source": [
    "fourth # this is a series containing all of the information that comes with a TRAINING set observation\n",
    "# notice the annotations which contains a dictionary of the correct answer as well as "
   ]
  },
  {
   "cell_type": "code",
   "execution_count": 231,
   "metadata": {},
   "outputs": [
    {
     "data": {
      "text/plain": [
       "example_id                                             -5316095317154496261\n",
       "question_text                      when was i want to sing in opera written\n",
       "document_text             Wilkie Bard - wikipedia <H1> Wilkie Bard </H1>...\n",
       "long_answer_candidates    [{'end_token': 105, 'start_token': 8, 'top_lev...\n",
       "Name: 3, dtype: object"
      ]
     },
     "execution_count": 231,
     "metadata": {},
     "output_type": "execute_result"
    }
   ],
   "source": [
    "fourthT = test_frame.iloc[3] # fourth observation of test set for contrast\n",
    "fourthT "
   ]
  },
  {
   "cell_type": "markdown",
   "metadata": {},
   "source": [
    "I quickly printed the fourth test set observation out just to illustrate that the test set is similar to the training set with the only difference being that the observations in the test set do not contain annotations and they do not contain the document url. The first makes sense to me, we cannot have the labels in our test set, but the fact that the document URL is ommitted is somewhat of a mystery to me, however it will not make much of a difference in the end."
   ]
  },
  {
   "cell_type": "markdown",
   "metadata": {},
   "source": [
    "Let us now get back to the topic at hand and continue with our NFL example."
   ]
  },
  {
   "cell_type": "code",
   "execution_count": 232,
   "metadata": {
    "scrolled": true
   },
   "outputs": [
    {
     "data": {
      "text/plain": [
       "'who had the most wins in the nfl'"
      ]
     },
     "execution_count": 232,
     "metadata": {},
     "output_type": "execute_result"
    }
   ],
   "source": [
    "fourth.question_text # here is the fourth question"
   ]
  },
  {
   "cell_type": "code",
   "execution_count": 233,
   "metadata": {
    "scrolled": true
   },
   "outputs": [
    {
     "data": {
      "text/plain": [
       "'https://en.wikipedia.org//w/index.php?title=List_of_National_Football_League_career_quarterback_wins_leaders&amp;oldid=818143757'"
      ]
     },
     "execution_count": 233,
     "metadata": {},
     "output_type": "execute_result"
    }
   ],
   "source": [
    "fourth.document_url # here is the url of the question. Notice how the (relevant) title is included in the URL"
   ]
  },
  {
   "cell_type": "markdown",
   "metadata": {},
   "source": [
    "I now display the annotations for this training set observation. Notice that it contains information on whether the question had a yes-no answer, the correct long answer tokens for indexing, the candidate index, meaning what index of the list of possible candidates the correct answer occured, the tokens for the short answer (if applicable), as well as an annotation ID which is unique from the id for the observation itself."
   ]
  },
  {
   "cell_type": "code",
   "execution_count": 234,
   "metadata": {
    "scrolled": true
   },
   "outputs": [
    {
     "data": {
      "text/plain": [
       "[{'yes_no_answer': 'NONE',\n",
       "  'long_answer': {'start_token': 509, 'candidate_index': 59, 'end_token': 576},\n",
       "  'short_answers': [{'start_token': 512, 'end_token': 514}],\n",
       "  'annotation_id': 14634796365152556576}]"
      ]
     },
     "execution_count": 234,
     "metadata": {},
     "output_type": "execute_result"
    }
   ],
   "source": [
    "fourth.annotations"
   ]
  },
  {
   "cell_type": "markdown",
   "metadata": {},
   "source": [
    "I am now tokenizing the text by splitting it using pythons .split() which has a default to split on white space."
   ]
  },
  {
   "cell_type": "code",
   "execution_count": 235,
   "metadata": {
    "scrolled": true
   },
   "outputs": [
    {
     "data": {
      "text/plain": [
       "['List',\n",
       " 'of',\n",
       " 'National',\n",
       " 'Football',\n",
       " 'League',\n",
       " 'career',\n",
       " 'quarterback',\n",
       " 'wins',\n",
       " 'leaders',\n",
       " '-',\n",
       " 'wikipedia',\n",
       " '<H1>',\n",
       " 'List',\n",
       " 'of',\n",
       " 'National',\n",
       " 'Football',\n",
       " 'League',\n",
       " 'career',\n",
       " 'quarterback',\n",
       " 'wins',\n",
       " 'leaders',\n",
       " '</H1>',\n",
       " 'Jump',\n",
       " 'to',\n",
       " ':',\n",
       " 'navigation',\n",
       " ',',\n",
       " 'search',\n",
       " '<Table>',\n",
       " '<Tr>']"
      ]
     },
     "execution_count": 235,
     "metadata": {},
     "output_type": "execute_result"
    }
   ],
   "source": [
    "fourth_tokenized = fourth.document_text.split()\n",
    "fourth_tokenized[:30] #only print out the first 30 tokens"
   ]
  },
  {
   "cell_type": "markdown",
   "metadata": {},
   "source": [
    "This is the correct long answer to the question:"
   ]
  },
  {
   "cell_type": "code",
   "execution_count": 236,
   "metadata": {
    "scrolled": true
   },
   "outputs": [
    {
     "data": {
      "text/plain": [
       "\"<P> Active quarterback Tom Brady holds the records for most wins with 220 , most regular season wins with 195 , and most postseason wins with 25 , as of Week 16 of the 2017 NFL season . Having played the entirety of his career with the New England Patriots , each of Brady 's win records also apply to wins with a single team . </P>\""
      ]
     },
     "execution_count": 236,
     "metadata": {},
     "output_type": "execute_result"
    }
   ],
   "source": [
    "\" \".join(fourth_tokenized[509:576]) # I join it so that it prints out more nicely.\n",
    "# Notice how it begins on ends on <P> and </P> I would guess that this is quite common given most \n",
    "# answers were likely found inside of a paragraph."
   ]
  },
  {
   "cell_type": "markdown",
   "metadata": {},
   "source": [
    "This is the short answer:"
   ]
  },
  {
   "cell_type": "code",
   "execution_count": 237,
   "metadata": {
    "scrolled": true
   },
   "outputs": [
    {
     "data": {
      "text/plain": [
       "'Tom Brady'"
      ]
     },
     "execution_count": 237,
     "metadata": {},
     "output_type": "execute_result"
    }
   ],
   "source": [
    "\" \".join(fourth_tokenized[512:514])"
   ]
  },
  {
   "cell_type": "code",
   "execution_count": 238,
   "metadata": {},
   "outputs": [
    {
     "data": {
      "text/plain": [
       "'There were 481 possible answers to choose from for the fourth question.'"
      ]
     },
     "execution_count": 238,
     "metadata": {},
     "output_type": "execute_result"
    }
   ],
   "source": [
    "\"There were \" + str(len(fourth.long_answer_candidates)) + \" possible answers to choose from for the fourth question.\""
   ]
  },
  {
   "cell_type": "markdown",
   "metadata": {},
   "source": [
    "That is quite a lot! Upon further evauation (that I ended up editing out because it is somewhat mundane) it appears that almost all of the paragraphs in the document are included as possible answers."
   ]
  },
  {
   "cell_type": "markdown",
   "metadata": {},
   "source": [
    "This gives me a decent idea of the various fields in the data set, I can now move on to some preliminary analysis."
   ]
  },
  {
   "cell_type": "markdown",
   "metadata": {},
   "source": [
    "# Quantitative Analysis and Graphs"
   ]
  },
  {
   "cell_type": "markdown",
   "metadata": {},
   "source": [
    "I now move on to exploring the numbers and trying to dig a little big deeper into the analytics of the data."
   ]
  },
  {
   "cell_type": "markdown",
   "metadata": {},
   "source": [
    "I start with seeing what the how many words the average question contained."
   ]
  },
  {
   "cell_type": "code",
   "execution_count": 239,
   "metadata": {
    "scrolled": true
   },
   "outputs": [],
   "source": [
    "question_length = []\n",
    "for i in range(len(train_frame)):\n",
    "    question_length.append(len((train_frame.loc[i, \"question_text\"]).split()))"
   ]
  },
  {
   "cell_type": "code",
   "execution_count": 240,
   "metadata": {
    "scrolled": true
   },
   "outputs": [
    {
     "data": {
      "text/plain": [
       "8     4428\n",
       "9     2386\n",
       "10    1218\n",
       "11     690\n",
       "12     368\n",
       "7      248\n",
       "13     246\n",
       "14     169\n",
       "15     103\n",
       "16      70\n",
       "17      35\n",
       "18      14\n",
       "6       13\n",
       "19      10\n",
       "20       2\n",
       "21       1\n",
       "dtype: int64"
      ]
     },
     "execution_count": 240,
     "metadata": {},
     "output_type": "execute_result"
    }
   ],
   "source": [
    "pd.Series(question_length).value_counts() #value counts saving the day once again"
   ]
  },
  {
   "cell_type": "markdown",
   "metadata": {},
   "source": [
    "Here is a bar chart representing the distribution of word lengths across the various questions."
   ]
  },
  {
   "cell_type": "code",
   "execution_count": 241,
   "metadata": {},
   "outputs": [
    {
     "data": {
      "text/plain": [
       "<matplotlib.axes._subplots.AxesSubplot at 0x7f953ef63f90>"
      ]
     },
     "execution_count": 241,
     "metadata": {},
     "output_type": "execute_result"
    },
    {
     "data": {
      "image/png": "[encoded data removed]",
      "text/plain": [
       "<Figure size 432x288 with 1 Axes>"
      ]
     },
     "metadata": {
      "needs_background": "light"
     },
     "output_type": "display_data"
    }
   ],
   "source": [
    "pd.Series(question_length).value_counts().plot.bar()"
   ]
  },
  {
   "cell_type": "markdown",
   "metadata": {},
   "source": [
    "It looks like the most common length of question was 8 words. Also there was a fair amount of questions that were 9 and 10 words. There are also some words that are greater than 20 words in length, these are questions that I may have to consider getting rid of as they may potentially interfere with some of the machine learning models that I plan to fit in the future."
   ]
  },
  {
   "cell_type": "code",
   "execution_count": 242,
   "metadata": {
    "scrolled": true
   },
   "outputs": [
    {
     "data": {
      "text/plain": [
       "9.221577842215778"
      ]
     },
     "execution_count": 242,
     "metadata": {},
     "output_type": "execute_result"
    }
   ],
   "source": [
    "pd.Series(question_length).mean()"
   ]
  },
  {
   "cell_type": "markdown",
   "metadata": {},
   "source": [
    "The mean length of question that was asked was 9.2216 words. "
   ]
  },
  {
   "cell_type": "markdown",
   "metadata": {},
   "source": [
    "# Answer Exploration"
   ]
  },
  {
   "cell_type": "markdown",
   "metadata": {},
   "source": [
    "I will now see what the average length of a long answer question was, similar to how I checked for the question lengths. Notice for this I am just subtracting the tokens rather than indexing in and calculating the length. I believe that this is faster as well as easier."
   ]
  },
  {
   "cell_type": "code",
   "execution_count": 243,
   "metadata": {},
   "outputs": [],
   "source": [
    "annotations_train = train_frame.annotations"
   ]
  },
  {
   "cell_type": "code",
   "execution_count": 244,
   "metadata": {
    "scrolled": true
   },
   "outputs": [],
   "source": [
    "long_answer_lengths = []\n",
    "for data in annotations_train:\n",
    "    long_answer_lengths.append((data[0][\"long_answer\"][\"end_token\"] - data[0][\"long_answer\"][\"start_token\"]))"
   ]
  },
  {
   "cell_type": "code",
   "execution_count": 245,
   "metadata": {
    "scrolled": true
   },
   "outputs": [],
   "source": [
    "LA_lengths = pd.Series(long_answer_lengths)"
   ]
  },
  {
   "cell_type": "code",
   "execution_count": 246,
   "metadata": {},
   "outputs": [
    {
     "data": {
      "text/plain": [
       "<matplotlib.axes._subplots.AxesSubplot at 0x7f93a6aa2110>"
      ]
     },
     "execution_count": 246,
     "metadata": {},
     "output_type": "execute_result"
    },
    {
     "data": {
      "image/png": "[encoded data removed]",
      "text/plain": [
       "<Figure size 432x288 with 1 Axes>"
      ]
     },
     "metadata": {
      "needs_background": "light"
     },
     "output_type": "display_data"
    }
   ],
   "source": [
    "LA_lengths.value_counts().head(10).plot.bar()"
   ]
  },
  {
   "cell_type": "markdown",
   "metadata": {},
   "source": [
    "Unsurpringly we see that 0 was the most common possible answer, trumping the next most common of 60, 76, and 124. I chose to keep this somewhat uninformative bar chart in to remind the reader that 0 was by **far** the most common length and that we really lose half of the observations in our analysis to those that do not have a potential long answer."
   ]
  },
  {
   "cell_type": "code",
   "execution_count": 247,
   "metadata": {
    "scrolled": true
   },
   "outputs": [
    {
     "data": {
      "text/plain": [
       "184.16288371162884"
      ]
     },
     "execution_count": 247,
     "metadata": {},
     "output_type": "execute_result"
    }
   ],
   "source": [
    "LA_lengths.mean()"
   ]
  },
  {
   "cell_type": "markdown",
   "metadata": {},
   "source": [
    "It appears that on average, including tags and answers that had no long answer, the average long answer length was 184.16 tokens long. If there was a long answer that did not have a yes/no answer then its tokens were -1 and -1 for start and end respectively and that would add a 0 for that repitition for the mean calculation. Taking this into account the average length for long answers that **did** exist was greater than 184."
   ]
  },
  {
   "cell_type": "markdown",
   "metadata": {},
   "source": [
    "I will now check the ratio, of the first 10,000 observations, in which there was a yes/no answer using a similar looping strategy as before."
   ]
  },
  {
   "cell_type": "code",
   "execution_count": 248,
   "metadata": {},
   "outputs": [],
   "source": [
    "yes_no_rate = []\n",
    "for entry in annotations_train:\n",
    "    if entry[0][\"yes_no_answer\"] == \"NONE\":\n",
    "        yes_no_rate.append(\"None\")\n",
    "    else:\n",
    "        yes_no_rate.append(\"Not None\")"
   ]
  },
  {
   "cell_type": "code",
   "execution_count": 249,
   "metadata": {},
   "outputs": [
    {
     "data": {
      "text/plain": [
       "None        9879\n",
       "Not None     122\n",
       "dtype: int64"
      ]
     },
     "execution_count": 249,
     "metadata": {},
     "output_type": "execute_result"
    }
   ],
   "source": [
    "pd.Series(yes_no_rate).value_counts()"
   ]
  },
  {
   "cell_type": "code",
   "execution_count": 250,
   "metadata": {},
   "outputs": [
    {
     "data": {
      "text/plain": [
       "<matplotlib.axes._subplots.AxesSubplot at 0x7f94471bee50>"
      ]
     },
     "execution_count": 250,
     "metadata": {},
     "output_type": "execute_result"
    },
    {
     "data": {
      "image/png": "[encoded data removed]",
      "text/plain": [
       "<Figure size 432x288 with 1 Axes>"
      ]
     },
     "metadata": {
      "needs_background": "light"
     },
     "output_type": "display_data"
    }
   ],
   "source": [
    "pd.Series(yes_no_rate).value_counts().plot.bar()"
   ]
  },
  {
   "cell_type": "markdown",
   "metadata": {},
   "source": [
    "It appears that actually 122 of the first 10,000 observations had short answers that were not NONE. This graph further illustrates the stark difference in counts between these two groups. There is a small and almost negligible proportion of answers the actually contained a yes/no answer. Now I will check the distribution of yeses and nos within the answers that were possible to answer with a yes or a no."
   ]
  },
  {
   "cell_type": "code",
   "execution_count": 251,
   "metadata": {},
   "outputs": [],
   "source": [
    "yes_no_rate = []\n",
    "for entry in annotations_train:\n",
    "    if entry[0][\"yes_no_answer\"] == \"NONE\":\n",
    "        continue\n",
    "    elif entry[0][\"yes_no_answer\"] == \"YES\":\n",
    "        yes_no_rate.append(\"Yes\")\n",
    "    elif entry[0][\"yes_no_answer\"] == \"NO\":\n",
    "        yes_no_rate.append(\"No\")\n",
    "    else:\n",
    "        yes_no_rate.append(\"Other\")"
   ]
  },
  {
   "cell_type": "code",
   "execution_count": 252,
   "metadata": {
    "scrolled": true
   },
   "outputs": [
    {
     "data": {
      "text/plain": [
       "<matplotlib.axes._subplots.AxesSubplot at 0x7f93a6b3d390>"
      ]
     },
     "execution_count": 252,
     "metadata": {},
     "output_type": "execute_result"
    },
    {
     "data": {
      "image/png": "[encoded data removed]",
      "text/plain": [
       "<Figure size 432x288 with 1 Axes>"
      ]
     },
     "metadata": {
      "needs_background": "light"
     },
     "output_type": "display_data"
    }
   ],
   "source": [
    "pd.Series(yes_no_rate).value_counts().plot.bar()"
   ]
  },
  {
   "cell_type": "code",
   "execution_count": 253,
   "metadata": {},
   "outputs": [
    {
     "data": {
      "text/plain": [
       "Yes    73\n",
       "No     49\n",
       "dtype: int64"
      ]
     },
     "execution_count": 253,
     "metadata": {},
     "output_type": "execute_result"
    }
   ],
   "source": [
    "pd.Series(yes_no_rate).value_counts()"
   ]
  },
  {
   "cell_type": "markdown",
   "metadata": {},
   "source": [
    "We can see that there were 73 yes answers of the yes/no's, and there were 49 no's out of all the yes/no's. Luckily there were no other values such as missing values that we would have to throw away. I wouldn't say this is an easy data set to work with but they spared us in that department."
   ]
  },
  {
   "cell_type": "markdown",
   "metadata": {},
   "source": [
    "Now, I will look at the target data and try to determine which words were the most common in the correct long answer responses of our training data."
   ]
  },
  {
   "cell_type": "markdown",
   "metadata": {},
   "source": [
    "I will do this by first looping through the training data frame and extracting the start and end indices and putting those into a data frame."
   ]
  },
  {
   "cell_type": "code",
   "execution_count": 254,
   "metadata": {},
   "outputs": [],
   "source": [
    "starting_index = []\n",
    "ending_index = []\n",
    "for i in range(len(train_frame)):\n",
    "    starting_index.append((train_frame.iloc[i][\"annotations\"][0][\"long_answer\"][\"start_token\"]))\n",
    "    ending_index.append((train_frame.iloc[i][\"annotations\"][0][\"long_answer\"][\"end_token\"]))"
   ]
  },
  {
   "cell_type": "code",
   "execution_count": 255,
   "metadata": {},
   "outputs": [],
   "source": [
    "index_frame = pd.DataFrame({\"start_token\": starting_index, \"end_token\": ending_index})\n",
    "# using the dictionary method for creating a data frame"
   ]
  },
  {
   "cell_type": "code",
   "execution_count": 256,
   "metadata": {},
   "outputs": [
    {
     "data": {
      "text/html": [
       "<div>\n",
       "<style scoped>\n",
       "    .dataframe tbody tr th:only-of-type {\n",
       "        vertical-align: middle;\n",
       "    }\n",
       "\n",
       "    .dataframe tbody tr th {\n",
       "        vertical-align: top;\n",
       "    }\n",
       "\n",
       "    .dataframe thead th {\n",
       "        text-align: right;\n",
       "    }\n",
       "</style>\n",
       "<table border=\"1\" class=\"dataframe\">\n",
       "  <thead>\n",
       "    <tr style=\"text-align: right;\">\n",
       "      <th></th>\n",
       "      <th>start_token</th>\n",
       "      <th>end_token</th>\n",
       "    </tr>\n",
       "  </thead>\n",
       "  <tbody>\n",
       "    <tr>\n",
       "      <td>0</td>\n",
       "      <td>1952</td>\n",
       "      <td>2019</td>\n",
       "    </tr>\n",
       "    <tr>\n",
       "      <td>1</td>\n",
       "      <td>212</td>\n",
       "      <td>310</td>\n",
       "    </tr>\n",
       "    <tr>\n",
       "      <td>2</td>\n",
       "      <td>319</td>\n",
       "      <td>438</td>\n",
       "    </tr>\n",
       "    <tr>\n",
       "      <td>3</td>\n",
       "      <td>509</td>\n",
       "      <td>576</td>\n",
       "    </tr>\n",
       "    <tr>\n",
       "      <td>6</td>\n",
       "      <td>82</td>\n",
       "      <td>169</td>\n",
       "    </tr>\n",
       "    <tr>\n",
       "      <td>...</td>\n",
       "      <td>...</td>\n",
       "      <td>...</td>\n",
       "    </tr>\n",
       "    <tr>\n",
       "      <td>9990</td>\n",
       "      <td>181</td>\n",
       "      <td>200</td>\n",
       "    </tr>\n",
       "    <tr>\n",
       "      <td>9991</td>\n",
       "      <td>267</td>\n",
       "      <td>317</td>\n",
       "    </tr>\n",
       "    <tr>\n",
       "      <td>9992</td>\n",
       "      <td>118</td>\n",
       "      <td>182</td>\n",
       "    </tr>\n",
       "    <tr>\n",
       "      <td>9993</td>\n",
       "      <td>108</td>\n",
       "      <td>128</td>\n",
       "    </tr>\n",
       "    <tr>\n",
       "      <td>9994</td>\n",
       "      <td>672</td>\n",
       "      <td>802</td>\n",
       "    </tr>\n",
       "  </tbody>\n",
       "</table>\n",
       "<p>5000 rows × 2 columns</p>\n",
       "</div>"
      ],
      "text/plain": [
       "      start_token  end_token\n",
       "0            1952       2019\n",
       "1             212        310\n",
       "2             319        438\n",
       "3             509        576\n",
       "6              82        169\n",
       "...           ...        ...\n",
       "9990          181        200\n",
       "9991          267        317\n",
       "9992          118        182\n",
       "9993          108        128\n",
       "9994          672        802\n",
       "\n",
       "[5000 rows x 2 columns]"
      ]
     },
     "execution_count": 256,
     "metadata": {},
     "output_type": "execute_result"
    }
   ],
   "source": [
    "index_frame_not_null = index_frame[index_frame[\"start_token\"] != -1] # I am getting rid of any questions that\n",
    "# had no long answer\n",
    "index_frame_not_null"
   ]
  },
  {
   "cell_type": "markdown",
   "metadata": {},
   "source": [
    "Extremely surprisingly, we see that 5,000 of the first 10,001 observations had a start index of -1, which for this data set means that there was no reasonable correct answer to the question that they were able to come up with. The surprising part is really that (virtually) EXACTLY half of the observations did not have a long answer out of the first 10,000 observations of the test data. I am not sure if this is by design or a random coincidence. Either way, now I am going to index into the dataframe to extract the text corresponding to all of the correct long answers."
   ]
  },
  {
   "cell_type": "code",
   "execution_count": 257,
   "metadata": {},
   "outputs": [],
   "source": [
    "words = []\n",
    "for i in range(10000):\n",
    "    if index_frame.iloc[i,0] != -1: #removing the non-existent long answers to stay consistent\n",
    "        words.append(train_frame[\"document_text\"][i].lower().split()[index_frame.iloc[i,0]:index_frame.iloc[i,1]])"
   ]
  },
  {
   "cell_type": "markdown",
   "metadata": {},
   "source": [
    "This shows that my code above worked and also illustrates the fact that not all answers come between the paragraph HTML symbols."
   ]
  },
  {
   "cell_type": "code",
   "execution_count": 258,
   "metadata": {},
   "outputs": [
    {
     "data": {
      "text/plain": [
       "0       [<p>, a, common, example, of, permission, mark...\n",
       "1       [<p>, tracy, mcconnell, ,, better, known, as, ...\n",
       "2       [<p>, the, process, of, fertilization, involve...\n",
       "3       [<p>, active, quarterback, tom, brady, holds, ...\n",
       "4       [<p>, pom, klementieff, (, born, 3, may, 1986,...\n",
       "                              ...                        \n",
       "4995    [<li>, south, dakota, 's, at, -, large, distri...\n",
       "4996    [<p>, ``, we, built, this, city, '', is, a, 19...\n",
       "4997    [<p>, a, ham, and, cheese, sandwich, is, a, co...\n",
       "4998    [<tr>, <th>, original, air, date, </th>, <td>,...\n",
       "4999    [<p>, commenting, on, the, band, 's, recording...\n",
       "Length: 5000, dtype: object"
      ]
     },
     "execution_count": 258,
     "metadata": {},
     "output_type": "execute_result"
    }
   ],
   "source": [
    "series_of_words = pd.Series(words)\n",
    "series_of_words"
   ]
  },
  {
   "cell_type": "markdown",
   "metadata": {},
   "source": [
    "Printing out the words that I just created we see that they are in the format of lists of lists, where each sublist corresponds to a question. I will now make them all into one list so that processing is easier."
   ]
  },
  {
   "cell_type": "code",
   "execution_count": 260,
   "metadata": {},
   "outputs": [],
   "source": [
    "big_list = []\n",
    "for sublist in words:\n",
    "    for word in sublist:\n",
    "        big_list.append(word)"
   ]
  },
  {
   "cell_type": "code",
   "execution_count": 261,
   "metadata": {},
   "outputs": [
    {
     "data": {
      "text/plain": [
       "'We have 1841813 words in this list containing words from all of the document texts.'"
      ]
     },
     "execution_count": 261,
     "metadata": {},
     "output_type": "execute_result"
    }
   ],
   "source": [
    "\"We have \" + str(len(big_list)) + \" words in this list containing words from all of the document texts.\""
   ]
  },
  {
   "cell_type": "markdown",
   "metadata": {},
   "source": [
    "It appears as though it worked! We can now use the Counter object to get the word counts (another option would be to use a count vectorizer)."
   ]
  },
  {
   "cell_type": "code",
   "execution_count": 262,
   "metadata": {},
   "outputs": [],
   "source": [
    "counts = Counter(big_list)"
   ]
  },
  {
   "cell_type": "markdown",
   "metadata": {},
   "source": [
    "I believe that the easiest way to search through this large Counter object is to just extract the most common words. But alas, we have a problem most of the most common words are HTML tags."
   ]
  },
  {
   "cell_type": "code",
   "execution_count": 263,
   "metadata": {},
   "outputs": [
    {
     "data": {
      "text/plain": [
       "[('</td>', 198860),\n",
       " ('<td>', 193576),\n",
       " (',', 60623),\n",
       " ('the', 45363),\n",
       " ('<tr>', 40554),\n",
       " ('</tr>', 40554),\n",
       " ('.', 32164),\n",
       " (')', 22706),\n",
       " ('(', 22685),\n",
       " ('and', 21952),\n",
       " ('of', 20865),\n",
       " ('-', 20321),\n",
       " ('to', 17457),\n",
       " ('in', 16070),\n",
       " ('</th>', 15224),\n",
       " ('a', 14761),\n",
       " ('--', 14262),\n",
       " ('<th>', 13774),\n",
       " ('<li>', 9692),\n",
       " ('</li>', 9692)]"
      ]
     },
     "execution_count": 263,
     "metadata": {},
     "output_type": "execute_result"
    }
   ],
   "source": [
    "counts.most_common(20)"
   ]
  },
  {
   "cell_type": "markdown",
   "metadata": {},
   "source": [
    "It appears as though there is going to be a lot of pre-processing that has to be done before this data can be easily used to make predictions. It appears as though regular expressions could be used."
   ]
  },
  {
   "cell_type": "markdown",
   "metadata": {},
   "source": [
    "I decided to make a long string of things to remove, although there are many different ways to do this."
   ]
  },
  {
   "cell_type": "markdown",
   "metadata": {},
   "source": [
    "I am looping through and removing all words that are in the removables string."
   ]
  },
  {
   "cell_type": "code",
   "execution_count": 264,
   "metadata": {},
   "outputs": [],
   "source": [
    "removables = \";,./?><()*^%$#@!</td><td><tr></tr>-<th></th>''--``<p></p>°\\ufeff♠'<li></li>'s:<td_colspan=\\\"2\\\"> \\\n",
    "<ul></ul><table></table><th_colspan=\\\"2\\\">\"\n",
    "big_list_filtered = []\n",
    "for word in big_list:\n",
    "    if word not in removables:\n",
    "        big_list_filtered.append(word)\n",
    "        \n",
    "most_common_100 = Counter(big_list_filtered).most_common(100)"
   ]
  },
  {
   "cell_type": "markdown",
   "metadata": {},
   "source": [
    "Now I have saved the most common 100 words into a list called most_common_100 I am going to now process this list into a dataframe so that it is nicer to view."
   ]
  },
  {
   "cell_type": "code",
   "execution_count": 265,
   "metadata": {},
   "outputs": [],
   "source": [
    "words = []\n",
    "counts = []\n",
    "for item in most_common_100: #processing before data frame creation\n",
    "    words.append(item[0])\n",
    "    counts.append(item[1])"
   ]
  },
  {
   "cell_type": "code",
   "execution_count": 266,
   "metadata": {},
   "outputs": [],
   "source": [
    "frequency_df = pd.DataFrame({\"word\": words, \"count\": counts}) #creating data frame"
   ]
  },
  {
   "cell_type": "code",
   "execution_count": 267,
   "metadata": {},
   "outputs": [],
   "source": [
    "frequency_df.set_index(\"word\", inplace = True) #setting the index to word"
   ]
  },
  {
   "cell_type": "markdown",
   "metadata": {},
   "source": [
    "Now I am plotting the top 15 words by their frequency and it is much of what you would expect. The top three words are the, and, (as well as) of. I didn't want to say and again."
   ]
  },
  {
   "cell_type": "code",
   "execution_count": 268,
   "metadata": {
    "scrolled": true
   },
   "outputs": [
    {
     "data": {
      "text/plain": [
       "<matplotlib.axes._subplots.AxesSubplot at 0x7f94c7e9e750>"
      ]
     },
     "execution_count": 268,
     "metadata": {},
     "output_type": "execute_result"
    },
    {
     "data": {
      "image/png": "[encoded data removed]",
      "text/plain": [
       "<Figure size 432x288 with 1 Axes>"
      ]
     },
     "metadata": {
      "needs_background": "light"
     },
     "output_type": "display_data"
    }
   ],
   "source": [
    "frequency_df.head(15).plot.bar()"
   ]
  },
  {
   "cell_type": "markdown",
   "metadata": {},
   "source": [
    "This bar chart seems very reasonable as I would have guessed that the word \"the\" would be the most commonly used word. The fact that my assumption of the most common words was correct suggests that a tf-idf vectorizer may have better performance for predicting than just a regular count vectorizer since a count vectorizer is likely to give too much weight to these common and less meaningful words that are shown above.\n",
    "\n",
    "Now, I will attempt to discover whether or not there is an association with questions and their answers."
   ]
  },
  {
   "cell_type": "markdown",
   "metadata": {},
   "source": [
    "# Question Exploration"
   ]
  },
  {
   "cell_type": "markdown",
   "metadata": {},
   "source": [
    "Lets take a quick look at the format that the questions are in just to refresh our memory. We have a series of questions."
   ]
  },
  {
   "cell_type": "code",
   "execution_count": 269,
   "metadata": {},
   "outputs": [
    {
     "data": {
      "text/plain": [
       "0    which is the most common use of opt-in e-mail ...\n",
       "1              how i.met your mother who is the mother\n",
       "2     what type of fertilisation takes place in humans\n",
       "3                     who had the most wins in the nfl\n",
       "4      what happened to the lost settlement of roanoke\n",
       "Name: question_text, dtype: object"
      ]
     },
     "execution_count": 269,
     "metadata": {},
     "output_type": "execute_result"
    }
   ],
   "source": [
    "train_frame.question_text.head()"
   ]
  },
  {
   "cell_type": "markdown",
   "metadata": {},
   "source": [
    "I am going to get all of the words from the questions into one large list."
   ]
  },
  {
   "cell_type": "code",
   "execution_count": 270,
   "metadata": {},
   "outputs": [],
   "source": [
    "question_words = []\n",
    "for word in train_frame.question_text: # This is an intermediate step where I am getting a list of lists\n",
    "    question_words.append(word.split())"
   ]
  },
  {
   "cell_type": "code",
   "execution_count": 271,
   "metadata": {},
   "outputs": [],
   "source": [
    "mega_word = []\n",
    "for sublist in question_words: # this is where I am actually generating the large list of all the words\n",
    "    for word in sublist:\n",
    "        mega_word.append(word)"
   ]
  },
  {
   "cell_type": "markdown",
   "metadata": {},
   "source": [
    "The following code extracts the 20 most common words."
   ]
  },
  {
   "cell_type": "code",
   "execution_count": 272,
   "metadata": {},
   "outputs": [],
   "source": [
    "question_counts = Counter(mega_word).most_common(20)"
   ]
  },
  {
   "cell_type": "code",
   "execution_count": 273,
   "metadata": {},
   "outputs": [
    {
     "data": {
      "text/plain": [
       "[('the', 8506),\n",
       " ('of', 3778),\n",
       " ('in', 3402),\n",
       " ('who', 2624),\n",
       " ('is', 2277),\n",
       " ('what', 1676),\n",
       " ('when', 1391),\n",
       " ('a', 1296),\n",
       " ('to', 1170),\n",
       " ('and', 1086),\n",
       " ('where', 1061),\n",
       " ('did', 1025),\n",
       " ('was', 939),\n",
       " ('does', 858),\n",
       " ('on', 844),\n",
       " ('how', 715),\n",
       " ('are', 601),\n",
       " ('for', 573),\n",
       " ('from', 530),\n",
       " ('come', 472)]"
      ]
     },
     "execution_count": 273,
     "metadata": {},
     "output_type": "execute_result"
    }
   ],
   "source": [
    "question_counts"
   ]
  },
  {
   "cell_type": "markdown",
   "metadata": {},
   "source": [
    "I now get my words into a data frame once again so that I can easily plot the distribution of most common words."
   ]
  },
  {
   "cell_type": "code",
   "execution_count": 274,
   "metadata": {},
   "outputs": [],
   "source": [
    "words = [] \n",
    "counts = []\n",
    "for item in question_counts:\n",
    "    words.append(item[0])\n",
    "    counts.append(item[1])"
   ]
  },
  {
   "cell_type": "code",
   "execution_count": 275,
   "metadata": {},
   "outputs": [
    {
     "data": {
      "text/plain": [
       "<matplotlib.axes._subplots.AxesSubplot at 0x7f9577f6ee90>"
      ]
     },
     "execution_count": 275,
     "metadata": {},
     "output_type": "execute_result"
    },
    {
     "data": {
      "image/png": "[encoded data removed]",
      "text/plain": [
       "<Figure size 432x288 with 1 Axes>"
      ]
     },
     "metadata": {
      "needs_background": "light"
     },
     "output_type": "display_data"
    }
   ],
   "source": [
    "frequency_df = pd.DataFrame({\"word\": words, \"count\": counts})\n",
    "frequency_df.set_index(\"word\", inplace = True)\n",
    "frequency_df.head(15).plot.bar()"
   ]
  },
  {
   "cell_type": "markdown",
   "metadata": {},
   "source": [
    "We get a similar distribution here as well. Showing that a tf-idf vectorizer would likely be beneficial on both the questions and the long answers. We only checked the correct long answers, but I think that many of the incorrect long answers would likely contain many of the same common words."
   ]
  },
  {
   "cell_type": "markdown",
   "metadata": {},
   "source": [
    "# TF-IDF Exploration"
   ]
  },
  {
   "cell_type": "markdown",
   "metadata": {},
   "source": [
    "We just saw what the most common words were in both the question and the correct long answers. Let me now try to determine what the most *meaningful* word is in both the questions and the document correct answers. It likely is not the most common word or else the tf-idf would be out of business."
   ]
  },
  {
   "cell_type": "markdown",
   "metadata": {},
   "source": [
    "I will pull up the series of correct answers that I have from before where each observation in the series corresponds to a correct answer."
   ]
  },
  {
   "cell_type": "code",
   "execution_count": 276,
   "metadata": {},
   "outputs": [],
   "source": [
    "series_of_words = series_of_words.apply(lambda x : \" \".join(x))"
   ]
  },
  {
   "cell_type": "code",
   "execution_count": 277,
   "metadata": {},
   "outputs": [
    {
     "data": {
      "text/plain": [
       "0       <p> a common example of permission marketing i...\n",
       "1       <p> tracy mcconnell , better known as `` the m...\n",
       "2       <p> the process of fertilization involves a sp...\n",
       "3       <p> active quarterback tom brady holds the rec...\n",
       "4       <p> pom klementieff ( born 3 may 1986 ) is a f...\n",
       "                              ...                        \n",
       "4995    <li> south dakota 's at - large district : kri...\n",
       "4996    <p> `` we built this city '' is a 1985 song wr...\n",
       "4997    <p> a ham and cheese sandwich is a common type...\n",
       "4998    <tr> <th> original air date </th> <td> may 6 ,...\n",
       "4999    <p> commenting on the band 's recording of `` ...\n",
       "Length: 5000, dtype: object"
      ]
     },
     "execution_count": 277,
     "metadata": {},
     "output_type": "execute_result"
    }
   ],
   "source": [
    "series_of_words # I just made a quick formatting change to get it ready to be vectorized."
   ]
  },
  {
   "cell_type": "markdown",
   "metadata": {},
   "source": [
    "I will now create a TfidfVectorizer and fit it on the series of words shown above. First, I create the vectorizer, then fit it on the series of words where each answer represents a document, then I transform the series and turn it into a pandas dataframe for ease of analysis. I use english as stop words here, just because it could potentially improve results."
   ]
  },
  {
   "cell_type": "code",
   "execution_count": 278,
   "metadata": {},
   "outputs": [],
   "source": [
    "tfidf = TfidfVectorizer(\"english\")"
   ]
  },
  {
   "cell_type": "code",
   "execution_count": 279,
   "metadata": {},
   "outputs": [
    {
     "data": {
      "text/plain": [
       "TfidfVectorizer(analyzer='word', binary=False, decode_error='strict',\n",
       "                dtype=<class 'numpy.float64'>, encoding='utf-8',\n",
       "                input='english', lowercase=True, max_df=1.0, max_features=None,\n",
       "                min_df=1, ngram_range=(1, 1), norm='l2', preprocessor=None,\n",
       "                smooth_idf=True, stop_words=None, strip_accents=None,\n",
       "                sublinear_tf=False, token_pattern='(?u)\\\\b\\\\w\\\\w+\\\\b',\n",
       "                tokenizer=None, use_idf=True, vocabulary=None)"
      ]
     },
     "execution_count": 279,
     "metadata": {},
     "output_type": "execute_result"
    }
   ],
   "source": [
    "tfidf.fit(series_of_words)"
   ]
  },
  {
   "cell_type": "code",
   "execution_count": 280,
   "metadata": {},
   "outputs": [],
   "source": [
    "word_matrices = tfidf.transform(series_of_words)"
   ]
  },
  {
   "cell_type": "code",
   "execution_count": 281,
   "metadata": {},
   "outputs": [],
   "source": [
    "word_matrices = pd.DataFrame.sparse.from_spmatrix(word_matrices)"
   ]
  },
  {
   "cell_type": "markdown",
   "metadata": {},
   "source": [
    "Each column of this data frame represents a word and each row represents one of the 5000 non empty questions."
   ]
  },
  {
   "cell_type": "code",
   "execution_count": 282,
   "metadata": {},
   "outputs": [
    {
     "data": {
      "text/html": [
       "<div>\n",
       "<style scoped>\n",
       "    .dataframe tbody tr th:only-of-type {\n",
       "        vertical-align: middle;\n",
       "    }\n",
       "\n",
       "    .dataframe tbody tr th {\n",
       "        vertical-align: top;\n",
       "    }\n",
       "\n",
       "    .dataframe thead th {\n",
       "        text-align: right;\n",
       "    }\n",
       "</style>\n",
       "<table border=\"1\" class=\"dataframe\">\n",
       "  <thead>\n",
       "    <tr style=\"text-align: right;\">\n",
       "      <th></th>\n",
       "      <th>0</th>\n",
       "      <th>1</th>\n",
       "      <th>2</th>\n",
       "      <th>3</th>\n",
       "      <th>4</th>\n",
       "      <th>5</th>\n",
       "      <th>6</th>\n",
       "      <th>7</th>\n",
       "      <th>8</th>\n",
       "      <th>9</th>\n",
       "      <th>...</th>\n",
       "      <th>66447</th>\n",
       "      <th>66448</th>\n",
       "      <th>66449</th>\n",
       "      <th>66450</th>\n",
       "      <th>66451</th>\n",
       "      <th>66452</th>\n",
       "      <th>66453</th>\n",
       "      <th>66454</th>\n",
       "      <th>66455</th>\n",
       "      <th>66456</th>\n",
       "    </tr>\n",
       "  </thead>\n",
       "  <tbody>\n",
       "    <tr>\n",
       "      <td>0</td>\n",
       "      <td>0.0</td>\n",
       "      <td>0.0</td>\n",
       "      <td>0.0</td>\n",
       "      <td>0.0</td>\n",
       "      <td>0.0</td>\n",
       "      <td>0.0</td>\n",
       "      <td>0.0</td>\n",
       "      <td>0.0</td>\n",
       "      <td>0.0</td>\n",
       "      <td>0.0</td>\n",
       "      <td>...</td>\n",
       "      <td>0.0</td>\n",
       "      <td>0.0</td>\n",
       "      <td>0.0</td>\n",
       "      <td>0.0</td>\n",
       "      <td>0.0</td>\n",
       "      <td>0.0</td>\n",
       "      <td>0.0</td>\n",
       "      <td>0.0</td>\n",
       "      <td>0.0</td>\n",
       "      <td>0.0</td>\n",
       "    </tr>\n",
       "    <tr>\n",
       "      <td>1</td>\n",
       "      <td>0.0</td>\n",
       "      <td>0.0</td>\n",
       "      <td>0.0</td>\n",
       "      <td>0.0</td>\n",
       "      <td>0.0</td>\n",
       "      <td>0.0</td>\n",
       "      <td>0.0</td>\n",
       "      <td>0.0</td>\n",
       "      <td>0.0</td>\n",
       "      <td>0.0</td>\n",
       "      <td>...</td>\n",
       "      <td>0.0</td>\n",
       "      <td>0.0</td>\n",
       "      <td>0.0</td>\n",
       "      <td>0.0</td>\n",
       "      <td>0.0</td>\n",
       "      <td>0.0</td>\n",
       "      <td>0.0</td>\n",
       "      <td>0.0</td>\n",
       "      <td>0.0</td>\n",
       "      <td>0.0</td>\n",
       "    </tr>\n",
       "    <tr>\n",
       "      <td>2</td>\n",
       "      <td>0.0</td>\n",
       "      <td>0.0</td>\n",
       "      <td>0.0</td>\n",
       "      <td>0.0</td>\n",
       "      <td>0.0</td>\n",
       "      <td>0.0</td>\n",
       "      <td>0.0</td>\n",
       "      <td>0.0</td>\n",
       "      <td>0.0</td>\n",
       "      <td>0.0</td>\n",
       "      <td>...</td>\n",
       "      <td>0.0</td>\n",
       "      <td>0.0</td>\n",
       "      <td>0.0</td>\n",
       "      <td>0.0</td>\n",
       "      <td>0.0</td>\n",
       "      <td>0.0</td>\n",
       "      <td>0.0</td>\n",
       "      <td>0.0</td>\n",
       "      <td>0.0</td>\n",
       "      <td>0.0</td>\n",
       "    </tr>\n",
       "    <tr>\n",
       "      <td>3</td>\n",
       "      <td>0.0</td>\n",
       "      <td>0.0</td>\n",
       "      <td>0.0</td>\n",
       "      <td>0.0</td>\n",
       "      <td>0.0</td>\n",
       "      <td>0.0</td>\n",
       "      <td>0.0</td>\n",
       "      <td>0.0</td>\n",
       "      <td>0.0</td>\n",
       "      <td>0.0</td>\n",
       "      <td>...</td>\n",
       "      <td>0.0</td>\n",
       "      <td>0.0</td>\n",
       "      <td>0.0</td>\n",
       "      <td>0.0</td>\n",
       "      <td>0.0</td>\n",
       "      <td>0.0</td>\n",
       "      <td>0.0</td>\n",
       "      <td>0.0</td>\n",
       "      <td>0.0</td>\n",
       "      <td>0.0</td>\n",
       "    </tr>\n",
       "    <tr>\n",
       "      <td>4</td>\n",
       "      <td>0.0</td>\n",
       "      <td>0.0</td>\n",
       "      <td>0.0</td>\n",
       "      <td>0.0</td>\n",
       "      <td>0.0</td>\n",
       "      <td>0.0</td>\n",
       "      <td>0.0</td>\n",
       "      <td>0.0</td>\n",
       "      <td>0.0</td>\n",
       "      <td>0.0</td>\n",
       "      <td>...</td>\n",
       "      <td>0.0</td>\n",
       "      <td>0.0</td>\n",
       "      <td>0.0</td>\n",
       "      <td>0.0</td>\n",
       "      <td>0.0</td>\n",
       "      <td>0.0</td>\n",
       "      <td>0.0</td>\n",
       "      <td>0.0</td>\n",
       "      <td>0.0</td>\n",
       "      <td>0.0</td>\n",
       "    </tr>\n",
       "    <tr>\n",
       "      <td>...</td>\n",
       "      <td>...</td>\n",
       "      <td>...</td>\n",
       "      <td>...</td>\n",
       "      <td>...</td>\n",
       "      <td>...</td>\n",
       "      <td>...</td>\n",
       "      <td>...</td>\n",
       "      <td>...</td>\n",
       "      <td>...</td>\n",
       "      <td>...</td>\n",
       "      <td>...</td>\n",
       "      <td>...</td>\n",
       "      <td>...</td>\n",
       "      <td>...</td>\n",
       "      <td>...</td>\n",
       "      <td>...</td>\n",
       "      <td>...</td>\n",
       "      <td>...</td>\n",
       "      <td>...</td>\n",
       "      <td>...</td>\n",
       "      <td>...</td>\n",
       "    </tr>\n",
       "    <tr>\n",
       "      <td>4995</td>\n",
       "      <td>0.0</td>\n",
       "      <td>0.0</td>\n",
       "      <td>0.0</td>\n",
       "      <td>0.0</td>\n",
       "      <td>0.0</td>\n",
       "      <td>0.0</td>\n",
       "      <td>0.0</td>\n",
       "      <td>0.0</td>\n",
       "      <td>0.0</td>\n",
       "      <td>0.0</td>\n",
       "      <td>...</td>\n",
       "      <td>0.0</td>\n",
       "      <td>0.0</td>\n",
       "      <td>0.0</td>\n",
       "      <td>0.0</td>\n",
       "      <td>0.0</td>\n",
       "      <td>0.0</td>\n",
       "      <td>0.0</td>\n",
       "      <td>0.0</td>\n",
       "      <td>0.0</td>\n",
       "      <td>0.0</td>\n",
       "    </tr>\n",
       "    <tr>\n",
       "      <td>4996</td>\n",
       "      <td>0.0</td>\n",
       "      <td>0.0</td>\n",
       "      <td>0.0</td>\n",
       "      <td>0.0</td>\n",
       "      <td>0.0</td>\n",
       "      <td>0.0</td>\n",
       "      <td>0.0</td>\n",
       "      <td>0.0</td>\n",
       "      <td>0.0</td>\n",
       "      <td>0.0</td>\n",
       "      <td>...</td>\n",
       "      <td>0.0</td>\n",
       "      <td>0.0</td>\n",
       "      <td>0.0</td>\n",
       "      <td>0.0</td>\n",
       "      <td>0.0</td>\n",
       "      <td>0.0</td>\n",
       "      <td>0.0</td>\n",
       "      <td>0.0</td>\n",
       "      <td>0.0</td>\n",
       "      <td>0.0</td>\n",
       "    </tr>\n",
       "    <tr>\n",
       "      <td>4997</td>\n",
       "      <td>0.0</td>\n",
       "      <td>0.0</td>\n",
       "      <td>0.0</td>\n",
       "      <td>0.0</td>\n",
       "      <td>0.0</td>\n",
       "      <td>0.0</td>\n",
       "      <td>0.0</td>\n",
       "      <td>0.0</td>\n",
       "      <td>0.0</td>\n",
       "      <td>0.0</td>\n",
       "      <td>...</td>\n",
       "      <td>0.0</td>\n",
       "      <td>0.0</td>\n",
       "      <td>0.0</td>\n",
       "      <td>0.0</td>\n",
       "      <td>0.0</td>\n",
       "      <td>0.0</td>\n",
       "      <td>0.0</td>\n",
       "      <td>0.0</td>\n",
       "      <td>0.0</td>\n",
       "      <td>0.0</td>\n",
       "    </tr>\n",
       "    <tr>\n",
       "      <td>4998</td>\n",
       "      <td>0.0</td>\n",
       "      <td>0.0</td>\n",
       "      <td>0.0</td>\n",
       "      <td>0.0</td>\n",
       "      <td>0.0</td>\n",
       "      <td>0.0</td>\n",
       "      <td>0.0</td>\n",
       "      <td>0.0</td>\n",
       "      <td>0.0</td>\n",
       "      <td>0.0</td>\n",
       "      <td>...</td>\n",
       "      <td>0.0</td>\n",
       "      <td>0.0</td>\n",
       "      <td>0.0</td>\n",
       "      <td>0.0</td>\n",
       "      <td>0.0</td>\n",
       "      <td>0.0</td>\n",
       "      <td>0.0</td>\n",
       "      <td>0.0</td>\n",
       "      <td>0.0</td>\n",
       "      <td>0.0</td>\n",
       "    </tr>\n",
       "    <tr>\n",
       "      <td>4999</td>\n",
       "      <td>0.0</td>\n",
       "      <td>0.0</td>\n",
       "      <td>0.0</td>\n",
       "      <td>0.0</td>\n",
       "      <td>0.0</td>\n",
       "      <td>0.0</td>\n",
       "      <td>0.0</td>\n",
       "      <td>0.0</td>\n",
       "      <td>0.0</td>\n",
       "      <td>0.0</td>\n",
       "      <td>...</td>\n",
       "      <td>0.0</td>\n",
       "      <td>0.0</td>\n",
       "      <td>0.0</td>\n",
       "      <td>0.0</td>\n",
       "      <td>0.0</td>\n",
       "      <td>0.0</td>\n",
       "      <td>0.0</td>\n",
       "      <td>0.0</td>\n",
       "      <td>0.0</td>\n",
       "      <td>0.0</td>\n",
       "    </tr>\n",
       "  </tbody>\n",
       "</table>\n",
       "<p>5000 rows × 66457 columns</p>\n",
       "</div>"
      ],
      "text/plain": [
       "      0      1      2      3      4      5      6      7      8      9      \\\n",
       "0       0.0    0.0    0.0    0.0    0.0    0.0    0.0    0.0    0.0    0.0   \n",
       "1       0.0    0.0    0.0    0.0    0.0    0.0    0.0    0.0    0.0    0.0   \n",
       "2       0.0    0.0    0.0    0.0    0.0    0.0    0.0    0.0    0.0    0.0   \n",
       "3       0.0    0.0    0.0    0.0    0.0    0.0    0.0    0.0    0.0    0.0   \n",
       "4       0.0    0.0    0.0    0.0    0.0    0.0    0.0    0.0    0.0    0.0   \n",
       "...     ...    ...    ...    ...    ...    ...    ...    ...    ...    ...   \n",
       "4995    0.0    0.0    0.0    0.0    0.0    0.0    0.0    0.0    0.0    0.0   \n",
       "4996    0.0    0.0    0.0    0.0    0.0    0.0    0.0    0.0    0.0    0.0   \n",
       "4997    0.0    0.0    0.0    0.0    0.0    0.0    0.0    0.0    0.0    0.0   \n",
       "4998    0.0    0.0    0.0    0.0    0.0    0.0    0.0    0.0    0.0    0.0   \n",
       "4999    0.0    0.0    0.0    0.0    0.0    0.0    0.0    0.0    0.0    0.0   \n",
       "\n",
       "      ...  66447  66448  66449  66450  66451  66452  66453  66454  66455  \\\n",
       "0     ...    0.0    0.0    0.0    0.0    0.0    0.0    0.0    0.0    0.0   \n",
       "1     ...    0.0    0.0    0.0    0.0    0.0    0.0    0.0    0.0    0.0   \n",
       "2     ...    0.0    0.0    0.0    0.0    0.0    0.0    0.0    0.0    0.0   \n",
       "3     ...    0.0    0.0    0.0    0.0    0.0    0.0    0.0    0.0    0.0   \n",
       "4     ...    0.0    0.0    0.0    0.0    0.0    0.0    0.0    0.0    0.0   \n",
       "...   ...    ...    ...    ...    ...    ...    ...    ...    ...    ...   \n",
       "4995  ...    0.0    0.0    0.0    0.0    0.0    0.0    0.0    0.0    0.0   \n",
       "4996  ...    0.0    0.0    0.0    0.0    0.0    0.0    0.0    0.0    0.0   \n",
       "4997  ...    0.0    0.0    0.0    0.0    0.0    0.0    0.0    0.0    0.0   \n",
       "4998  ...    0.0    0.0    0.0    0.0    0.0    0.0    0.0    0.0    0.0   \n",
       "4999  ...    0.0    0.0    0.0    0.0    0.0    0.0    0.0    0.0    0.0   \n",
       "\n",
       "      66456  \n",
       "0       0.0  \n",
       "1       0.0  \n",
       "2       0.0  \n",
       "3       0.0  \n",
       "4       0.0  \n",
       "...     ...  \n",
       "4995    0.0  \n",
       "4996    0.0  \n",
       "4997    0.0  \n",
       "4998    0.0  \n",
       "4999    0.0  \n",
       "\n",
       "[5000 rows x 66457 columns]"
      ]
     },
     "execution_count": 282,
     "metadata": {},
     "output_type": "execute_result"
    }
   ],
   "source": [
    "word_matrices"
   ]
  },
  {
   "cell_type": "code",
   "execution_count": 283,
   "metadata": {},
   "outputs": [],
   "source": [
    "idf = tfidf.idf_"
   ]
  },
  {
   "cell_type": "code",
   "execution_count": 284,
   "metadata": {},
   "outputs": [],
   "source": [
    "words_tfidfs = dict(zip(tfidf.get_feature_names(), idf))"
   ]
  },
  {
   "cell_type": "code",
   "execution_count": 285,
   "metadata": {},
   "outputs": [],
   "source": [
    "ordered_dict = {k: v for k, v in sorted(words_tfidfs.items(), key=lambda item: item[1], reverse = True)}"
   ]
  },
  {
   "cell_type": "markdown",
   "metadata": {},
   "source": [
    "We clearly have a problem here, we see that all of the words with the highest tf-idf score are all long numbers that likely only occurred once and add pretty much no practical meaning to the answer. I believe that getting rid of these would improve prediction accuracy."
   ]
  },
  {
   "cell_type": "code",
   "execution_count": 286,
   "metadata": {},
   "outputs": [
    {
     "data": {
      "text/plain": [
       "{'00000': 8.824245990858959,\n",
       " '0000000000000000000': 8.824245990858959,\n",
       " '000000000100': 8.824245990858959,\n",
       " '000000000117': 8.824245990858959,\n",
       " '000000000280': 8.824245990858959,\n",
       " '000000000400': 8.824245990858959,\n",
       " '000000000441': 8.824245990858959,\n",
       " '000000000470': 8.824245990858959,\n",
       " '000000000550': 8.824245990858959,\n",
       " '000000000557': 8.824245990858959,\n",
       " '000000000589': 8.824245990858959,\n",
       " '000000000624': 8.824245990858959,\n",
       " '000000000630': 8.824245990858959,\n",
       " '000000000655': 8.824245990858959,\n",
       " '000000000715': 8.824245990858959,\n",
       " '000000000720': 8.824245990858959,\n",
       " '000000000750': 8.824245990858959,\n",
       " '000000000800': 8.824245990858959,\n",
       " '000000000850': 8.824245990858959,\n",
       " '000000000969': 8.824245990858959,\n",
       " '000000000980': 8.824245990858959,\n",
       " '000000001029': 8.824245990858959,\n",
       " '000000001080': 8.824245990858959,\n",
       " '000000001218': 8.824245990858959,\n",
       " '000000001270': 8.824245990858959,\n",
       " '000000001309': 8.824245990858959,\n",
       " '000000001310': 8.824245990858959,\n",
       " '000000001312': 8.824245990858959,\n",
       " '000000001350': 8.824245990858959,\n",
       " '000000001405': 8.824245990858959}"
      ]
     },
     "execution_count": 286,
     "metadata": {},
     "output_type": "execute_result"
    }
   ],
   "source": [
    "dict(list(ordered_dict.items())[0:30])"
   ]
  },
  {
   "cell_type": "code",
   "execution_count": 287,
   "metadata": {},
   "outputs": [],
   "source": [
    "res = []\n",
    "for i in range(len(series_of_words)):\n",
    "    sublist = []\n",
    "    temp = series_of_words[i].split()\n",
    "    for word in temp:\n",
    "        if not word.isdigit() and not word.isnumeric():\n",
    "            sublist.append(word)\n",
    "    res.append(sublist)"
   ]
  },
  {
   "cell_type": "code",
   "execution_count": 288,
   "metadata": {},
   "outputs": [],
   "source": [
    "series_of_words = pd.Series(res)\n",
    "series_of_words = series_of_words.apply(lambda x : \" \".join(x))"
   ]
  },
  {
   "cell_type": "code",
   "execution_count": 289,
   "metadata": {},
   "outputs": [
    {
     "data": {
      "text/plain": [
       "{'0000': 8.824245990858959,\n",
       " '00001': 8.824245990858959,\n",
       " '000179': 8.824245990858959,\n",
       " '0002': 8.824245990858959,\n",
       " '0003': 8.824245990858959,\n",
       " '0004': 8.824245990858959,\n",
       " '000524': 8.824245990858959,\n",
       " '0006': 8.824245990858959,\n",
       " '0007': 8.824245990858959,\n",
       " '0008': 8.824245990858959,\n",
       " '0009': 8.824245990858959,\n",
       " '0011': 8.824245990858959,\n",
       " '0012': 8.824245990858959,\n",
       " '0014': 8.824245990858959,\n",
       " '0016': 8.824245990858959,\n",
       " '0018': 8.824245990858959,\n",
       " '001818': 8.824245990858959,\n",
       " '00218': 8.824245990858959,\n",
       " '0025': 8.824245990858959,\n",
       " '0030': 8.824245990858959,\n",
       " '0031': 8.824245990858959,\n",
       " '0068': 8.824245990858959,\n",
       " '0069': 8.824245990858959,\n",
       " '0070': 8.824245990858959,\n",
       " '00787': 8.824245990858959,\n",
       " '0085': 8.824245990858959,\n",
       " '008c45': 8.824245990858959,\n",
       " '0093': 8.824245990858959,\n",
       " '0094': 8.824245990858959,\n",
       " '00am': 8.824245990858959}"
      ]
     },
     "execution_count": 289,
     "metadata": {},
     "output_type": "execute_result"
    }
   ],
   "source": [
    "tfidf = TfidfVectorizer(stop_words = \"english\") # I attempted to use this parameter to improve the results\n",
    "tfidf.fit(series_of_words)\n",
    "word_matrices = tfidf.transform(series_of_words)\n",
    "word_matrices = pd.DataFrame.sparse.from_spmatrix(word_matrices)\n",
    "idf = tfidf.idf_\n",
    "words_tfidfs = dict(zip(tfidf.get_feature_names(), idf))\n",
    "ordered_dict = {k: v for k, v in sorted(words_tfidfs.items(), key=lambda item: item[1], reverse = True)}\n",
    "dict(list(ordered_dict.items())[0:30])"
   ]
  },
  {
   "cell_type": "markdown",
   "metadata": {},
   "source": [
    "For some reason the code above does not work quite as I had hoped that it would. Regardless I think that it will not make much of a difference in my results, given that they are quite rare words and who knows maybe seeing a long number like that will hint the classifier that that is not a correct answer."
   ]
  },
  {
   "cell_type": "markdown",
   "metadata": {},
   "source": [
    "A somewhat interesting thing to note though, upon looking at these numbers is the 8.824245990858959 seems to be the highest that an inverse document frequency weight can go up to. I wonder if this number has some special meaning."
   ]
  }
 ],
 "metadata": {
  "kernelspec": {
   "display_name": "Python 3",
   "language": "python",
   "name": "python3"
  },
  "language_info": {
   "codemirror_mode": {
    "name": "ipython",
    "version": 3
   },
   "file_extension": ".py",
   "mimetype": "text/x-python",
   "name": "python",
   "nbconvert_exporter": "python",
   "pygments_lexer": "ipython3",
   "version": "3.7.4"
  }
 },
 "nbformat": 4,
 "nbformat_minor": 4
}
